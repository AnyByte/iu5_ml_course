{
 "cells": [
  {
   "cell_type": "markdown",
   "metadata": {},
   "source": [
    "# Цель лабораторной работы\n",
    "Изучить линейные модели, SVM и деревья решений<cite data-cite=\"ue:lab5\"></cite>."
   ]
  },
  {
   "cell_type": "markdown",
   "metadata": {},
   "source": [
    "# Задание\n",
    "Требуется выполнить следующие действия<cite data-cite=\"ue:lab5\"></cite>:\n",
    "\n",
    "1. Выбрать набор данных (датасет) для&nbsp;решения задачи классификации или регресии.\n",
    "2. В&nbsp;случае необходимости проведите удаление или заполнение пропусков и кодирование категориальных признаков.\n",
    "3. С&nbsp;использованием метода `train_test_split` разделите выборку на&nbsp;обучающую и тестовую.\n",
    "4. Обучите одну из&nbsp;линейных моделей, SVM и дерево решений. Оцените качество модели с&nbsp;помощью трех подходящих для&nbsp;задачи метрик. Сравните качество полученных моделей.\n",
    "5. Произведите для&nbsp;каждой модели подбор одного гиперпараметра с&nbsp;использованием `GridSearchCV` и кросс-валидации.\n",
    "6. Повторите пункт&nbsp;4 для&nbsp;найденных оптимальных значения гиперпараметров. Сравните качество полученных моделей с&nbsp;качеством моделей, полученных в&nbsp;пункте&nbsp;4."
   ]
  },
  {
   "cell_type": "markdown",
   "metadata": {},
   "source": [
    "# Ход выполнения работы"
   ]
  },
  {
   "cell_type": "markdown",
   "metadata": {},
   "source": [
    "Подключим все необходимые библиотеки и настроим отображение графиков<cite data-cite=\"doc:ipython,doc:seaborn\"></cite>:"
   ]
  },
  {
   "cell_type": "code",
   "execution_count": 1,
   "metadata": {},
   "outputs": [],
   "source": [
    "from datetime import datetime\n",
    "import graphviz\n",
    "import matplotlib.pyplot as plt\n",
    "import numpy as np\n",
    "import pandas as pd\n",
    "from sklearn.linear_model import Lasso, LinearRegression, LogisticRegression\n",
    "from sklearn.metrics import mean_absolute_error\n",
    "from sklearn.metrics import median_absolute_error, r2_score\n",
    "from sklearn.metrics import accuracy_score, balanced_accuracy_score\n",
    "from sklearn.model_selection import GridSearchCV\n",
    "from sklearn.model_selection import ShuffleSplit\n",
    "from sklearn.model_selection import train_test_split\n",
    "from sklearn.preprocessing import StandardScaler\n",
    "from sklearn.svm import NuSVR, LinearSVC, SVC\n",
    "from sklearn.tree import DecisionTreeRegressor\n",
    "from sklearn.tree import export_graphviz, plot_tree\n",
    "\n",
    "# Enable inline plots\n",
    "%matplotlib inline\n",
    "\n",
    "# Set plots formats to save high resolution PNG\n",
    "from IPython.display import set_matplotlib_formats\n",
    "set_matplotlib_formats(\"retina\")"
   ]
  },
  {
   "cell_type": "markdown",
   "metadata": {},
   "source": [
    "Зададим ширину текстового представления данных, чтобы в&nbsp;дальнейшем текст в&nbsp;отчёте влезал на&nbsp;А4<cite data-cite=\"doc:pandas\"></cite>:"
   ]
  },
  {
   "cell_type": "code",
   "execution_count": 2,
   "metadata": {},
   "outputs": [],
   "source": [
    "pd.set_option(\"display.width\", 70)"
   ]
  },
  {
   "cell_type": "markdown",
   "metadata": {},
   "source": [
    "## Предварительная подготовка данных"
   ]
  },
  {
   "cell_type": "markdown",
   "metadata": {},
   "source": [
    "В&nbsp;качестве набора данных используется список людей с различными жизненными показателями, включая заболевание сердца<cite data-cite=\"kg:srp\"></cite>:"
   ]
  },
  {
   "cell_type": "code",
   "execution_count": 3,
   "metadata": {},
   "outputs": [],
   "source": [
    "data = pd.read_csv(\"data/heart-disease-uci.zip\")"
   ]
  },
  {
   "cell_type": "markdown",
   "metadata": {},
   "source": [
    "Преобразуем временные колонки в соответствующий временной формат:"
   ]
  },
  {
   "cell_type": "markdown",
   "metadata": {},
   "source": [
    "Проверим полученные типы:"
   ]
  },
  {
   "cell_type": "code",
   "execution_count": 4,
   "metadata": {},
   "outputs": [
    {
     "data": {
      "text/plain": [
       "age           int64\n",
       "sex           int64\n",
       "cp            int64\n",
       "trestbps      int64\n",
       "chol          int64\n",
       "fbs           int64\n",
       "restecg       int64\n",
       "thalach       int64\n",
       "exang         int64\n",
       "oldpeak     float64\n",
       "slope         int64\n",
       "ca            int64\n",
       "thal          int64\n",
       "target        int64\n",
       "dtype: object"
      ]
     },
     "execution_count": 4,
     "metadata": {},
     "output_type": "execute_result"
    }
   ],
   "source": [
    "data.dtypes"
   ]
  },
  {
   "cell_type": "markdown",
   "metadata": {},
   "source": [
    "Посмотрим на данные в&nbsp;данном наборе данных:"
   ]
  },
  {
   "cell_type": "code",
   "execution_count": 5,
   "metadata": {
    "scrolled": false
   },
   "outputs": [
    {
     "data": {
      "text/html": [
       "<div>\n",
       "<style scoped>\n",
       "    .dataframe tbody tr th:only-of-type {\n",
       "        vertical-align: middle;\n",
       "    }\n",
       "\n",
       "    .dataframe tbody tr th {\n",
       "        vertical-align: top;\n",
       "    }\n",
       "\n",
       "    .dataframe thead th {\n",
       "        text-align: right;\n",
       "    }\n",
       "</style>\n",
       "<table border=\"1\" class=\"dataframe\">\n",
       "  <thead>\n",
       "    <tr style=\"text-align: right;\">\n",
       "      <th></th>\n",
       "      <th>age</th>\n",
       "      <th>sex</th>\n",
       "      <th>cp</th>\n",
       "      <th>trestbps</th>\n",
       "      <th>chol</th>\n",
       "      <th>fbs</th>\n",
       "      <th>restecg</th>\n",
       "      <th>thalach</th>\n",
       "      <th>exang</th>\n",
       "      <th>oldpeak</th>\n",
       "      <th>slope</th>\n",
       "      <th>ca</th>\n",
       "      <th>thal</th>\n",
       "      <th>target</th>\n",
       "    </tr>\n",
       "  </thead>\n",
       "  <tbody>\n",
       "    <tr>\n",
       "      <th>0</th>\n",
       "      <td>63</td>\n",
       "      <td>1</td>\n",
       "      <td>3</td>\n",
       "      <td>145</td>\n",
       "      <td>233</td>\n",
       "      <td>1</td>\n",
       "      <td>0</td>\n",
       "      <td>150</td>\n",
       "      <td>0</td>\n",
       "      <td>2.3</td>\n",
       "      <td>0</td>\n",
       "      <td>0</td>\n",
       "      <td>1</td>\n",
       "      <td>1</td>\n",
       "    </tr>\n",
       "    <tr>\n",
       "      <th>1</th>\n",
       "      <td>37</td>\n",
       "      <td>1</td>\n",
       "      <td>2</td>\n",
       "      <td>130</td>\n",
       "      <td>250</td>\n",
       "      <td>0</td>\n",
       "      <td>1</td>\n",
       "      <td>187</td>\n",
       "      <td>0</td>\n",
       "      <td>3.5</td>\n",
       "      <td>0</td>\n",
       "      <td>0</td>\n",
       "      <td>2</td>\n",
       "      <td>1</td>\n",
       "    </tr>\n",
       "    <tr>\n",
       "      <th>2</th>\n",
       "      <td>41</td>\n",
       "      <td>0</td>\n",
       "      <td>1</td>\n",
       "      <td>130</td>\n",
       "      <td>204</td>\n",
       "      <td>0</td>\n",
       "      <td>0</td>\n",
       "      <td>172</td>\n",
       "      <td>0</td>\n",
       "      <td>1.4</td>\n",
       "      <td>2</td>\n",
       "      <td>0</td>\n",
       "      <td>2</td>\n",
       "      <td>1</td>\n",
       "    </tr>\n",
       "    <tr>\n",
       "      <th>3</th>\n",
       "      <td>56</td>\n",
       "      <td>1</td>\n",
       "      <td>1</td>\n",
       "      <td>120</td>\n",
       "      <td>236</td>\n",
       "      <td>0</td>\n",
       "      <td>1</td>\n",
       "      <td>178</td>\n",
       "      <td>0</td>\n",
       "      <td>0.8</td>\n",
       "      <td>2</td>\n",
       "      <td>0</td>\n",
       "      <td>2</td>\n",
       "      <td>1</td>\n",
       "    </tr>\n",
       "    <tr>\n",
       "      <th>4</th>\n",
       "      <td>57</td>\n",
       "      <td>0</td>\n",
       "      <td>0</td>\n",
       "      <td>120</td>\n",
       "      <td>354</td>\n",
       "      <td>0</td>\n",
       "      <td>1</td>\n",
       "      <td>163</td>\n",
       "      <td>1</td>\n",
       "      <td>0.6</td>\n",
       "      <td>2</td>\n",
       "      <td>0</td>\n",
       "      <td>2</td>\n",
       "      <td>1</td>\n",
       "    </tr>\n",
       "  </tbody>\n",
       "</table>\n",
       "</div>"
      ],
      "text/plain": [
       "   age  sex  cp  trestbps  chol  fbs  restecg  thalach  exang  \\\n",
       "0   63    1   3       145   233    1        0      150      0   \n",
       "1   37    1   2       130   250    0        1      187      0   \n",
       "2   41    0   1       130   204    0        0      172      0   \n",
       "3   56    1   1       120   236    0        1      178      0   \n",
       "4   57    0   0       120   354    0        1      163      1   \n",
       "\n",
       "   oldpeak  slope  ca  thal  target  \n",
       "0      2.3      0   0     1       1  \n",
       "1      3.5      0   0     2       1  \n",
       "2      1.4      2   0     2       1  \n",
       "3      0.8      2   0     2       1  \n",
       "4      0.6      2   0     2       1  "
      ]
     },
     "execution_count": 5,
     "metadata": {},
     "output_type": "execute_result"
    }
   ],
   "source": [
    "data.head()"
   ]
  },
  {
   "cell_type": "markdown",
   "metadata": {},
   "source": [
    "Проверим основные статистические характеристики набора данных:"
   ]
  },
  {
   "cell_type": "code",
   "execution_count": 6,
   "metadata": {},
   "outputs": [],
   "source": [
    "df = data.copy()"
   ]
  },
  {
   "cell_type": "code",
   "execution_count": 7,
   "metadata": {},
   "outputs": [
    {
     "data": {
      "text/html": [
       "<div>\n",
       "<style scoped>\n",
       "    .dataframe tbody tr th:only-of-type {\n",
       "        vertical-align: middle;\n",
       "    }\n",
       "\n",
       "    .dataframe tbody tr th {\n",
       "        vertical-align: top;\n",
       "    }\n",
       "\n",
       "    .dataframe thead th {\n",
       "        text-align: right;\n",
       "    }\n",
       "</style>\n",
       "<table border=\"1\" class=\"dataframe\">\n",
       "  <thead>\n",
       "    <tr style=\"text-align: right;\">\n",
       "      <th></th>\n",
       "      <th>age</th>\n",
       "      <th>sex</th>\n",
       "      <th>cp</th>\n",
       "      <th>trestbps</th>\n",
       "      <th>chol</th>\n",
       "      <th>fbs</th>\n",
       "      <th>restecg</th>\n",
       "      <th>thalach</th>\n",
       "      <th>exang</th>\n",
       "      <th>oldpeak</th>\n",
       "      <th>slope</th>\n",
       "      <th>ca</th>\n",
       "      <th>thal</th>\n",
       "      <th>target</th>\n",
       "    </tr>\n",
       "  </thead>\n",
       "  <tbody>\n",
       "    <tr>\n",
       "      <th>count</th>\n",
       "      <td>303.000000</td>\n",
       "      <td>303.000000</td>\n",
       "      <td>303.000000</td>\n",
       "      <td>303.000000</td>\n",
       "      <td>303.000000</td>\n",
       "      <td>303.000000</td>\n",
       "      <td>303.000000</td>\n",
       "      <td>303.000000</td>\n",
       "      <td>303.000000</td>\n",
       "      <td>303.000000</td>\n",
       "      <td>303.000000</td>\n",
       "      <td>303.000000</td>\n",
       "      <td>303.000000</td>\n",
       "      <td>303.000000</td>\n",
       "    </tr>\n",
       "    <tr>\n",
       "      <th>mean</th>\n",
       "      <td>54.366337</td>\n",
       "      <td>0.683168</td>\n",
       "      <td>0.966997</td>\n",
       "      <td>131.623762</td>\n",
       "      <td>246.264026</td>\n",
       "      <td>0.148515</td>\n",
       "      <td>0.528053</td>\n",
       "      <td>149.646865</td>\n",
       "      <td>0.326733</td>\n",
       "      <td>1.039604</td>\n",
       "      <td>1.399340</td>\n",
       "      <td>0.729373</td>\n",
       "      <td>2.313531</td>\n",
       "      <td>0.544554</td>\n",
       "    </tr>\n",
       "    <tr>\n",
       "      <th>std</th>\n",
       "      <td>9.082101</td>\n",
       "      <td>0.466011</td>\n",
       "      <td>1.032052</td>\n",
       "      <td>17.538143</td>\n",
       "      <td>51.830751</td>\n",
       "      <td>0.356198</td>\n",
       "      <td>0.525860</td>\n",
       "      <td>22.905161</td>\n",
       "      <td>0.469794</td>\n",
       "      <td>1.161075</td>\n",
       "      <td>0.616226</td>\n",
       "      <td>1.022606</td>\n",
       "      <td>0.612277</td>\n",
       "      <td>0.498835</td>\n",
       "    </tr>\n",
       "    <tr>\n",
       "      <th>min</th>\n",
       "      <td>29.000000</td>\n",
       "      <td>0.000000</td>\n",
       "      <td>0.000000</td>\n",
       "      <td>94.000000</td>\n",
       "      <td>126.000000</td>\n",
       "      <td>0.000000</td>\n",
       "      <td>0.000000</td>\n",
       "      <td>71.000000</td>\n",
       "      <td>0.000000</td>\n",
       "      <td>0.000000</td>\n",
       "      <td>0.000000</td>\n",
       "      <td>0.000000</td>\n",
       "      <td>0.000000</td>\n",
       "      <td>0.000000</td>\n",
       "    </tr>\n",
       "    <tr>\n",
       "      <th>25%</th>\n",
       "      <td>47.500000</td>\n",
       "      <td>0.000000</td>\n",
       "      <td>0.000000</td>\n",
       "      <td>120.000000</td>\n",
       "      <td>211.000000</td>\n",
       "      <td>0.000000</td>\n",
       "      <td>0.000000</td>\n",
       "      <td>133.500000</td>\n",
       "      <td>0.000000</td>\n",
       "      <td>0.000000</td>\n",
       "      <td>1.000000</td>\n",
       "      <td>0.000000</td>\n",
       "      <td>2.000000</td>\n",
       "      <td>0.000000</td>\n",
       "    </tr>\n",
       "    <tr>\n",
       "      <th>50%</th>\n",
       "      <td>55.000000</td>\n",
       "      <td>1.000000</td>\n",
       "      <td>1.000000</td>\n",
       "      <td>130.000000</td>\n",
       "      <td>240.000000</td>\n",
       "      <td>0.000000</td>\n",
       "      <td>1.000000</td>\n",
       "      <td>153.000000</td>\n",
       "      <td>0.000000</td>\n",
       "      <td>0.800000</td>\n",
       "      <td>1.000000</td>\n",
       "      <td>0.000000</td>\n",
       "      <td>2.000000</td>\n",
       "      <td>1.000000</td>\n",
       "    </tr>\n",
       "    <tr>\n",
       "      <th>75%</th>\n",
       "      <td>61.000000</td>\n",
       "      <td>1.000000</td>\n",
       "      <td>2.000000</td>\n",
       "      <td>140.000000</td>\n",
       "      <td>274.500000</td>\n",
       "      <td>0.000000</td>\n",
       "      <td>1.000000</td>\n",
       "      <td>166.000000</td>\n",
       "      <td>1.000000</td>\n",
       "      <td>1.600000</td>\n",
       "      <td>2.000000</td>\n",
       "      <td>1.000000</td>\n",
       "      <td>3.000000</td>\n",
       "      <td>1.000000</td>\n",
       "    </tr>\n",
       "    <tr>\n",
       "      <th>max</th>\n",
       "      <td>77.000000</td>\n",
       "      <td>1.000000</td>\n",
       "      <td>3.000000</td>\n",
       "      <td>200.000000</td>\n",
       "      <td>564.000000</td>\n",
       "      <td>1.000000</td>\n",
       "      <td>2.000000</td>\n",
       "      <td>202.000000</td>\n",
       "      <td>1.000000</td>\n",
       "      <td>6.200000</td>\n",
       "      <td>2.000000</td>\n",
       "      <td>4.000000</td>\n",
       "      <td>3.000000</td>\n",
       "      <td>1.000000</td>\n",
       "    </tr>\n",
       "  </tbody>\n",
       "</table>\n",
       "</div>"
      ],
      "text/plain": [
       "              age         sex          cp    trestbps        chol  \\\n",
       "count  303.000000  303.000000  303.000000  303.000000  303.000000   \n",
       "mean    54.366337    0.683168    0.966997  131.623762  246.264026   \n",
       "std      9.082101    0.466011    1.032052   17.538143   51.830751   \n",
       "min     29.000000    0.000000    0.000000   94.000000  126.000000   \n",
       "25%     47.500000    0.000000    0.000000  120.000000  211.000000   \n",
       "50%     55.000000    1.000000    1.000000  130.000000  240.000000   \n",
       "75%     61.000000    1.000000    2.000000  140.000000  274.500000   \n",
       "max     77.000000    1.000000    3.000000  200.000000  564.000000   \n",
       "\n",
       "              fbs     restecg     thalach       exang     oldpeak  \\\n",
       "count  303.000000  303.000000  303.000000  303.000000  303.000000   \n",
       "mean     0.148515    0.528053  149.646865    0.326733    1.039604   \n",
       "std      0.356198    0.525860   22.905161    0.469794    1.161075   \n",
       "min      0.000000    0.000000   71.000000    0.000000    0.000000   \n",
       "25%      0.000000    0.000000  133.500000    0.000000    0.000000   \n",
       "50%      0.000000    1.000000  153.000000    0.000000    0.800000   \n",
       "75%      0.000000    1.000000  166.000000    1.000000    1.600000   \n",
       "max      1.000000    2.000000  202.000000    1.000000    6.200000   \n",
       "\n",
       "            slope          ca        thal      target  \n",
       "count  303.000000  303.000000  303.000000  303.000000  \n",
       "mean     1.399340    0.729373    2.313531    0.544554  \n",
       "std      0.616226    1.022606    0.612277    0.498835  \n",
       "min      0.000000    0.000000    0.000000    0.000000  \n",
       "25%      1.000000    0.000000    2.000000    0.000000  \n",
       "50%      1.000000    0.000000    2.000000    1.000000  \n",
       "75%      2.000000    1.000000    3.000000    1.000000  \n",
       "max      2.000000    4.000000    3.000000    1.000000  "
      ]
     },
     "execution_count": 7,
     "metadata": {},
     "output_type": "execute_result"
    }
   ],
   "source": [
    "df.describe()"
   ]
  },
  {
   "cell_type": "markdown",
   "metadata": {},
   "source": [
    "Проверим наличие пропусков в&nbsp;данных:"
   ]
  },
  {
   "cell_type": "code",
   "execution_count": 8,
   "metadata": {},
   "outputs": [
    {
     "data": {
      "text/plain": [
       "age         0\n",
       "sex         0\n",
       "cp          0\n",
       "trestbps    0\n",
       "chol        0\n",
       "fbs         0\n",
       "restecg     0\n",
       "thalach     0\n",
       "exang       0\n",
       "oldpeak     0\n",
       "slope       0\n",
       "ca          0\n",
       "thal        0\n",
       "target      0\n",
       "dtype: int64"
      ]
     },
     "execution_count": 8,
     "metadata": {},
     "output_type": "execute_result"
    }
   ],
   "source": [
    "df.isnull().sum()"
   ]
  },
  {
   "cell_type": "markdown",
   "metadata": {},
   "source": [
    "## Разделение данных\n",
    "Разделим данные на&nbsp;целевой столбец и признаки:"
   ]
  },
  {
   "cell_type": "code",
   "execution_count": 9,
   "metadata": {},
   "outputs": [],
   "source": [
    "X = df.drop(\"target\", axis=1)\n",
    "y = df[\"target\"]"
   ]
  },
  {
   "cell_type": "code",
   "execution_count": 10,
   "metadata": {},
   "outputs": [
    {
     "name": "stdout",
     "output_type": "stream",
     "text": [
      "   age  sex  cp  trestbps  chol  fbs  restecg  thalach  exang  \\\n",
      "0   63    1   3       145   233    1        0      150      0   \n",
      "1   37    1   2       130   250    0        1      187      0   \n",
      "2   41    0   1       130   204    0        0      172      0   \n",
      "3   56    1   1       120   236    0        1      178      0   \n",
      "4   57    0   0       120   354    0        1      163      1   \n",
      "\n",
      "   oldpeak  slope  ca  thal  \n",
      "0      2.3      0   0     1  \n",
      "1      3.5      0   0     2  \n",
      "2      1.4      2   0     2  \n",
      "3      0.8      2   0     2  \n",
      "4      0.6      2   0     2   \n",
      "\n",
      "0    1\n",
      "1    1\n",
      "2    1\n",
      "3    1\n",
      "4    1\n",
      "Name: target, dtype: int64\n"
     ]
    }
   ],
   "source": [
    "print(X.head(), \"\\n\")\n",
    "print(y.head())"
   ]
  },
  {
   "cell_type": "code",
   "execution_count": 11,
   "metadata": {},
   "outputs": [
    {
     "name": "stdout",
     "output_type": "stream",
     "text": [
      "(303, 13)\n",
      "(303,)\n"
     ]
    }
   ],
   "source": [
    "print(X.shape)\n",
    "print(y.shape)"
   ]
  },
  {
   "cell_type": "markdown",
   "metadata": {},
   "source": [
    "Предобработаем данные, чтобы методы работали лучше:"
   ]
  },
  {
   "cell_type": "code",
   "execution_count": 12,
   "metadata": {},
   "outputs": [
    {
     "data": {
      "text/html": [
       "<div>\n",
       "<style scoped>\n",
       "    .dataframe tbody tr th:only-of-type {\n",
       "        vertical-align: middle;\n",
       "    }\n",
       "\n",
       "    .dataframe tbody tr th {\n",
       "        vertical-align: top;\n",
       "    }\n",
       "\n",
       "    .dataframe thead th {\n",
       "        text-align: right;\n",
       "    }\n",
       "</style>\n",
       "<table border=\"1\" class=\"dataframe\">\n",
       "  <thead>\n",
       "    <tr style=\"text-align: right;\">\n",
       "      <th></th>\n",
       "      <th>age</th>\n",
       "      <th>sex</th>\n",
       "      <th>cp</th>\n",
       "      <th>trestbps</th>\n",
       "      <th>chol</th>\n",
       "      <th>fbs</th>\n",
       "      <th>restecg</th>\n",
       "      <th>thalach</th>\n",
       "      <th>exang</th>\n",
       "      <th>oldpeak</th>\n",
       "      <th>slope</th>\n",
       "      <th>ca</th>\n",
       "      <th>thal</th>\n",
       "    </tr>\n",
       "  </thead>\n",
       "  <tbody>\n",
       "    <tr>\n",
       "      <th>count</th>\n",
       "      <td>3.030000e+02</td>\n",
       "      <td>3.030000e+02</td>\n",
       "      <td>3.030000e+02</td>\n",
       "      <td>3.030000e+02</td>\n",
       "      <td>3.030000e+02</td>\n",
       "      <td>3.030000e+02</td>\n",
       "      <td>3.030000e+02</td>\n",
       "      <td>3.030000e+02</td>\n",
       "      <td>3.030000e+02</td>\n",
       "      <td>3.030000e+02</td>\n",
       "      <td>3.030000e+02</td>\n",
       "      <td>3.030000e+02</td>\n",
       "      <td>3.030000e+02</td>\n",
       "    </tr>\n",
       "    <tr>\n",
       "      <th>mean</th>\n",
       "      <td>4.690051e-17</td>\n",
       "      <td>-1.407015e-16</td>\n",
       "      <td>2.345026e-17</td>\n",
       "      <td>-7.035077e-16</td>\n",
       "      <td>-1.113887e-16</td>\n",
       "      <td>-2.345026e-17</td>\n",
       "      <td>1.465641e-16</td>\n",
       "      <td>-6.800574e-16</td>\n",
       "      <td>-4.690051e-17</td>\n",
       "      <td>2.345026e-17</td>\n",
       "      <td>-1.407015e-16</td>\n",
       "      <td>-2.345026e-17</td>\n",
       "      <td>-1.641518e-16</td>\n",
       "    </tr>\n",
       "    <tr>\n",
       "      <th>std</th>\n",
       "      <td>1.001654e+00</td>\n",
       "      <td>1.001654e+00</td>\n",
       "      <td>1.001654e+00</td>\n",
       "      <td>1.001654e+00</td>\n",
       "      <td>1.001654e+00</td>\n",
       "      <td>1.001654e+00</td>\n",
       "      <td>1.001654e+00</td>\n",
       "      <td>1.001654e+00</td>\n",
       "      <td>1.001654e+00</td>\n",
       "      <td>1.001654e+00</td>\n",
       "      <td>1.001654e+00</td>\n",
       "      <td>1.001654e+00</td>\n",
       "      <td>1.001654e+00</td>\n",
       "    </tr>\n",
       "    <tr>\n",
       "      <th>min</th>\n",
       "      <td>-2.797624e+00</td>\n",
       "      <td>-1.468418e+00</td>\n",
       "      <td>-9.385146e-01</td>\n",
       "      <td>-2.148802e+00</td>\n",
       "      <td>-2.324160e+00</td>\n",
       "      <td>-4.176345e-01</td>\n",
       "      <td>-1.005832e+00</td>\n",
       "      <td>-3.439267e+00</td>\n",
       "      <td>-6.966305e-01</td>\n",
       "      <td>-8.968617e-01</td>\n",
       "      <td>-2.274579e+00</td>\n",
       "      <td>-7.144289e-01</td>\n",
       "      <td>-3.784824e+00</td>\n",
       "    </tr>\n",
       "    <tr>\n",
       "      <th>25%</th>\n",
       "      <td>-7.572802e-01</td>\n",
       "      <td>-1.468418e+00</td>\n",
       "      <td>-9.385146e-01</td>\n",
       "      <td>-6.638668e-01</td>\n",
       "      <td>-6.814943e-01</td>\n",
       "      <td>-4.176345e-01</td>\n",
       "      <td>-1.005832e+00</td>\n",
       "      <td>-7.061105e-01</td>\n",
       "      <td>-6.966305e-01</td>\n",
       "      <td>-8.968617e-01</td>\n",
       "      <td>-6.491132e-01</td>\n",
       "      <td>-7.144289e-01</td>\n",
       "      <td>-5.129219e-01</td>\n",
       "    </tr>\n",
       "    <tr>\n",
       "      <th>50%</th>\n",
       "      <td>6.988599e-02</td>\n",
       "      <td>6.810052e-01</td>\n",
       "      <td>3.203122e-02</td>\n",
       "      <td>-9.273778e-02</td>\n",
       "      <td>-1.210553e-01</td>\n",
       "      <td>-4.176345e-01</td>\n",
       "      <td>8.989622e-01</td>\n",
       "      <td>1.466343e-01</td>\n",
       "      <td>-6.966305e-01</td>\n",
       "      <td>-2.067053e-01</td>\n",
       "      <td>-6.491132e-01</td>\n",
       "      <td>-7.144289e-01</td>\n",
       "      <td>-5.129219e-01</td>\n",
       "    </tr>\n",
       "    <tr>\n",
       "      <th>75%</th>\n",
       "      <td>7.316189e-01</td>\n",
       "      <td>6.810052e-01</td>\n",
       "      <td>1.002577e+00</td>\n",
       "      <td>4.783913e-01</td>\n",
       "      <td>5.456738e-01</td>\n",
       "      <td>-4.176345e-01</td>\n",
       "      <td>8.989622e-01</td>\n",
       "      <td>7.151309e-01</td>\n",
       "      <td>1.435481e+00</td>\n",
       "      <td>4.834512e-01</td>\n",
       "      <td>9.763521e-01</td>\n",
       "      <td>2.650822e-01</td>\n",
       "      <td>1.123029e+00</td>\n",
       "    </tr>\n",
       "    <tr>\n",
       "      <th>max</th>\n",
       "      <td>2.496240e+00</td>\n",
       "      <td>6.810052e-01</td>\n",
       "      <td>1.973123e+00</td>\n",
       "      <td>3.905165e+00</td>\n",
       "      <td>6.140401e+00</td>\n",
       "      <td>2.394438e+00</td>\n",
       "      <td>2.803756e+00</td>\n",
       "      <td>2.289429e+00</td>\n",
       "      <td>1.435481e+00</td>\n",
       "      <td>4.451851e+00</td>\n",
       "      <td>9.763521e-01</td>\n",
       "      <td>3.203615e+00</td>\n",
       "      <td>1.123029e+00</td>\n",
       "    </tr>\n",
       "  </tbody>\n",
       "</table>\n",
       "</div>"
      ],
      "text/plain": [
       "                age           sex            cp      trestbps  \\\n",
       "count  3.030000e+02  3.030000e+02  3.030000e+02  3.030000e+02   \n",
       "mean   4.690051e-17 -1.407015e-16  2.345026e-17 -7.035077e-16   \n",
       "std    1.001654e+00  1.001654e+00  1.001654e+00  1.001654e+00   \n",
       "min   -2.797624e+00 -1.468418e+00 -9.385146e-01 -2.148802e+00   \n",
       "25%   -7.572802e-01 -1.468418e+00 -9.385146e-01 -6.638668e-01   \n",
       "50%    6.988599e-02  6.810052e-01  3.203122e-02 -9.273778e-02   \n",
       "75%    7.316189e-01  6.810052e-01  1.002577e+00  4.783913e-01   \n",
       "max    2.496240e+00  6.810052e-01  1.973123e+00  3.905165e+00   \n",
       "\n",
       "               chol           fbs       restecg       thalach  \\\n",
       "count  3.030000e+02  3.030000e+02  3.030000e+02  3.030000e+02   \n",
       "mean  -1.113887e-16 -2.345026e-17  1.465641e-16 -6.800574e-16   \n",
       "std    1.001654e+00  1.001654e+00  1.001654e+00  1.001654e+00   \n",
       "min   -2.324160e+00 -4.176345e-01 -1.005832e+00 -3.439267e+00   \n",
       "25%   -6.814943e-01 -4.176345e-01 -1.005832e+00 -7.061105e-01   \n",
       "50%   -1.210553e-01 -4.176345e-01  8.989622e-01  1.466343e-01   \n",
       "75%    5.456738e-01 -4.176345e-01  8.989622e-01  7.151309e-01   \n",
       "max    6.140401e+00  2.394438e+00  2.803756e+00  2.289429e+00   \n",
       "\n",
       "              exang       oldpeak         slope            ca  \\\n",
       "count  3.030000e+02  3.030000e+02  3.030000e+02  3.030000e+02   \n",
       "mean  -4.690051e-17  2.345026e-17 -1.407015e-16 -2.345026e-17   \n",
       "std    1.001654e+00  1.001654e+00  1.001654e+00  1.001654e+00   \n",
       "min   -6.966305e-01 -8.968617e-01 -2.274579e+00 -7.144289e-01   \n",
       "25%   -6.966305e-01 -8.968617e-01 -6.491132e-01 -7.144289e-01   \n",
       "50%   -6.966305e-01 -2.067053e-01 -6.491132e-01 -7.144289e-01   \n",
       "75%    1.435481e+00  4.834512e-01  9.763521e-01  2.650822e-01   \n",
       "max    1.435481e+00  4.451851e+00  9.763521e-01  3.203615e+00   \n",
       "\n",
       "               thal  \n",
       "count  3.030000e+02  \n",
       "mean  -1.641518e-16  \n",
       "std    1.001654e+00  \n",
       "min   -3.784824e+00  \n",
       "25%   -5.129219e-01  \n",
       "50%   -5.129219e-01  \n",
       "75%    1.123029e+00  \n",
       "max    1.123029e+00  "
      ]
     },
     "execution_count": 12,
     "metadata": {},
     "output_type": "execute_result"
    }
   ],
   "source": [
    "columns = X.columns\n",
    "scaler = StandardScaler()\n",
    "X = scaler.fit_transform(X)\n",
    "pd.DataFrame(X, columns=columns).describe()"
   ]
  },
  {
   "cell_type": "markdown",
   "metadata": {},
   "source": [
    "Разделим выборку на&nbsp;тренировочную и тестовую:"
   ]
  },
  {
   "cell_type": "code",
   "execution_count": 13,
   "metadata": {},
   "outputs": [],
   "source": [
    "X_train, X_test, y_train, y_test = train_test_split(X, y,\n",
    "                            test_size=0.25, random_state=346705925)"
   ]
  },
  {
   "cell_type": "code",
   "execution_count": 14,
   "metadata": {},
   "outputs": [
    {
     "name": "stdout",
     "output_type": "stream",
     "text": [
      "(227, 13)\n",
      "(76, 13)\n",
      "(227,)\n",
      "(76,)\n"
     ]
    }
   ],
   "source": [
    "print(X_train.shape)\n",
    "print(X_test.shape)\n",
    "print(y_train.shape)\n",
    "print(y_test.shape)"
   ]
  },
  {
   "cell_type": "markdown",
   "metadata": {},
   "source": [
    "## Обучение моделей"
   ]
  },
  {
   "cell_type": "markdown",
   "metadata": {},
   "source": [
    "Напишем функцию, которая считает метрики построенной модели:"
   ]
  },
  {
   "cell_type": "code",
   "execution_count": 15,
   "metadata": {},
   "outputs": [],
   "source": [
    "def test_model(model):\n",
    "    print(\"mean_absolute_error:\",\n",
    "          mean_absolute_error(y_test, model.predict(X_test)))\n",
    "    print(\"median_absolute_error:\",\n",
    "          median_absolute_error(y_test, model.predict(X_test)))\n",
    "    print(\"accuracy:\",\n",
    "          accuracy_score(y_test, model.predict(X_test).round()))\n",
    "    print(\"balanced_accuracy:\",\n",
    "          balanced_accuracy_score(y_test, model.predict(X_test).round()))"
   ]
  },
  {
   "cell_type": "markdown",
   "metadata": {},
   "source": [
    "### Модель бинарной классификации — LogisticRegression"
   ]
  },
  {
   "cell_type": "code",
   "execution_count": 16,
   "metadata": {},
   "outputs": [],
   "source": [
    "def convert_target_to_binary(array:np.ndarray, target:int) -> np.ndarray:\n",
    "    # Если целевой признак совпадает с указанным, то 1 иначе 0\n",
    "    res = [1 if x==target else 0 for x in array]\n",
    "    return res"
   ]
  },
  {
   "cell_type": "code",
   "execution_count": 17,
   "metadata": {},
   "outputs": [],
   "source": [
    "bin_y = convert_target_to_binary(df['target'], 1)"
   ]
  },
  {
   "cell_type": "code",
   "execution_count": 18,
   "metadata": {},
   "outputs": [],
   "source": [
    "# X_train, X_test, y_train, y_test = train_test_split(\n",
    "    # df, bin_y, test_size=0.5, random_state=1)"
   ]
  },
  {
   "cell_type": "markdown",
   "metadata": {},
   "source": [
    "Попробуем метод LogisticRegression с&nbsp;гиперпараметром $\\alpha=1$:"
   ]
  },
  {
   "cell_type": "code",
   "execution_count": 19,
   "metadata": {},
   "outputs": [
    {
     "name": "stderr",
     "output_type": "stream",
     "text": [
      "/home/anybyte/.local/lib/python3.6/site-packages/sklearn/linear_model/logistic.py:432: FutureWarning: Default solver will be changed to 'lbfgs' in 0.22. Specify a solver to silence this warning.\n",
      "  FutureWarning)\n"
     ]
    },
    {
     "data": {
      "text/plain": [
       "LogisticRegression(C=1.0, class_weight=None, dual=False, fit_intercept=True,\n",
       "                   intercept_scaling=1, l1_ratio=None, max_iter=100,\n",
       "                   multi_class='warn', n_jobs=None, penalty='l2',\n",
       "                   random_state=None, solver='warn', tol=0.0001, verbose=0,\n",
       "                   warm_start=False)"
      ]
     },
     "execution_count": 19,
     "metadata": {},
     "output_type": "execute_result"
    }
   ],
   "source": [
    "cl1 = LogisticRegression()\n",
    "cl1.fit(X_train, y_train)"
   ]
  },
  {
   "cell_type": "markdown",
   "metadata": {},
   "source": [
    "Проверим метрики построенной модели:"
   ]
  },
  {
   "cell_type": "code",
   "execution_count": 20,
   "metadata": {},
   "outputs": [
    {
     "name": "stdout",
     "output_type": "stream",
     "text": [
      "mean_absolute_error: 0.15789473684210525\n",
      "median_absolute_error: 0.0\n",
      "accuracy: 0.8421052631578947\n",
      "balanced_accuracy: 0.8315412186379928\n"
     ]
    }
   ],
   "source": [
    "test_model(cl1)"
   ]
  },
  {
   "cell_type": "markdown",
   "metadata": {},
   "source": [
    "Видно, что данный метод без&nbsp;настройки гиперпараметров несколько хуже, чем метод $K$ ближайших соседей."
   ]
  },
  {
   "cell_type": "markdown",
   "metadata": {},
   "source": [
    "### SVC"
   ]
  },
  {
   "cell_type": "markdown",
   "metadata": {},
   "source": [
    "Попробуем метод SVC:"
   ]
  },
  {
   "cell_type": "code",
   "execution_count": 21,
   "metadata": {},
   "outputs": [
    {
     "data": {
      "text/plain": [
       "SVC(C=1.0, cache_size=200, class_weight=None, coef0=0.0,\n",
       "    decision_function_shape='ovr', degree=3, gamma='auto', kernel='rbf',\n",
       "    max_iter=-1, probability=False, random_state=None, shrinking=True,\n",
       "    tol=0.001, verbose=False)"
      ]
     },
     "execution_count": 21,
     "metadata": {},
     "output_type": "execute_result"
    }
   ],
   "source": [
    "linear_1 = SVC(C=1.0, gamma='auto')\n",
    "linear_1.fit(X_train, y_train)"
   ]
  },
  {
   "cell_type": "markdown",
   "metadata": {},
   "source": [
    "Проверим метрики построенной модели:"
   ]
  },
  {
   "cell_type": "code",
   "execution_count": 22,
   "metadata": {},
   "outputs": [
    {
     "name": "stdout",
     "output_type": "stream",
     "text": [
      "mean_absolute_error: 0.19736842105263158\n",
      "median_absolute_error: 0.0\n",
      "accuracy: 0.8026315789473685\n",
      "balanced_accuracy: 0.7982078853046595\n"
     ]
    }
   ],
   "source": [
    "test_model(linear_1)"
   ]
  },
  {
   "cell_type": "markdown",
   "metadata": {},
   "source": [
    "Внезапно LinearSVC показал результаты хуже по&nbsp;средней абсолютной ошибке и коэффициенте детерминации."
   ]
  },
  {
   "cell_type": "markdown",
   "metadata": {},
   "source": [
    "### Дерево решений"
   ]
  },
  {
   "cell_type": "markdown",
   "metadata": {},
   "source": [
    "Попробуем дерево решений с&nbsp;неограниченной глубиной дерева:"
   ]
  },
  {
   "cell_type": "code",
   "execution_count": 23,
   "metadata": {},
   "outputs": [
    {
     "data": {
      "text/plain": [
       "DecisionTreeRegressor(criterion='mse', max_depth=None, max_features=None,\n",
       "                      max_leaf_nodes=None, min_impurity_decrease=0.0,\n",
       "                      min_impurity_split=None, min_samples_leaf=1,\n",
       "                      min_samples_split=2, min_weight_fraction_leaf=0.0,\n",
       "                      presort=False, random_state=None, splitter='best')"
      ]
     },
     "execution_count": 23,
     "metadata": {},
     "output_type": "execute_result"
    }
   ],
   "source": [
    "dt_none = DecisionTreeRegressor(max_depth=None)\n",
    "dt_none.fit(X_train, y_train)"
   ]
  },
  {
   "cell_type": "markdown",
   "metadata": {},
   "source": [
    "Проверим метрики построенной модели:"
   ]
  },
  {
   "cell_type": "code",
   "execution_count": 24,
   "metadata": {
    "scrolled": true
   },
   "outputs": [
    {
     "name": "stdout",
     "output_type": "stream",
     "text": [
      "mean_absolute_error: 0.27631578947368424\n",
      "median_absolute_error: 0.0\n",
      "accuracy: 0.7236842105263158\n",
      "balanced_accuracy: 0.7265232974910394\n"
     ]
    }
   ],
   "source": [
    "test_model(dt_none)"
   ]
  },
  {
   "cell_type": "markdown",
   "metadata": {},
   "source": [
    "Дерево решений показало прямо-таки очень хороший результат по&nbsp;сравнению с&nbsp;рассмотренными раньше методами. Оценим структуру получившегося дерева решений:"
   ]
  },
  {
   "cell_type": "code",
   "execution_count": 25,
   "metadata": {},
   "outputs": [],
   "source": [
    "def stat_tree(estimator):\n",
    "    n_nodes = estimator.tree_.node_count\n",
    "    children_left = estimator.tree_.children_left\n",
    "    children_right = estimator.tree_.children_right\n",
    "\n",
    "    node_depth = np.zeros(shape=n_nodes, dtype=np.int64)\n",
    "    is_leaves = np.zeros(shape=n_nodes, dtype=bool)\n",
    "    stack = [(0, -1)]  # seed is the root node id and its parent depth\n",
    "    while len(stack) > 0:\n",
    "        node_id, parent_depth = stack.pop()\n",
    "        node_depth[node_id] = parent_depth + 1\n",
    "\n",
    "        # If we have a test node\n",
    "        if (children_left[node_id] != children_right[node_id]):\n",
    "            stack.append((children_left[node_id], parent_depth + 1))\n",
    "            stack.append((children_right[node_id], parent_depth + 1))\n",
    "        else:\n",
    "            is_leaves[node_id] = True\n",
    "\n",
    "    print(\"Всего узлов:\", n_nodes)\n",
    "    print(\"Листовых узлов:\", sum(is_leaves))\n",
    "    print(\"Глубина дерева:\", max(node_depth))\n",
    "    print(\"Минимальная глубина листьев дерева:\", min(node_depth[is_leaves]))\n",
    "    print(\"Средняя глубина листьев дерева:\", node_depth[is_leaves].mean())"
   ]
  },
  {
   "cell_type": "code",
   "execution_count": 26,
   "metadata": {},
   "outputs": [
    {
     "name": "stdout",
     "output_type": "stream",
     "text": [
      "Всего узлов: 71\n",
      "Листовых узлов: 36\n",
      "Глубина дерева: 9\n",
      "Минимальная глубина листьев дерева: 3\n",
      "Средняя глубина листьев дерева: 6.083333333333333\n"
     ]
    }
   ],
   "source": [
    "stat_tree(dt_none)"
   ]
  },
  {
   "cell_type": "markdown",
   "metadata": {},
   "source": [
    "## Подбор гиперпараметра $K$"
   ]
  },
  {
   "cell_type": "markdown",
   "metadata": {},
   "source": [
    "### Модель бинарной классификации — LogisticRegression"
   ]
  },
  {
   "cell_type": "markdown",
   "metadata": {},
   "source": [
    "Введем список настраиваемых параметров:"
   ]
  },
  {
   "cell_type": "code",
   "execution_count": 27,
   "metadata": {},
   "outputs": [
    {
     "data": {
      "text/plain": [
       "[{'C': array([1.000e-03, 1.010e-01, 2.010e-01, 3.010e-01, 4.010e-01, 5.010e-01,\n",
       "         6.010e-01, 7.010e-01, 8.010e-01, 9.010e-01, 1.001e+00, 1.101e+00,\n",
       "         1.201e+00, 1.301e+00, 1.401e+00, 1.501e+00, 1.601e+00, 1.701e+00,\n",
       "         1.801e+00, 1.901e+00, 2.001e+00])}]"
      ]
     },
     "execution_count": 27,
     "metadata": {},
     "output_type": "execute_result"
    }
   ],
   "source": [
    "param_range = np.arange(0.001, 2.01, 0.1)\n",
    "tuned_parameters = [{'C': param_range}]\n",
    "tuned_parameters"
   ]
  },
  {
   "cell_type": "markdown",
   "metadata": {},
   "source": [
    "Запустим подбор параметра:"
   ]
  },
  {
   "cell_type": "code",
   "execution_count": 28,
   "metadata": {},
   "outputs": [
    {
     "name": "stderr",
     "output_type": "stream",
     "text": [
      "/home/anybyte/.local/lib/python3.6/site-packages/sklearn/linear_model/logistic.py:432: FutureWarning: Default solver will be changed to 'lbfgs' in 0.22. Specify a solver to silence this warning.\n",
      "  FutureWarning)\n"
     ]
    },
    {
     "data": {
      "text/plain": [
       "LogisticRegression(C=0.101, class_weight=None, dual=False, fit_intercept=True,\n",
       "                   intercept_scaling=1, l1_ratio=None, max_iter=100,\n",
       "                   multi_class='warn', n_jobs=None, penalty='l2',\n",
       "                   random_state=None, solver='warn', tol=0.0001, verbose=0,\n",
       "                   warm_start=False)"
      ]
     },
     "execution_count": 28,
     "metadata": {},
     "output_type": "execute_result"
    }
   ],
   "source": [
    "gs = GridSearchCV(LogisticRegression(), tuned_parameters,\n",
    "                  cv=ShuffleSplit(n_splits=10),\n",
    "                  return_train_score=True, n_jobs=-1)\n",
    "gs.fit(X, y)\n",
    "gs.best_estimator_"
   ]
  },
  {
   "cell_type": "markdown",
   "metadata": {},
   "source": [
    "Проверим результаты при&nbsp;разных значения гиперпараметра на&nbsp;тренировочном наборе данных:"
   ]
  },
  {
   "cell_type": "code",
   "execution_count": 29,
   "metadata": {
    "scrolled": true
   },
   "outputs": [
    {
     "data": {
      "image/png": "[encoded data removed]",
      "text/plain": [
       "<Figure size 432x288 with 1 Axes>"
      ]
     },
     "metadata": {
      "image/png": {
       "height": 250,
       "width": 386
      },
      "needs_background": "light"
     },
     "output_type": "display_data"
    }
   ],
   "source": [
    "plt.plot(param_range, gs.cv_results_[\"mean_train_score\"]);"
   ]
  },
  {
   "cell_type": "markdown",
   "metadata": {},
   "source": [
    "На&nbsp;тестовом наборе данных картина ровно та же:"
   ]
  },
  {
   "cell_type": "code",
   "execution_count": 30,
   "metadata": {},
   "outputs": [
    {
     "data": {
      "image/png": "[encoded data removed]",
      "text/plain": [
       "<Figure size 432x288 with 1 Axes>"
      ]
     },
     "metadata": {
      "image/png": {
       "height": 250,
       "width": 386
      },
      "needs_background": "light"
     },
     "output_type": "display_data"
    }
   ],
   "source": [
    "plt.plot(param_range, gs.cv_results_[\"mean_test_score\"]);"
   ]
  },
  {
   "cell_type": "markdown",
   "metadata": {},
   "source": [
    "### SVM"
   ]
  },
  {
   "cell_type": "markdown",
   "metadata": {},
   "source": [
    "Введем список настраиваемых параметров:"
   ]
  },
  {
   "cell_type": "code",
   "execution_count": 31,
   "metadata": {},
   "outputs": [
    {
     "data": {
      "text/plain": [
       "[{'gamma': array([0.1, 0.2, 0.3, 0.4, 0.5, 0.6, 0.7, 0.8, 0.9, 1. ])}]"
      ]
     },
     "execution_count": 31,
     "metadata": {},
     "output_type": "execute_result"
    }
   ],
   "source": [
    "param_range = np.arange(0.1, 1.01, 0.1)\n",
    "tuned_parameters = [{'gamma': param_range}]\n",
    "tuned_parameters"
   ]
  },
  {
   "cell_type": "markdown",
   "metadata": {},
   "source": [
    "Запустим подбор параметра:"
   ]
  },
  {
   "cell_type": "code",
   "execution_count": 32,
   "metadata": {},
   "outputs": [
    {
     "data": {
      "text/plain": [
       "SVC(C=1.0, cache_size=200, class_weight=None, coef0=0.0,\n",
       "    decision_function_shape='ovr', degree=3, gamma=0.1, kernel='rbf',\n",
       "    max_iter=-1, probability=False, random_state=None, shrinking=True,\n",
       "    tol=0.001, verbose=False)"
      ]
     },
     "execution_count": 32,
     "metadata": {},
     "output_type": "execute_result"
    }
   ],
   "source": [
    "gs = GridSearchCV(SVC(), tuned_parameters,\n",
    "                  cv=ShuffleSplit(n_splits=10),\n",
    "                  return_train_score=True, n_jobs=-1)\n",
    "gs.fit(X, y)\n",
    "gs.best_estimator_"
   ]
  },
  {
   "cell_type": "markdown",
   "metadata": {},
   "source": [
    "Проверим результаты при&nbsp;разных значения гиперпараметра на&nbsp;тренировочном наборе данных:"
   ]
  },
  {
   "cell_type": "code",
   "execution_count": 33,
   "metadata": {},
   "outputs": [
    {
     "data": {
      "image/png": "[encoded data removed]",
      "text/plain": [
       "<Figure size 432x288 with 1 Axes>"
      ]
     },
     "metadata": {
      "image/png": {
       "height": 250,
       "width": 380
      },
      "needs_background": "light"
     },
     "output_type": "display_data"
    }
   ],
   "source": [
    "plt.plot(param_range, gs.cv_results_[\"mean_train_score\"]);"
   ]
  },
  {
   "cell_type": "markdown",
   "metadata": {},
   "source": [
    "Видно, что метод NuSVR справляется лучше, но не глобально. При&nbsp;этом также видно, что разработчики библиотеки scikit-learn провели хорошую работу: получившееся оптимальное значение $\\nu=0{,}5$ является стандартным для&nbsp;данного алгоритма<cite data-cite=\"doc:sklearn\"></cite>."
   ]
  },
  {
   "cell_type": "markdown",
   "metadata": {},
   "source": [
    "На&nbsp;тестовом наборе данных картина ровно та же:"
   ]
  },
  {
   "cell_type": "code",
   "execution_count": 34,
   "metadata": {},
   "outputs": [
    {
     "data": {
      "image/png": "[encoded data removed]",
      "text/plain": [
       "<Figure size 432x288 with 1 Axes>"
      ]
     },
     "metadata": {
      "image/png": {
       "height": 250,
       "width": 380
      },
      "needs_background": "light"
     },
     "output_type": "display_data"
    }
   ],
   "source": [
    "plt.plot(param_range, gs.cv_results_[\"mean_test_score\"]);"
   ]
  },
  {
   "cell_type": "markdown",
   "metadata": {},
   "source": [
    "Так как параметры подобраны те же, то и обучение модели заново производить не&nbsp;будем."
   ]
  },
  {
   "cell_type": "markdown",
   "metadata": {},
   "source": [
    "### Дерево решений"
   ]
  },
  {
   "cell_type": "markdown",
   "metadata": {},
   "source": [
    "Введем список настраиваемых параметров:"
   ]
  },
  {
   "cell_type": "code",
   "execution_count": 35,
   "metadata": {},
   "outputs": [
    {
     "data": {
      "text/plain": [
       "[{'max_depth': array([ 1,  3,  5,  7,  9, 11, 13, 15, 17, 19, 21, 23, 25, 27, 29, 31, 33,\n",
       "         35, 37, 39, 41, 43, 45, 47, 49])}]"
      ]
     },
     "execution_count": 35,
     "metadata": {},
     "output_type": "execute_result"
    }
   ],
   "source": [
    "param_range = np.arange(1, 51, 2)\n",
    "tuned_parameters = [{'max_depth': param_range}]\n",
    "tuned_parameters"
   ]
  },
  {
   "cell_type": "markdown",
   "metadata": {},
   "source": [
    "Запустим подбор параметра:"
   ]
  },
  {
   "cell_type": "code",
   "execution_count": 36,
   "metadata": {},
   "outputs": [
    {
     "data": {
      "text/plain": [
       "DecisionTreeRegressor(criterion='mse', max_depth=3, max_features=None,\n",
       "                      max_leaf_nodes=None, min_impurity_decrease=0.0,\n",
       "                      min_impurity_split=None, min_samples_leaf=1,\n",
       "                      min_samples_split=2, min_weight_fraction_leaf=0.0,\n",
       "                      presort=False, random_state=None, splitter='best')"
      ]
     },
     "execution_count": 36,
     "metadata": {},
     "output_type": "execute_result"
    }
   ],
   "source": [
    "gs = GridSearchCV(DecisionTreeRegressor(), tuned_parameters,\n",
    "                  cv=ShuffleSplit(n_splits=10), scoring=\"r2\",\n",
    "                  return_train_score=True, n_jobs=-1)\n",
    "gs.fit(X, y)\n",
    "gs.best_estimator_"
   ]
  },
  {
   "cell_type": "markdown",
   "metadata": {},
   "source": [
    "Проверим результаты при&nbsp;разных значения гиперпараметра на&nbsp;тренировочном наборе данных:"
   ]
  },
  {
   "cell_type": "code",
   "execution_count": 37,
   "metadata": {},
   "outputs": [
    {
     "data": {
      "image/png": "[encoded data removed]",
      "text/plain": [
       "<Figure size 432x288 with 1 Axes>"
      ]
     },
     "metadata": {
      "image/png": {
       "height": 250,
       "width": 373
      },
      "needs_background": "light"
     },
     "output_type": "display_data"
    }
   ],
   "source": [
    "plt.plot(param_range, gs.cv_results_[\"mean_train_score\"]);"
   ]
  },
  {
   "cell_type": "markdown",
   "metadata": {},
   "source": [
    "Видно, что на&nbsp;тестовой выборке модель легко переобучается."
   ]
  },
  {
   "cell_type": "markdown",
   "metadata": {},
   "source": [
    "На&nbsp;тестовом наборе данных картина интереснее:"
   ]
  },
  {
   "cell_type": "code",
   "execution_count": 38,
   "metadata": {},
   "outputs": [
    {
     "data": {
      "image/png": "[encoded data removed]",
      "text/plain": [
       "<Figure size 432x288 with 1 Axes>"
      ]
     },
     "metadata": {
      "image/png": {
       "height": 250,
       "width": 380
      },
      "needs_background": "light"
     },
     "output_type": "display_data"
    }
   ],
   "source": [
    "plt.plot(param_range, gs.cv_results_[\"mean_test_score\"]);"
   ]
  },
  {
   "cell_type": "markdown",
   "metadata": {},
   "source": [
    "Проведем дополнительное исследование в&nbsp;районе пика."
   ]
  },
  {
   "cell_type": "code",
   "execution_count": 39,
   "metadata": {},
   "outputs": [
    {
     "data": {
      "text/plain": [
       "[{'max_depth': array([ 7,  8,  9, 10, 11, 12, 13])}]"
      ]
     },
     "execution_count": 39,
     "metadata": {},
     "output_type": "execute_result"
    }
   ],
   "source": [
    "param_range = np.arange(7, 14, 1)\n",
    "tuned_parameters = [{'max_depth': param_range}]\n",
    "tuned_parameters"
   ]
  },
  {
   "cell_type": "code",
   "execution_count": 40,
   "metadata": {},
   "outputs": [
    {
     "data": {
      "text/plain": [
       "DecisionTreeRegressor(criterion='mse', max_depth=9, max_features=None,\n",
       "                      max_leaf_nodes=None, min_impurity_decrease=0.0,\n",
       "                      min_impurity_split=None, min_samples_leaf=1,\n",
       "                      min_samples_split=2, min_weight_fraction_leaf=0.0,\n",
       "                      presort=False, random_state=None, splitter='best')"
      ]
     },
     "execution_count": 40,
     "metadata": {},
     "output_type": "execute_result"
    }
   ],
   "source": [
    "gs = GridSearchCV(DecisionTreeRegressor(), tuned_parameters,\n",
    "                  cv=ShuffleSplit(n_splits=10), scoring=\"r2\",\n",
    "                  return_train_score=True, n_jobs=-1)\n",
    "gs.fit(X, y)\n",
    "gs.best_estimator_"
   ]
  },
  {
   "cell_type": "code",
   "execution_count": 41,
   "metadata": {},
   "outputs": [
    {
     "data": {
      "image/png": "[encoded data removed]",
      "text/plain": [
       "<Figure size 432x288 with 1 Axes>"
      ]
     },
     "metadata": {
      "image/png": {
       "height": 250,
       "width": 380
      },
      "needs_background": "light"
     },
     "output_type": "display_data"
    }
   ],
   "source": [
    "plt.plot(param_range, gs.cv_results_[\"mean_test_score\"]);"
   ]
  },
  {
   "cell_type": "markdown",
   "metadata": {},
   "source": [
    "Получили, что глубину дерева необходимо ограничить 10&nbsp;уровнями. Проверим этот результат."
   ]
  },
  {
   "cell_type": "code",
   "execution_count": 42,
   "metadata": {},
   "outputs": [
    {
     "name": "stdout",
     "output_type": "stream",
     "text": [
      "mean_absolute_error: 0.2631578947368421\n",
      "median_absolute_error: 0.0\n",
      "accuracy: 0.7368421052631579\n",
      "balanced_accuracy: 0.7426523297491039\n"
     ]
    }
   ],
   "source": [
    "reg = gs.best_estimator_\n",
    "reg.fit(X_train, y_train)\n",
    "test_model(reg)"
   ]
  },
  {
   "cell_type": "code",
   "execution_count": 43,
   "metadata": {},
   "outputs": [
    {
     "data": {
      "text/plain": [
       "array([[-1.1432911 ,  0.68100522, -0.93851463, ...,  0.97635214,\n",
       "         0.26508221, -0.51292188],\n",
       "       [ 0.29046364,  0.68100522,  1.00257707, ...,  0.97635214,\n",
       "         0.26508221,  1.12302895],\n",
       "       [ 0.84190778, -1.46841752, -0.93851463, ..., -2.27457861,\n",
       "         2.22410436,  1.12302895],\n",
       "       ...,\n",
       "       [ 0.40075247,  0.68100522, -0.93851463, ...,  0.97635214,\n",
       "        -0.71442887,  1.12302895],\n",
       "       [-0.26098049,  0.68100522,  1.97312292, ..., -0.64911323,\n",
       "        -0.71442887, -2.14887271],\n",
       "       [-0.26098049,  0.68100522, -0.93851463, ...,  0.97635214,\n",
       "         0.26508221, -0.51292188]])"
      ]
     },
     "execution_count": 43,
     "metadata": {},
     "output_type": "execute_result"
    }
   ],
   "source": [
    "X_train"
   ]
  },
  {
   "cell_type": "markdown",
   "metadata": {},
   "source": [
    "Вновь посмотрим статистику получившегося дерева решений."
   ]
  },
  {
   "cell_type": "code",
   "execution_count": 44,
   "metadata": {},
   "outputs": [
    {
     "name": "stdout",
     "output_type": "stream",
     "text": [
      "Всего узлов: 71\n",
      "Листовых узлов: 36\n",
      "Глубина дерева: 9\n",
      "Минимальная глубина листьев дерева: 3\n",
      "Средняя глубина листьев дерева: 6.083333333333333\n"
     ]
    }
   ],
   "source": [
    "stat_tree(reg)"
   ]
  },
  {
   "cell_type": "markdown",
   "metadata": {},
   "source": [
    "В&nbsp;целом получили примерно тот же результат. Коэффициент детерминации оказался немного выше, тогда как абсолютные ошибки также стали немного выше. Видно, что дерево решений достигло своего предела. При&nbsp;этом весьма поразительно, насколько хорошо данный метод решил задачу регрессии. Посмотрим на&nbsp;построенное дерево."
   ]
  },
  {
   "cell_type": "code",
   "execution_count": 45,
   "metadata": {},
   "outputs": [
    {
     "data": {
      "image/png": "[encoded data removed]",
      "text/plain": [
       "<Figure size 432x288 with 1 Axes>"
      ]
     },
     "metadata": {
      "image/png": {
       "height": 252,
       "width": 380
      },
      "needs_background": "light"
     },
     "output_type": "display_data"
    }
   ],
   "source": [
    "plot_tree(reg, filled=True);"
   ]
  },
  {
   "cell_type": "markdown",
   "metadata": {},
   "source": [
    "Вывод функции `plot_tree` выглядит весьма странно. Видимо, для&nbsp;настолько больших деревьев решений она не&nbsp;предназначена. Возможно, это со&nbsp;временем будет исправлено, так как эту функциональность только недавно добавили."
   ]
  },
  {
   "cell_type": "code",
   "execution_count": 47,
   "metadata": {},
   "outputs": [
    {
     "data": {
      "image/svg+xml": [
       "<?xml version=\"1.0\" encoding=\"UTF-8\" standalone=\"no\"?>\n",
       "<!DOCTYPE svg PUBLIC \"-//W3C//DTD SVG 1.1//EN\"\n",
       " \"http://www.w3.org/Graphics/SVG/1.1/DTD/svg11.dtd\">\n",
       "<!-- Generated by graphviz version 2.38.0 (20140413.2041)\n",
       " -->\n",
       "<!-- Title: Tree Pages: 1 -->\n",
       "<svg width=\"2068pt\" height=\"997pt\"\n",
       " viewBox=\"0.00 0.00 2068.00 997.00\" xmlns=\"http://www.w3.org/2000/svg\" xmlns:xlink=\"http://www.w3.org/1999/xlink\">\n",
       "<g id=\"graph0\" class=\"graph\" transform=\"scale(1 1) rotate(0) translate(4 993)\">\n",
       "<title>Tree</title>\n",
       "<polygon fill=\"white\" stroke=\"none\" points=\"-4,4 -4,-993 2064,-993 2064,4 -4,4\"/>\n",
       "<!-- 0 -->\n",
       "<g id=\"node1\" class=\"node\"><title>0</title>\n",
       "<path fill=\"#f1bc96\" stroke=\"black\" d=\"M1147,-989C1147,-989 1052,-989 1052,-989 1046,-989 1040,-983 1040,-977 1040,-977 1040,-933 1040,-933 1040,-927 1046,-921 1052,-921 1052,-921 1147,-921 1147,-921 1153,-921 1159,-927 1159,-933 1159,-933 1159,-977 1159,-977 1159,-983 1153,-989 1147,-989\"/>\n",
       "<text text-anchor=\"start\" x=\"1058.5\" y=\"-973.8\" font-family=\"Helvetica,sans-Serif\" font-size=\"14.00\">cp ≤ &#45;0.453</text>\n",
       "<text text-anchor=\"start\" x=\"1054.5\" y=\"-958.8\" font-family=\"Helvetica,sans-Serif\" font-size=\"14.00\">mse = 0.249</text>\n",
       "<text text-anchor=\"start\" x=\"1048\" y=\"-943.8\" font-family=\"Helvetica,sans-Serif\" font-size=\"14.00\">samples = 227</text>\n",
       "<text text-anchor=\"start\" x=\"1049.5\" y=\"-928.8\" font-family=\"Helvetica,sans-Serif\" font-size=\"14.00\">value = 0.529</text>\n",
       "</g>\n",
       "<!-- 1 -->\n",
       "<g id=\"node2\" class=\"node\"><title>1</title>\n",
       "<path fill=\"#f9e0cf\" stroke=\"black\" d=\"M895,-885C895,-885 800,-885 800,-885 794,-885 788,-879 788,-873 788,-873 788,-829 788,-829 788,-823 794,-817 800,-817 800,-817 895,-817 895,-817 901,-817 907,-823 907,-829 907,-829 907,-873 907,-873 907,-879 901,-885 895,-885\"/>\n",
       "<text text-anchor=\"start\" x=\"806.5\" y=\"-869.8\" font-family=\"Helvetica,sans-Serif\" font-size=\"14.00\">ca ≤ &#45;0.225</text>\n",
       "<text text-anchor=\"start\" x=\"802.5\" y=\"-854.8\" font-family=\"Helvetica,sans-Serif\" font-size=\"14.00\">mse = 0.184</text>\n",
       "<text text-anchor=\"start\" x=\"796\" y=\"-839.8\" font-family=\"Helvetica,sans-Serif\" font-size=\"14.00\">samples = 111</text>\n",
       "<text text-anchor=\"start\" x=\"797.5\" y=\"-824.8\" font-family=\"Helvetica,sans-Serif\" font-size=\"14.00\">value = 0.243</text>\n",
       "</g>\n",
       "<!-- 0&#45;&gt;1 -->\n",
       "<g id=\"edge1\" class=\"edge\"><title>0&#45;&gt;1</title>\n",
       "<path fill=\"none\" stroke=\"black\" d=\"M1039.78,-929.827C1002.88,-914.892 955.382,-895.666 916.826,-880.06\"/>\n",
       "<polygon fill=\"black\" stroke=\"black\" points=\"917.811,-876.683 907.228,-876.176 915.184,-883.172 917.811,-876.683\"/>\n",
       "<text text-anchor=\"middle\" x=\"916.982\" y=\"-895.494\" font-family=\"Helvetica,sans-Serif\" font-size=\"14.00\">True</text>\n",
       "</g>\n",
       "<!-- 30 -->\n",
       "<g id=\"node31\" class=\"node\"><title>30</title>\n",
       "<path fill=\"#ea9a60\" stroke=\"black\" d=\"M1405,-885C1405,-885 1298,-885 1298,-885 1292,-885 1286,-879 1286,-873 1286,-873 1286,-829 1286,-829 1286,-823 1292,-817 1298,-817 1298,-817 1405,-817 1405,-817 1411,-817 1417,-823 1417,-829 1417,-829 1417,-873 1417,-873 1417,-879 1411,-885 1405,-885\"/>\n",
       "<text text-anchor=\"start\" x=\"1294\" y=\"-869.8\" font-family=\"Helvetica,sans-Serif\" font-size=\"14.00\">oldpeak ≤ 0.785</text>\n",
       "<text text-anchor=\"start\" x=\"1306.5\" y=\"-854.8\" font-family=\"Helvetica,sans-Serif\" font-size=\"14.00\">mse = 0.159</text>\n",
       "<text text-anchor=\"start\" x=\"1300\" y=\"-839.8\" font-family=\"Helvetica,sans-Serif\" font-size=\"14.00\">samples = 116</text>\n",
       "<text text-anchor=\"start\" x=\"1301.5\" y=\"-824.8\" font-family=\"Helvetica,sans-Serif\" font-size=\"14.00\">value = 0.802</text>\n",
       "</g>\n",
       "<!-- 0&#45;&gt;30 -->\n",
       "<g id=\"edge30\" class=\"edge\"><title>0&#45;&gt;30</title>\n",
       "<path fill=\"none\" stroke=\"black\" d=\"M1159.22,-929.827C1194.24,-915.653 1238.81,-897.613 1276.22,-882.471\"/>\n",
       "<polygon fill=\"black\" stroke=\"black\" points=\"1277.61,-885.684 1285.57,-878.688 1274.98,-879.196 1277.61,-885.684\"/>\n",
       "<text text-anchor=\"middle\" x=\"1275.81\" y=\"-898.007\" font-family=\"Helvetica,sans-Serif\" font-size=\"14.00\">False</text>\n",
       "</g>\n",
       "<!-- 2 -->\n",
       "<g id=\"node3\" class=\"node\"><title>2</title>\n",
       "<path fill=\"#f2bf9a\" stroke=\"black\" d=\"M658.5,-781C658.5,-781 566.5,-781 566.5,-781 560.5,-781 554.5,-775 554.5,-769 554.5,-769 554.5,-725 554.5,-725 554.5,-719 560.5,-713 566.5,-713 566.5,-713 658.5,-713 658.5,-713 664.5,-713 670.5,-719 670.5,-725 670.5,-725 670.5,-769 670.5,-769 670.5,-775 664.5,-781 658.5,-781\"/>\n",
       "<text text-anchor=\"start\" x=\"568\" y=\"-765.8\" font-family=\"Helvetica,sans-Serif\" font-size=\"14.00\">thal ≤ 0.305</text>\n",
       "<text text-anchor=\"start\" x=\"572\" y=\"-750.8\" font-family=\"Helvetica,sans-Serif\" font-size=\"14.00\">mse = 0.25</text>\n",
       "<text text-anchor=\"start\" x=\"565.5\" y=\"-735.8\" font-family=\"Helvetica,sans-Serif\" font-size=\"14.00\">samples = 47</text>\n",
       "<text text-anchor=\"start\" x=\"562.5\" y=\"-720.8\" font-family=\"Helvetica,sans-Serif\" font-size=\"14.00\">value = 0.511</text>\n",
       "</g>\n",
       "<!-- 1&#45;&gt;2 -->\n",
       "<g id=\"edge2\" class=\"edge\"><title>1&#45;&gt;2</title>\n",
       "<path fill=\"none\" stroke=\"black\" d=\"M787.896,-824.129C755.082,-809.887 714.238,-792.159 680.222,-777.394\"/>\n",
       "<polygon fill=\"black\" stroke=\"black\" points=\"681.388,-774.085 670.821,-773.314 678.601,-780.506 681.388,-774.085\"/>\n",
       "</g>\n",
       "<!-- 23 -->\n",
       "<g id=\"node24\" class=\"node\"><title>23</title>\n",
       "<path fill=\"#fef9f6\" stroke=\"black\" d=\"M893.5,-781C893.5,-781 801.5,-781 801.5,-781 795.5,-781 789.5,-775 789.5,-769 789.5,-769 789.5,-725 789.5,-725 789.5,-719 795.5,-713 801.5,-713 801.5,-713 893.5,-713 893.5,-713 899.5,-713 905.5,-719 905.5,-725 905.5,-725 905.5,-769 905.5,-769 905.5,-775 899.5,-781 893.5,-781\"/>\n",
       "<text text-anchor=\"start\" x=\"804\" y=\"-765.8\" font-family=\"Helvetica,sans-Serif\" font-size=\"14.00\">age ≤ 1.007</text>\n",
       "<text text-anchor=\"start\" x=\"802.5\" y=\"-750.8\" font-family=\"Helvetica,sans-Serif\" font-size=\"14.00\">mse = 0.045</text>\n",
       "<text text-anchor=\"start\" x=\"800.5\" y=\"-735.8\" font-family=\"Helvetica,sans-Serif\" font-size=\"14.00\">samples = 64</text>\n",
       "<text text-anchor=\"start\" x=\"797.5\" y=\"-720.8\" font-family=\"Helvetica,sans-Serif\" font-size=\"14.00\">value = 0.047</text>\n",
       "</g>\n",
       "<!-- 1&#45;&gt;23 -->\n",
       "<g id=\"edge23\" class=\"edge\"><title>1&#45;&gt;23</title>\n",
       "<path fill=\"none\" stroke=\"black\" d=\"M847.5,-816.884C847.5,-808.778 847.5,-799.982 847.5,-791.472\"/>\n",
       "<polygon fill=\"black\" stroke=\"black\" points=\"851,-791.299 847.5,-781.299 844,-791.299 851,-791.299\"/>\n",
       "</g>\n",
       "<!-- 3 -->\n",
       "<g id=\"node4\" class=\"node\"><title>3</title>\n",
       "<path fill=\"#eda774\" stroke=\"black\" d=\"M433.5,-677C433.5,-677 337.5,-677 337.5,-677 331.5,-677 325.5,-671 325.5,-665 325.5,-665 325.5,-621 325.5,-621 325.5,-615 331.5,-609 337.5,-609 337.5,-609 433.5,-609 433.5,-609 439.5,-609 445.5,-615 445.5,-621 445.5,-621 445.5,-665 445.5,-665 445.5,-671 439.5,-677 433.5,-677\"/>\n",
       "<text text-anchor=\"start\" x=\"333.5\" y=\"-661.8\" font-family=\"Helvetica,sans-Serif\" font-size=\"14.00\">exang ≤ 0.369</text>\n",
       "<text text-anchor=\"start\" x=\"345\" y=\"-646.8\" font-family=\"Helvetica,sans-Serif\" font-size=\"14.00\">mse = 0.21</text>\n",
       "<text text-anchor=\"start\" x=\"338.5\" y=\"-631.8\" font-family=\"Helvetica,sans-Serif\" font-size=\"14.00\">samples = 30</text>\n",
       "<text text-anchor=\"start\" x=\"344.5\" y=\"-616.8\" font-family=\"Helvetica,sans-Serif\" font-size=\"14.00\">value = 0.7</text>\n",
       "</g>\n",
       "<!-- 2&#45;&gt;3 -->\n",
       "<g id=\"edge3\" class=\"edge\"><title>2&#45;&gt;3</title>\n",
       "<path fill=\"none\" stroke=\"black\" d=\"M554.337,-719.865C524.088,-706.273 486.897,-689.562 455.127,-675.286\"/>\n",
       "<polygon fill=\"black\" stroke=\"black\" points=\"456.445,-672.041 445.889,-671.135 453.576,-678.426 456.445,-672.041\"/>\n",
       "</g>\n",
       "<!-- 16 -->\n",
       "<g id=\"node17\" class=\"node\"><title>16</title>\n",
       "<path fill=\"#fae9dc\" stroke=\"black\" d=\"M669,-677C669,-677 556,-677 556,-677 550,-677 544,-671 544,-665 544,-665 544,-621 544,-621 544,-615 550,-609 556,-609 556,-609 669,-609 669,-609 675,-609 681,-615 681,-621 681,-621 681,-665 681,-665 681,-671 675,-677 669,-677\"/>\n",
       "<text text-anchor=\"start\" x=\"552\" y=\"-661.8\" font-family=\"Helvetica,sans-Serif\" font-size=\"14.00\">oldpeak ≤ &#45;0.509</text>\n",
       "<text text-anchor=\"start\" x=\"567.5\" y=\"-646.8\" font-family=\"Helvetica,sans-Serif\" font-size=\"14.00\">mse = 0.145</text>\n",
       "<text text-anchor=\"start\" x=\"565.5\" y=\"-631.8\" font-family=\"Helvetica,sans-Serif\" font-size=\"14.00\">samples = 17</text>\n",
       "<text text-anchor=\"start\" x=\"562.5\" y=\"-616.8\" font-family=\"Helvetica,sans-Serif\" font-size=\"14.00\">value = 0.176</text>\n",
       "</g>\n",
       "<!-- 2&#45;&gt;16 -->\n",
       "<g id=\"edge16\" class=\"edge\"><title>2&#45;&gt;16</title>\n",
       "<path fill=\"none\" stroke=\"black\" d=\"M612.5,-712.884C612.5,-704.778 612.5,-695.982 612.5,-687.472\"/>\n",
       "<polygon fill=\"black\" stroke=\"black\" points=\"616,-687.299 612.5,-677.299 609,-687.299 616,-687.299\"/>\n",
       "</g>\n",
       "<!-- 4 -->\n",
       "<g id=\"node5\" class=\"node\"><title>4</title>\n",
       "<path fill=\"#e88e4e\" stroke=\"black\" d=\"M232.5,-573C232.5,-573 122.5,-573 122.5,-573 116.5,-573 110.5,-567 110.5,-561 110.5,-561 110.5,-517 110.5,-517 110.5,-511 116.5,-505 122.5,-505 122.5,-505 232.5,-505 232.5,-505 238.5,-505 244.5,-511 244.5,-517 244.5,-517 244.5,-561 244.5,-561 244.5,-567 238.5,-573 232.5,-573\"/>\n",
       "<text text-anchor=\"start\" x=\"118.5\" y=\"-557.8\" font-family=\"Helvetica,sans-Serif\" font-size=\"14.00\">thalach ≤ &#45;2.324</text>\n",
       "<text text-anchor=\"start\" x=\"132.5\" y=\"-542.8\" font-family=\"Helvetica,sans-Serif\" font-size=\"14.00\">mse = 0.094</text>\n",
       "<text text-anchor=\"start\" x=\"130.5\" y=\"-527.8\" font-family=\"Helvetica,sans-Serif\" font-size=\"14.00\">samples = 19</text>\n",
       "<text text-anchor=\"start\" x=\"127.5\" y=\"-512.8\" font-family=\"Helvetica,sans-Serif\" font-size=\"14.00\">value = 0.895</text>\n",
       "</g>\n",
       "<!-- 3&#45;&gt;4 -->\n",
       "<g id=\"edge4\" class=\"edge\"><title>3&#45;&gt;4</title>\n",
       "<path fill=\"none\" stroke=\"black\" d=\"M325.338,-612.497C303.094,-601.59 277.576,-589.076 254.071,-577.549\"/>\n",
       "<polygon fill=\"black\" stroke=\"black\" points=\"255.349,-574.278 244.83,-573.017 252.267,-580.563 255.349,-574.278\"/>\n",
       "</g>\n",
       "<!-- 11 -->\n",
       "<g id=\"node12\" class=\"node\"><title>11</title>\n",
       "<path fill=\"#f6d1b7\" stroke=\"black\" d=\"M440.5,-573C440.5,-573 330.5,-573 330.5,-573 324.5,-573 318.5,-567 318.5,-561 318.5,-561 318.5,-517 318.5,-517 318.5,-511 324.5,-505 330.5,-505 330.5,-505 440.5,-505 440.5,-505 446.5,-505 452.5,-511 452.5,-517 452.5,-517 452.5,-561 452.5,-561 452.5,-567 446.5,-573 440.5,-573\"/>\n",
       "<text text-anchor=\"start\" x=\"326.5\" y=\"-557.8\" font-family=\"Helvetica,sans-Serif\" font-size=\"14.00\">restecg ≤ &#45;0.053</text>\n",
       "<text text-anchor=\"start\" x=\"340.5\" y=\"-542.8\" font-family=\"Helvetica,sans-Serif\" font-size=\"14.00\">mse = 0.231</text>\n",
       "<text text-anchor=\"start\" x=\"338.5\" y=\"-527.8\" font-family=\"Helvetica,sans-Serif\" font-size=\"14.00\">samples = 11</text>\n",
       "<text text-anchor=\"start\" x=\"335.5\" y=\"-512.8\" font-family=\"Helvetica,sans-Serif\" font-size=\"14.00\">value = 0.364</text>\n",
       "</g>\n",
       "<!-- 3&#45;&gt;11 -->\n",
       "<g id=\"edge11\" class=\"edge\"><title>3&#45;&gt;11</title>\n",
       "<path fill=\"none\" stroke=\"black\" d=\"M385.5,-608.884C385.5,-600.778 385.5,-591.982 385.5,-583.472\"/>\n",
       "<polygon fill=\"black\" stroke=\"black\" points=\"389,-583.299 385.5,-573.299 382,-583.299 389,-583.299\"/>\n",
       "</g>\n",
       "<!-- 5 -->\n",
       "<g id=\"node6\" class=\"node\"><title>5</title>\n",
       "<path fill=\"#ffffff\" stroke=\"black\" d=\"M89,-461.5C89,-461.5 12,-461.5 12,-461.5 6,-461.5 0,-455.5 0,-449.5 0,-449.5 0,-420.5 0,-420.5 0,-414.5 6,-408.5 12,-408.5 12,-408.5 89,-408.5 89,-408.5 95,-408.5 101,-414.5 101,-420.5 101,-420.5 101,-449.5 101,-449.5 101,-455.5 95,-461.5 89,-461.5\"/>\n",
       "<text text-anchor=\"start\" x=\"14.5\" y=\"-446.3\" font-family=\"Helvetica,sans-Serif\" font-size=\"14.00\">mse = 0.0</text>\n",
       "<text text-anchor=\"start\" x=\"8\" y=\"-431.3\" font-family=\"Helvetica,sans-Serif\" font-size=\"14.00\">samples = 1</text>\n",
       "<text text-anchor=\"start\" x=\"9.5\" y=\"-416.3\" font-family=\"Helvetica,sans-Serif\" font-size=\"14.00\">value = 0.0</text>\n",
       "</g>\n",
       "<!-- 4&#45;&gt;5 -->\n",
       "<g id=\"edge5\" class=\"edge\"><title>4&#45;&gt;5</title>\n",
       "<path fill=\"none\" stroke=\"black\" d=\"M136.267,-504.884C121.478,-493.006 104.844,-479.646 90.1887,-467.876\"/>\n",
       "<polygon fill=\"black\" stroke=\"black\" points=\"92.2632,-465.053 82.2748,-461.52 87.8799,-470.511 92.2632,-465.053\"/>\n",
       "</g>\n",
       "<!-- 6 -->\n",
       "<g id=\"node7\" class=\"node\"><title>6</title>\n",
       "<path fill=\"#e68844\" stroke=\"black\" d=\"M223.5,-469C223.5,-469 131.5,-469 131.5,-469 125.5,-469 119.5,-463 119.5,-457 119.5,-457 119.5,-413 119.5,-413 119.5,-407 125.5,-401 131.5,-401 131.5,-401 223.5,-401 223.5,-401 229.5,-401 235.5,-407 235.5,-413 235.5,-413 235.5,-457 235.5,-457 235.5,-463 229.5,-469 223.5,-469\"/>\n",
       "<text text-anchor=\"start\" x=\"132.5\" y=\"-453.8\" font-family=\"Helvetica,sans-Serif\" font-size=\"14.00\">chol ≤ 1.357</text>\n",
       "<text text-anchor=\"start\" x=\"132.5\" y=\"-438.8\" font-family=\"Helvetica,sans-Serif\" font-size=\"14.00\">mse = 0.052</text>\n",
       "<text text-anchor=\"start\" x=\"130.5\" y=\"-423.8\" font-family=\"Helvetica,sans-Serif\" font-size=\"14.00\">samples = 18</text>\n",
       "<text text-anchor=\"start\" x=\"127.5\" y=\"-408.8\" font-family=\"Helvetica,sans-Serif\" font-size=\"14.00\">value = 0.944</text>\n",
       "</g>\n",
       "<!-- 4&#45;&gt;6 -->\n",
       "<g id=\"edge6\" class=\"edge\"><title>4&#45;&gt;6</title>\n",
       "<path fill=\"none\" stroke=\"black\" d=\"M177.5,-504.884C177.5,-496.778 177.5,-487.982 177.5,-479.472\"/>\n",
       "<polygon fill=\"black\" stroke=\"black\" points=\"181,-479.299 177.5,-469.299 174,-479.299 181,-479.299\"/>\n",
       "</g>\n",
       "<!-- 7 -->\n",
       "<g id=\"node8\" class=\"node\"><title>7</title>\n",
       "<path fill=\"#e58139\" stroke=\"black\" d=\"M155.5,-357.5C155.5,-357.5 69.5,-357.5 69.5,-357.5 63.5,-357.5 57.5,-351.5 57.5,-345.5 57.5,-345.5 57.5,-316.5 57.5,-316.5 57.5,-310.5 63.5,-304.5 69.5,-304.5 69.5,-304.5 155.5,-304.5 155.5,-304.5 161.5,-304.5 167.5,-310.5 167.5,-316.5 167.5,-316.5 167.5,-345.5 167.5,-345.5 167.5,-351.5 161.5,-357.5 155.5,-357.5\"/>\n",
       "<text text-anchor=\"start\" x=\"76.5\" y=\"-342.3\" font-family=\"Helvetica,sans-Serif\" font-size=\"14.00\">mse = 0.0</text>\n",
       "<text text-anchor=\"start\" x=\"65.5\" y=\"-327.3\" font-family=\"Helvetica,sans-Serif\" font-size=\"14.00\">samples = 16</text>\n",
       "<text text-anchor=\"start\" x=\"71.5\" y=\"-312.3\" font-family=\"Helvetica,sans-Serif\" font-size=\"14.00\">value = 1.0</text>\n",
       "</g>\n",
       "<!-- 6&#45;&gt;7 -->\n",
       "<g id=\"edge7\" class=\"edge\"><title>6&#45;&gt;7</title>\n",
       "<path fill=\"none\" stroke=\"black\" d=\"M156.396,-400.884C149.318,-389.776 141.413,-377.372 134.284,-366.184\"/>\n",
       "<polygon fill=\"black\" stroke=\"black\" points=\"137.088,-364.072 128.763,-357.52 131.185,-367.834 137.088,-364.072\"/>\n",
       "</g>\n",
       "<!-- 8 -->\n",
       "<g id=\"node9\" class=\"node\"><title>8</title>\n",
       "<path fill=\"#f2c09c\" stroke=\"black\" d=\"M287,-365C287,-365 198,-365 198,-365 192,-365 186,-359 186,-353 186,-353 186,-309 186,-309 186,-303 192,-297 198,-297 198,-297 287,-297 287,-297 293,-297 299,-303 299,-309 299,-309 299,-353 299,-353 299,-359 293,-365 287,-365\"/>\n",
       "<text text-anchor=\"start\" x=\"194\" y=\"-349.8\" font-family=\"Helvetica,sans-Serif\" font-size=\"14.00\">slope ≤ 0.164</text>\n",
       "<text text-anchor=\"start\" x=\"202\" y=\"-334.8\" font-family=\"Helvetica,sans-Serif\" font-size=\"14.00\">mse = 0.25</text>\n",
       "<text text-anchor=\"start\" x=\"200\" y=\"-319.8\" font-family=\"Helvetica,sans-Serif\" font-size=\"14.00\">samples = 2</text>\n",
       "<text text-anchor=\"start\" x=\"201.5\" y=\"-304.8\" font-family=\"Helvetica,sans-Serif\" font-size=\"14.00\">value = 0.5</text>\n",
       "</g>\n",
       "<!-- 6&#45;&gt;8 -->\n",
       "<g id=\"edge8\" class=\"edge\"><title>6&#45;&gt;8</title>\n",
       "<path fill=\"none\" stroke=\"black\" d=\"M198.604,-400.884C204.11,-392.243 210.115,-382.819 215.867,-373.793\"/>\n",
       "<polygon fill=\"black\" stroke=\"black\" points=\"218.857,-375.614 221.28,-365.299 212.954,-371.852 218.857,-375.614\"/>\n",
       "</g>\n",
       "<!-- 9 -->\n",
       "<g id=\"node10\" class=\"node\"><title>9</title>\n",
       "<path fill=\"#e58139\" stroke=\"black\" d=\"M222,-253.5C222,-253.5 145,-253.5 145,-253.5 139,-253.5 133,-247.5 133,-241.5 133,-241.5 133,-212.5 133,-212.5 133,-206.5 139,-200.5 145,-200.5 145,-200.5 222,-200.5 222,-200.5 228,-200.5 234,-206.5 234,-212.5 234,-212.5 234,-241.5 234,-241.5 234,-247.5 228,-253.5 222,-253.5\"/>\n",
       "<text text-anchor=\"start\" x=\"147.5\" y=\"-238.3\" font-family=\"Helvetica,sans-Serif\" font-size=\"14.00\">mse = 0.0</text>\n",
       "<text text-anchor=\"start\" x=\"141\" y=\"-223.3\" font-family=\"Helvetica,sans-Serif\" font-size=\"14.00\">samples = 1</text>\n",
       "<text text-anchor=\"start\" x=\"142.5\" y=\"-208.3\" font-family=\"Helvetica,sans-Serif\" font-size=\"14.00\">value = 1.0</text>\n",
       "</g>\n",
       "<!-- 8&#45;&gt;9 -->\n",
       "<g id=\"edge9\" class=\"edge\"><title>8&#45;&gt;9</title>\n",
       "<path fill=\"none\" stroke=\"black\" d=\"M223.344,-296.884C216.919,-285.776 209.745,-273.372 203.273,-262.184\"/>\n",
       "<polygon fill=\"black\" stroke=\"black\" points=\"206.298,-260.424 198.262,-253.52 200.239,-263.929 206.298,-260.424\"/>\n",
       "</g>\n",
       "<!-- 10 -->\n",
       "<g id=\"node11\" class=\"node\"><title>10</title>\n",
       "<path fill=\"#ffffff\" stroke=\"black\" d=\"M341,-253.5C341,-253.5 264,-253.5 264,-253.5 258,-253.5 252,-247.5 252,-241.5 252,-241.5 252,-212.5 252,-212.5 252,-206.5 258,-200.5 264,-200.5 264,-200.5 341,-200.5 341,-200.5 347,-200.5 353,-206.5 353,-212.5 353,-212.5 353,-241.5 353,-241.5 353,-247.5 347,-253.5 341,-253.5\"/>\n",
       "<text text-anchor=\"start\" x=\"266.5\" y=\"-238.3\" font-family=\"Helvetica,sans-Serif\" font-size=\"14.00\">mse = 0.0</text>\n",
       "<text text-anchor=\"start\" x=\"260\" y=\"-223.3\" font-family=\"Helvetica,sans-Serif\" font-size=\"14.00\">samples = 1</text>\n",
       "<text text-anchor=\"start\" x=\"261.5\" y=\"-208.3\" font-family=\"Helvetica,sans-Serif\" font-size=\"14.00\">value = 0.0</text>\n",
       "</g>\n",
       "<!-- 8&#45;&gt;10 -->\n",
       "<g id=\"edge10\" class=\"edge\"><title>8&#45;&gt;10</title>\n",
       "<path fill=\"none\" stroke=\"black\" d=\"M261.98,-296.884C268.514,-285.776 275.811,-273.372 282.392,-262.184\"/>\n",
       "<polygon fill=\"black\" stroke=\"black\" points=\"285.435,-263.914 287.488,-253.52 279.401,-260.365 285.435,-263.914\"/>\n",
       "</g>\n",
       "<!-- 12 -->\n",
       "<g id=\"node13\" class=\"node\"><title>12</title>\n",
       "<path fill=\"#e58139\" stroke=\"black\" d=\"M343,-461.5C343,-461.5 266,-461.5 266,-461.5 260,-461.5 254,-455.5 254,-449.5 254,-449.5 254,-420.5 254,-420.5 254,-414.5 260,-408.5 266,-408.5 266,-408.5 343,-408.5 343,-408.5 349,-408.5 355,-414.5 355,-420.5 355,-420.5 355,-449.5 355,-449.5 355,-455.5 349,-461.5 343,-461.5\"/>\n",
       "<text text-anchor=\"start\" x=\"268.5\" y=\"-446.3\" font-family=\"Helvetica,sans-Serif\" font-size=\"14.00\">mse = 0.0</text>\n",
       "<text text-anchor=\"start\" x=\"262\" y=\"-431.3\" font-family=\"Helvetica,sans-Serif\" font-size=\"14.00\">samples = 3</text>\n",
       "<text text-anchor=\"start\" x=\"263.5\" y=\"-416.3\" font-family=\"Helvetica,sans-Serif\" font-size=\"14.00\">value = 1.0</text>\n",
       "</g>\n",
       "<!-- 11&#45;&gt;12 -->\n",
       "<g id=\"edge12\" class=\"edge\"><title>11&#45;&gt;12</title>\n",
       "<path fill=\"none\" stroke=\"black\" d=\"M359.202,-504.884C350.206,-493.556 340.14,-480.88 331.119,-469.521\"/>\n",
       "<polygon fill=\"black\" stroke=\"black\" points=\"333.726,-467.174 324.766,-461.52 328.244,-471.528 333.726,-467.174\"/>\n",
       "</g>\n",
       "<!-- 13 -->\n",
       "<g id=\"node14\" class=\"node\"><title>13</title>\n",
       "<path fill=\"#fcefe6\" stroke=\"black\" d=\"M501.5,-469C501.5,-469 385.5,-469 385.5,-469 379.5,-469 373.5,-463 373.5,-457 373.5,-457 373.5,-413 373.5,-413 373.5,-407 379.5,-401 385.5,-401 385.5,-401 501.5,-401 501.5,-401 507.5,-401 513.5,-407 513.5,-413 513.5,-413 513.5,-457 513.5,-457 513.5,-463 507.5,-469 501.5,-469\"/>\n",
       "<text text-anchor=\"start\" x=\"381.5\" y=\"-453.8\" font-family=\"Helvetica,sans-Serif\" font-size=\"14.00\">trestbps ≤ &#45;0.949</text>\n",
       "<text text-anchor=\"start\" x=\"398.5\" y=\"-438.8\" font-family=\"Helvetica,sans-Serif\" font-size=\"14.00\">mse = 0.109</text>\n",
       "<text text-anchor=\"start\" x=\"401\" y=\"-423.8\" font-family=\"Helvetica,sans-Serif\" font-size=\"14.00\">samples = 8</text>\n",
       "<text text-anchor=\"start\" x=\"393.5\" y=\"-408.8\" font-family=\"Helvetica,sans-Serif\" font-size=\"14.00\">value = 0.125</text>\n",
       "</g>\n",
       "<!-- 11&#45;&gt;13 -->\n",
       "<g id=\"edge13\" class=\"edge\"><title>11&#45;&gt;13</title>\n",
       "<path fill=\"none\" stroke=\"black\" d=\"M404.331,-504.884C409.193,-496.332 414.492,-487.013 419.577,-478.072\"/>\n",
       "<polygon fill=\"black\" stroke=\"black\" points=\"422.665,-479.722 424.565,-469.299 416.579,-476.262 422.665,-479.722\"/>\n",
       "</g>\n",
       "<!-- 14 -->\n",
       "<g id=\"node15\" class=\"node\"><title>14</title>\n",
       "<path fill=\"#e58139\" stroke=\"black\" d=\"M444,-357.5C444,-357.5 367,-357.5 367,-357.5 361,-357.5 355,-351.5 355,-345.5 355,-345.5 355,-316.5 355,-316.5 355,-310.5 361,-304.5 367,-304.5 367,-304.5 444,-304.5 444,-304.5 450,-304.5 456,-310.5 456,-316.5 456,-316.5 456,-345.5 456,-345.5 456,-351.5 450,-357.5 444,-357.5\"/>\n",
       "<text text-anchor=\"start\" x=\"369.5\" y=\"-342.3\" font-family=\"Helvetica,sans-Serif\" font-size=\"14.00\">mse = 0.0</text>\n",
       "<text text-anchor=\"start\" x=\"363\" y=\"-327.3\" font-family=\"Helvetica,sans-Serif\" font-size=\"14.00\">samples = 1</text>\n",
       "<text text-anchor=\"start\" x=\"364.5\" y=\"-312.3\" font-family=\"Helvetica,sans-Serif\" font-size=\"14.00\">value = 1.0</text>\n",
       "</g>\n",
       "<!-- 13&#45;&gt;14 -->\n",
       "<g id=\"edge14\" class=\"edge\"><title>13&#45;&gt;14</title>\n",
       "<path fill=\"none\" stroke=\"black\" d=\"M431.162,-400.884C427.147,-390.106 422.677,-378.108 418.608,-367.184\"/>\n",
       "<polygon fill=\"black\" stroke=\"black\" points=\"421.778,-365.669 415.007,-357.52 415.219,-368.113 421.778,-365.669\"/>\n",
       "</g>\n",
       "<!-- 15 -->\n",
       "<g id=\"node16\" class=\"node\"><title>15</title>\n",
       "<path fill=\"#ffffff\" stroke=\"black\" d=\"M563,-357.5C563,-357.5 486,-357.5 486,-357.5 480,-357.5 474,-351.5 474,-345.5 474,-345.5 474,-316.5 474,-316.5 474,-310.5 480,-304.5 486,-304.5 486,-304.5 563,-304.5 563,-304.5 569,-304.5 575,-310.5 575,-316.5 575,-316.5 575,-345.5 575,-345.5 575,-351.5 569,-357.5 563,-357.5\"/>\n",
       "<text text-anchor=\"start\" x=\"488.5\" y=\"-342.3\" font-family=\"Helvetica,sans-Serif\" font-size=\"14.00\">mse = 0.0</text>\n",
       "<text text-anchor=\"start\" x=\"482\" y=\"-327.3\" font-family=\"Helvetica,sans-Serif\" font-size=\"14.00\">samples = 7</text>\n",
       "<text text-anchor=\"start\" x=\"483.5\" y=\"-312.3\" font-family=\"Helvetica,sans-Serif\" font-size=\"14.00\">value = 0.0</text>\n",
       "</g>\n",
       "<!-- 13&#45;&gt;15 -->\n",
       "<g id=\"edge15\" class=\"edge\"><title>13&#45;&gt;15</title>\n",
       "<path fill=\"none\" stroke=\"black\" d=\"M469.798,-400.884C478.794,-389.556 488.86,-376.88 497.881,-365.521\"/>\n",
       "<polygon fill=\"black\" stroke=\"black\" points=\"500.756,-367.528 504.234,-357.52 495.274,-363.174 500.756,-367.528\"/>\n",
       "</g>\n",
       "<!-- 17 -->\n",
       "<g id=\"node18\" class=\"node\"><title>17</title>\n",
       "<path fill=\"#efb388\" stroke=\"black\" d=\"M626,-573C626,-573 539,-573 539,-573 533,-573 527,-567 527,-561 527,-561 527,-517 527,-517 527,-511 533,-505 539,-505 539,-505 626,-505 626,-505 632,-505 638,-511 638,-517 638,-517 638,-561 638,-561 638,-567 632,-573 626,-573\"/>\n",
       "<text text-anchor=\"start\" x=\"535\" y=\"-557.8\" font-family=\"Helvetica,sans-Serif\" font-size=\"14.00\">chol ≤ &#45;1.387</text>\n",
       "<text text-anchor=\"start\" x=\"542\" y=\"-542.8\" font-family=\"Helvetica,sans-Serif\" font-size=\"14.00\">mse = 0.24</text>\n",
       "<text text-anchor=\"start\" x=\"540\" y=\"-527.8\" font-family=\"Helvetica,sans-Serif\" font-size=\"14.00\">samples = 5</text>\n",
       "<text text-anchor=\"start\" x=\"541.5\" y=\"-512.8\" font-family=\"Helvetica,sans-Serif\" font-size=\"14.00\">value = 0.6</text>\n",
       "</g>\n",
       "<!-- 16&#45;&gt;17 -->\n",
       "<g id=\"edge17\" class=\"edge\"><title>16&#45;&gt;17</title>\n",
       "<path fill=\"none\" stroke=\"black\" d=\"M602.76,-608.884C600.323,-600.6 597.675,-591.595 595.121,-582.911\"/>\n",
       "<polygon fill=\"black\" stroke=\"black\" points=\"598.473,-581.905 592.294,-573.299 591.758,-583.881 598.473,-581.905\"/>\n",
       "</g>\n",
       "<!-- 22 -->\n",
       "<g id=\"node23\" class=\"node\"><title>22</title>\n",
       "<path fill=\"#ffffff\" stroke=\"black\" d=\"M754.5,-565.5C754.5,-565.5 668.5,-565.5 668.5,-565.5 662.5,-565.5 656.5,-559.5 656.5,-553.5 656.5,-553.5 656.5,-524.5 656.5,-524.5 656.5,-518.5 662.5,-512.5 668.5,-512.5 668.5,-512.5 754.5,-512.5 754.5,-512.5 760.5,-512.5 766.5,-518.5 766.5,-524.5 766.5,-524.5 766.5,-553.5 766.5,-553.5 766.5,-559.5 760.5,-565.5 754.5,-565.5\"/>\n",
       "<text text-anchor=\"start\" x=\"675.5\" y=\"-550.3\" font-family=\"Helvetica,sans-Serif\" font-size=\"14.00\">mse = 0.0</text>\n",
       "<text text-anchor=\"start\" x=\"664.5\" y=\"-535.3\" font-family=\"Helvetica,sans-Serif\" font-size=\"14.00\">samples = 12</text>\n",
       "<text text-anchor=\"start\" x=\"670.5\" y=\"-520.3\" font-family=\"Helvetica,sans-Serif\" font-size=\"14.00\">value = 0.0</text>\n",
       "</g>\n",
       "<!-- 16&#45;&gt;22 -->\n",
       "<g id=\"edge22\" class=\"edge\"><title>16&#45;&gt;22</title>\n",
       "<path fill=\"none\" stroke=\"black\" d=\"M644.642,-608.884C655.851,-597.336 668.418,-584.387 679.606,-572.86\"/>\n",
       "<polygon fill=\"black\" stroke=\"black\" points=\"682.277,-575.133 686.731,-565.52 677.254,-570.258 682.277,-575.133\"/>\n",
       "</g>\n",
       "<!-- 18 -->\n",
       "<g id=\"node19\" class=\"node\"><title>18</title>\n",
       "<path fill=\"#ffffff\" stroke=\"black\" d=\"M621,-461.5C621,-461.5 544,-461.5 544,-461.5 538,-461.5 532,-455.5 532,-449.5 532,-449.5 532,-420.5 532,-420.5 532,-414.5 538,-408.5 544,-408.5 544,-408.5 621,-408.5 621,-408.5 627,-408.5 633,-414.5 633,-420.5 633,-420.5 633,-449.5 633,-449.5 633,-455.5 627,-461.5 621,-461.5\"/>\n",
       "<text text-anchor=\"start\" x=\"546.5\" y=\"-446.3\" font-family=\"Helvetica,sans-Serif\" font-size=\"14.00\">mse = 0.0</text>\n",
       "<text text-anchor=\"start\" x=\"540\" y=\"-431.3\" font-family=\"Helvetica,sans-Serif\" font-size=\"14.00\">samples = 1</text>\n",
       "<text text-anchor=\"start\" x=\"541.5\" y=\"-416.3\" font-family=\"Helvetica,sans-Serif\" font-size=\"14.00\">value = 0.0</text>\n",
       "</g>\n",
       "<!-- 17&#45;&gt;18 -->\n",
       "<g id=\"edge18\" class=\"edge\"><title>17&#45;&gt;18</title>\n",
       "<path fill=\"none\" stroke=\"black\" d=\"M582.5,-504.884C582.5,-494.326 582.5,-482.597 582.5,-471.854\"/>\n",
       "<polygon fill=\"black\" stroke=\"black\" points=\"586,-471.52 582.5,-461.52 579,-471.52 586,-471.52\"/>\n",
       "</g>\n",
       "<!-- 19 -->\n",
       "<g id=\"node20\" class=\"node\"><title>19</title>\n",
       "<path fill=\"#eca06a\" stroke=\"black\" d=\"M750,-469C750,-469 663,-469 663,-469 657,-469 651,-463 651,-457 651,-457 651,-413 651,-413 651,-407 657,-401 663,-401 663,-401 750,-401 750,-401 756,-401 762,-407 762,-413 762,-413 762,-457 762,-457 762,-463 756,-469 750,-469\"/>\n",
       "<text text-anchor=\"start\" x=\"659\" y=\"-453.8\" font-family=\"Helvetica,sans-Serif\" font-size=\"14.00\">chol ≤ &#45;0.247</text>\n",
       "<text text-anchor=\"start\" x=\"661.5\" y=\"-438.8\" font-family=\"Helvetica,sans-Serif\" font-size=\"14.00\">mse = 0.188</text>\n",
       "<text text-anchor=\"start\" x=\"664\" y=\"-423.8\" font-family=\"Helvetica,sans-Serif\" font-size=\"14.00\">samples = 4</text>\n",
       "<text text-anchor=\"start\" x=\"661\" y=\"-408.8\" font-family=\"Helvetica,sans-Serif\" font-size=\"14.00\">value = 0.75</text>\n",
       "</g>\n",
       "<!-- 17&#45;&gt;19 -->\n",
       "<g id=\"edge19\" class=\"edge\"><title>17&#45;&gt;19</title>\n",
       "<path fill=\"none\" stroke=\"black\" d=\"M622.759,-504.884C634.021,-495.62 646.378,-485.455 658.06,-475.845\"/>\n",
       "<polygon fill=\"black\" stroke=\"black\" points=\"660.519,-478.355 666.018,-469.299 656.072,-472.949 660.519,-478.355\"/>\n",
       "</g>\n",
       "<!-- 20 -->\n",
       "<g id=\"node21\" class=\"node\"><title>20</title>\n",
       "<path fill=\"#e58139\" stroke=\"black\" d=\"M714,-357.5C714,-357.5 637,-357.5 637,-357.5 631,-357.5 625,-351.5 625,-345.5 625,-345.5 625,-316.5 625,-316.5 625,-310.5 631,-304.5 637,-304.5 637,-304.5 714,-304.5 714,-304.5 720,-304.5 726,-310.5 726,-316.5 726,-316.5 726,-345.5 726,-345.5 726,-351.5 720,-357.5 714,-357.5\"/>\n",
       "<text text-anchor=\"start\" x=\"639.5\" y=\"-342.3\" font-family=\"Helvetica,sans-Serif\" font-size=\"14.00\">mse = 0.0</text>\n",
       "<text text-anchor=\"start\" x=\"633\" y=\"-327.3\" font-family=\"Helvetica,sans-Serif\" font-size=\"14.00\">samples = 3</text>\n",
       "<text text-anchor=\"start\" x=\"634.5\" y=\"-312.3\" font-family=\"Helvetica,sans-Serif\" font-size=\"14.00\">value = 1.0</text>\n",
       "</g>\n",
       "<!-- 19&#45;&gt;20 -->\n",
       "<g id=\"edge20\" class=\"edge\"><title>19&#45;&gt;20</title>\n",
       "<path fill=\"none\" stroke=\"black\" d=\"M696.435,-400.884C693.16,-390.106 689.513,-378.108 686.193,-367.184\"/>\n",
       "<polygon fill=\"black\" stroke=\"black\" points=\"689.513,-366.07 683.256,-357.52 682.815,-368.106 689.513,-366.07\"/>\n",
       "</g>\n",
       "<!-- 21 -->\n",
       "<g id=\"node22\" class=\"node\"><title>21</title>\n",
       "<path fill=\"#ffffff\" stroke=\"black\" d=\"M833,-357.5C833,-357.5 756,-357.5 756,-357.5 750,-357.5 744,-351.5 744,-345.5 744,-345.5 744,-316.5 744,-316.5 744,-310.5 750,-304.5 756,-304.5 756,-304.5 833,-304.5 833,-304.5 839,-304.5 845,-310.5 845,-316.5 845,-316.5 845,-345.5 845,-345.5 845,-351.5 839,-357.5 833,-357.5\"/>\n",
       "<text text-anchor=\"start\" x=\"758.5\" y=\"-342.3\" font-family=\"Helvetica,sans-Serif\" font-size=\"14.00\">mse = 0.0</text>\n",
       "<text text-anchor=\"start\" x=\"752\" y=\"-327.3\" font-family=\"Helvetica,sans-Serif\" font-size=\"14.00\">samples = 1</text>\n",
       "<text text-anchor=\"start\" x=\"753.5\" y=\"-312.3\" font-family=\"Helvetica,sans-Serif\" font-size=\"14.00\">value = 0.0</text>\n",
       "</g>\n",
       "<!-- 19&#45;&gt;21 -->\n",
       "<g id=\"edge21\" class=\"edge\"><title>19&#45;&gt;21</title>\n",
       "<path fill=\"none\" stroke=\"black\" d=\"M735.071,-400.884C744.939,-389.446 755.992,-376.634 765.865,-365.19\"/>\n",
       "<polygon fill=\"black\" stroke=\"black\" points=\"768.6,-367.378 772.483,-357.52 763.3,-362.805 768.6,-367.378\"/>\n",
       "</g>\n",
       "<!-- 24 -->\n",
       "<g id=\"node25\" class=\"node\"><title>24</title>\n",
       "<path fill=\"#ffffff\" stroke=\"black\" d=\"M820.5,-669.5C820.5,-669.5 734.5,-669.5 734.5,-669.5 728.5,-669.5 722.5,-663.5 722.5,-657.5 722.5,-657.5 722.5,-628.5 722.5,-628.5 722.5,-622.5 728.5,-616.5 734.5,-616.5 734.5,-616.5 820.5,-616.5 820.5,-616.5 826.5,-616.5 832.5,-622.5 832.5,-628.5 832.5,-628.5 832.5,-657.5 832.5,-657.5 832.5,-663.5 826.5,-669.5 820.5,-669.5\"/>\n",
       "<text text-anchor=\"start\" x=\"741.5\" y=\"-654.3\" font-family=\"Helvetica,sans-Serif\" font-size=\"14.00\">mse = 0.0</text>\n",
       "<text text-anchor=\"start\" x=\"730.5\" y=\"-639.3\" font-family=\"Helvetica,sans-Serif\" font-size=\"14.00\">samples = 47</text>\n",
       "<text text-anchor=\"start\" x=\"736.5\" y=\"-624.3\" font-family=\"Helvetica,sans-Serif\" font-size=\"14.00\">value = 0.0</text>\n",
       "</g>\n",
       "<!-- 23&#45;&gt;24 -->\n",
       "<g id=\"edge24\" class=\"edge\"><title>23&#45;&gt;24</title>\n",
       "<path fill=\"none\" stroke=\"black\" d=\"M824.773,-712.884C817.074,-701.666 808.469,-689.126 800.732,-677.852\"/>\n",
       "<polygon fill=\"black\" stroke=\"black\" points=\"803.558,-675.785 795.014,-669.52 797.786,-679.746 803.558,-675.785\"/>\n",
       "</g>\n",
       "<!-- 25 -->\n",
       "<g id=\"node26\" class=\"node\"><title>25</title>\n",
       "<path fill=\"#fae9dc\" stroke=\"black\" d=\"M972.5,-677C972.5,-677 862.5,-677 862.5,-677 856.5,-677 850.5,-671 850.5,-665 850.5,-665 850.5,-621 850.5,-621 850.5,-615 856.5,-609 862.5,-609 862.5,-609 972.5,-609 972.5,-609 978.5,-609 984.5,-615 984.5,-621 984.5,-621 984.5,-665 984.5,-665 984.5,-671 978.5,-677 972.5,-677\"/>\n",
       "<text text-anchor=\"start\" x=\"858.5\" y=\"-661.8\" font-family=\"Helvetica,sans-Serif\" font-size=\"14.00\">restecg ≤ &#45;0.053</text>\n",
       "<text text-anchor=\"start\" x=\"872.5\" y=\"-646.8\" font-family=\"Helvetica,sans-Serif\" font-size=\"14.00\">mse = 0.145</text>\n",
       "<text text-anchor=\"start\" x=\"870.5\" y=\"-631.8\" font-family=\"Helvetica,sans-Serif\" font-size=\"14.00\">samples = 17</text>\n",
       "<text text-anchor=\"start\" x=\"867.5\" y=\"-616.8\" font-family=\"Helvetica,sans-Serif\" font-size=\"14.00\">value = 0.176</text>\n",
       "</g>\n",
       "<!-- 23&#45;&gt;25 -->\n",
       "<g id=\"edge25\" class=\"edge\"><title>23&#45;&gt;25</title>\n",
       "<path fill=\"none\" stroke=\"black\" d=\"M870.227,-712.884C876.157,-704.243 882.624,-694.819 888.819,-685.793\"/>\n",
       "<polygon fill=\"black\" stroke=\"black\" points=\"891.875,-687.525 894.647,-677.299 886.103,-683.564 891.875,-687.525\"/>\n",
       "</g>\n",
       "<!-- 26 -->\n",
       "<g id=\"node27\" class=\"node\"><title>26</title>\n",
       "<path fill=\"#ffffff\" stroke=\"black\" d=\"M882.5,-565.5C882.5,-565.5 796.5,-565.5 796.5,-565.5 790.5,-565.5 784.5,-559.5 784.5,-553.5 784.5,-553.5 784.5,-524.5 784.5,-524.5 784.5,-518.5 790.5,-512.5 796.5,-512.5 796.5,-512.5 882.5,-512.5 882.5,-512.5 888.5,-512.5 894.5,-518.5 894.5,-524.5 894.5,-524.5 894.5,-553.5 894.5,-553.5 894.5,-559.5 888.5,-565.5 882.5,-565.5\"/>\n",
       "<text text-anchor=\"start\" x=\"803.5\" y=\"-550.3\" font-family=\"Helvetica,sans-Serif\" font-size=\"14.00\">mse = 0.0</text>\n",
       "<text text-anchor=\"start\" x=\"792.5\" y=\"-535.3\" font-family=\"Helvetica,sans-Serif\" font-size=\"14.00\">samples = 11</text>\n",
       "<text text-anchor=\"start\" x=\"798.5\" y=\"-520.3\" font-family=\"Helvetica,sans-Serif\" font-size=\"14.00\">value = 0.0</text>\n",
       "</g>\n",
       "<!-- 25&#45;&gt;26 -->\n",
       "<g id=\"edge26\" class=\"edge\"><title>25&#45;&gt;26</title>\n",
       "<path fill=\"none\" stroke=\"black\" d=\"M892.176,-608.884C883.513,-597.556 873.82,-584.88 865.133,-573.521\"/>\n",
       "<polygon fill=\"black\" stroke=\"black\" points=\"867.87,-571.337 859.015,-565.52 862.31,-575.59 867.87,-571.337\"/>\n",
       "</g>\n",
       "<!-- 27 -->\n",
       "<g id=\"node28\" class=\"node\"><title>27</title>\n",
       "<path fill=\"#f2c09c\" stroke=\"black\" d=\"M1002,-573C1002,-573 925,-573 925,-573 919,-573 913,-567 913,-561 913,-561 913,-517 913,-517 913,-511 919,-505 925,-505 925,-505 1002,-505 1002,-505 1008,-505 1014,-511 1014,-517 1014,-517 1014,-561 1014,-561 1014,-567 1008,-573 1002,-573\"/>\n",
       "<text text-anchor=\"start\" x=\"922.5\" y=\"-557.8\" font-family=\"Helvetica,sans-Serif\" font-size=\"14.00\">fbs ≤ 0.988</text>\n",
       "<text text-anchor=\"start\" x=\"923\" y=\"-542.8\" font-family=\"Helvetica,sans-Serif\" font-size=\"14.00\">mse = 0.25</text>\n",
       "<text text-anchor=\"start\" x=\"921\" y=\"-527.8\" font-family=\"Helvetica,sans-Serif\" font-size=\"14.00\">samples = 6</text>\n",
       "<text text-anchor=\"start\" x=\"922.5\" y=\"-512.8\" font-family=\"Helvetica,sans-Serif\" font-size=\"14.00\">value = 0.5</text>\n",
       "</g>\n",
       "<!-- 25&#45;&gt;27 -->\n",
       "<g id=\"edge27\" class=\"edge\"><title>25&#45;&gt;27</title>\n",
       "<path fill=\"none\" stroke=\"black\" d=\"M932.435,-608.884C936.211,-600.511 940.319,-591.401 944.274,-582.631\"/>\n",
       "<polygon fill=\"black\" stroke=\"black\" points=\"947.562,-583.854 948.483,-573.299 941.181,-580.976 947.562,-583.854\"/>\n",
       "</g>\n",
       "<!-- 28 -->\n",
       "<g id=\"node29\" class=\"node\"><title>28</title>\n",
       "<path fill=\"#e58139\" stroke=\"black\" d=\"M883,-461.5C883,-461.5 806,-461.5 806,-461.5 800,-461.5 794,-455.5 794,-449.5 794,-449.5 794,-420.5 794,-420.5 794,-414.5 800,-408.5 806,-408.5 806,-408.5 883,-408.5 883,-408.5 889,-408.5 895,-414.5 895,-420.5 895,-420.5 895,-449.5 895,-449.5 895,-455.5 889,-461.5 883,-461.5\"/>\n",
       "<text text-anchor=\"start\" x=\"808.5\" y=\"-446.3\" font-family=\"Helvetica,sans-Serif\" font-size=\"14.00\">mse = 0.0</text>\n",
       "<text text-anchor=\"start\" x=\"802\" y=\"-431.3\" font-family=\"Helvetica,sans-Serif\" font-size=\"14.00\">samples = 3</text>\n",
       "<text text-anchor=\"start\" x=\"803.5\" y=\"-416.3\" font-family=\"Helvetica,sans-Serif\" font-size=\"14.00\">value = 1.0</text>\n",
       "</g>\n",
       "<!-- 27&#45;&gt;28 -->\n",
       "<g id=\"edge28\" class=\"edge\"><title>27&#45;&gt;28</title>\n",
       "<path fill=\"none\" stroke=\"black\" d=\"M924.864,-504.884C911.135,-493.116 895.709,-479.894 882.071,-468.203\"/>\n",
       "<polygon fill=\"black\" stroke=\"black\" points=\"884.144,-465.37 874.273,-461.52 879.588,-470.685 884.144,-465.37\"/>\n",
       "</g>\n",
       "<!-- 29 -->\n",
       "<g id=\"node30\" class=\"node\"><title>29</title>\n",
       "<path fill=\"#ffffff\" stroke=\"black\" d=\"M1002,-461.5C1002,-461.5 925,-461.5 925,-461.5 919,-461.5 913,-455.5 913,-449.5 913,-449.5 913,-420.5 913,-420.5 913,-414.5 919,-408.5 925,-408.5 925,-408.5 1002,-408.5 1002,-408.5 1008,-408.5 1014,-414.5 1014,-420.5 1014,-420.5 1014,-449.5 1014,-449.5 1014,-455.5 1008,-461.5 1002,-461.5\"/>\n",
       "<text text-anchor=\"start\" x=\"927.5\" y=\"-446.3\" font-family=\"Helvetica,sans-Serif\" font-size=\"14.00\">mse = 0.0</text>\n",
       "<text text-anchor=\"start\" x=\"921\" y=\"-431.3\" font-family=\"Helvetica,sans-Serif\" font-size=\"14.00\">samples = 3</text>\n",
       "<text text-anchor=\"start\" x=\"922.5\" y=\"-416.3\" font-family=\"Helvetica,sans-Serif\" font-size=\"14.00\">value = 0.0</text>\n",
       "</g>\n",
       "<!-- 27&#45;&gt;29 -->\n",
       "<g id=\"edge29\" class=\"edge\"><title>27&#45;&gt;29</title>\n",
       "<path fill=\"none\" stroke=\"black\" d=\"M963.5,-504.884C963.5,-494.326 963.5,-482.597 963.5,-471.854\"/>\n",
       "<polygon fill=\"black\" stroke=\"black\" points=\"967,-471.52 963.5,-461.52 960,-471.52 967,-471.52\"/>\n",
       "</g>\n",
       "<!-- 31 -->\n",
       "<g id=\"node32\" class=\"node\"><title>31</title>\n",
       "<path fill=\"#e99558\" stroke=\"black\" d=\"M1406.5,-781C1406.5,-781 1296.5,-781 1296.5,-781 1290.5,-781 1284.5,-775 1284.5,-769 1284.5,-769 1284.5,-725 1284.5,-725 1284.5,-719 1290.5,-713 1296.5,-713 1296.5,-713 1406.5,-713 1406.5,-713 1412.5,-713 1418.5,-719 1418.5,-725 1418.5,-725 1418.5,-769 1418.5,-769 1418.5,-775 1412.5,-781 1406.5,-781\"/>\n",
       "<text text-anchor=\"start\" x=\"1292.5\" y=\"-765.8\" font-family=\"Helvetica,sans-Serif\" font-size=\"14.00\">trestbps ≤ 2.534</text>\n",
       "<text text-anchor=\"start\" x=\"1306.5\" y=\"-750.8\" font-family=\"Helvetica,sans-Serif\" font-size=\"14.00\">mse = 0.134</text>\n",
       "<text text-anchor=\"start\" x=\"1300\" y=\"-735.8\" font-family=\"Helvetica,sans-Serif\" font-size=\"14.00\">samples = 107</text>\n",
       "<text text-anchor=\"start\" x=\"1301.5\" y=\"-720.8\" font-family=\"Helvetica,sans-Serif\" font-size=\"14.00\">value = 0.841</text>\n",
       "</g>\n",
       "<!-- 30&#45;&gt;31 -->\n",
       "<g id=\"edge31\" class=\"edge\"><title>30&#45;&gt;31</title>\n",
       "<path fill=\"none\" stroke=\"black\" d=\"M1351.5,-816.884C1351.5,-808.778 1351.5,-799.982 1351.5,-791.472\"/>\n",
       "<polygon fill=\"black\" stroke=\"black\" points=\"1355,-791.299 1351.5,-781.299 1348,-791.299 1355,-791.299\"/>\n",
       "</g>\n",
       "<!-- 64 -->\n",
       "<g id=\"node65\" class=\"node\"><title>64</title>\n",
       "<path fill=\"#f6d5bd\" stroke=\"black\" d=\"M1717.5,-781C1717.5,-781 1625.5,-781 1625.5,-781 1619.5,-781 1613.5,-775 1613.5,-769 1613.5,-769 1613.5,-725 1613.5,-725 1613.5,-719 1619.5,-713 1625.5,-713 1625.5,-713 1717.5,-713 1717.5,-713 1723.5,-713 1729.5,-719 1729.5,-725 1729.5,-725 1729.5,-769 1729.5,-769 1729.5,-775 1723.5,-781 1717.5,-781\"/>\n",
       "<text text-anchor=\"start\" x=\"1624\" y=\"-765.8\" font-family=\"Helvetica,sans-Serif\" font-size=\"14.00\">chol ≤ &#45;0.131</text>\n",
       "<text text-anchor=\"start\" x=\"1626.5\" y=\"-750.8\" font-family=\"Helvetica,sans-Serif\" font-size=\"14.00\">mse = 0.222</text>\n",
       "<text text-anchor=\"start\" x=\"1629\" y=\"-735.8\" font-family=\"Helvetica,sans-Serif\" font-size=\"14.00\">samples = 9</text>\n",
       "<text text-anchor=\"start\" x=\"1621.5\" y=\"-720.8\" font-family=\"Helvetica,sans-Serif\" font-size=\"14.00\">value = 0.333</text>\n",
       "</g>\n",
       "<!-- 30&#45;&gt;64 -->\n",
       "<g id=\"edge64\" class=\"edge\"><title>30&#45;&gt;64</title>\n",
       "<path fill=\"none\" stroke=\"black\" d=\"M1417.03,-829.113C1471.45,-811.766 1548.59,-787.177 1603.65,-769.628\"/>\n",
       "<polygon fill=\"black\" stroke=\"black\" points=\"1604.85,-772.918 1613.32,-766.546 1602.73,-766.248 1604.85,-772.918\"/>\n",
       "</g>\n",
       "<!-- 32 -->\n",
       "<g id=\"node33\" class=\"node\"><title>32</title>\n",
       "<path fill=\"#e99355\" stroke=\"black\" d=\"M1337,-677C1337,-677 1236,-677 1236,-677 1230,-677 1224,-671 1224,-665 1224,-665 1224,-621 1224,-621 1224,-615 1230,-609 1236,-609 1236,-609 1337,-609 1337,-609 1343,-609 1349,-615 1349,-621 1349,-621 1349,-665 1349,-665 1349,-671 1343,-677 1337,-677\"/>\n",
       "<text text-anchor=\"start\" x=\"1232\" y=\"-661.8\" font-family=\"Helvetica,sans-Serif\" font-size=\"14.00\">thalach ≤ &#45;0.75</text>\n",
       "<text text-anchor=\"start\" x=\"1241.5\" y=\"-646.8\" font-family=\"Helvetica,sans-Serif\" font-size=\"14.00\">mse = 0.122</text>\n",
       "<text text-anchor=\"start\" x=\"1235\" y=\"-631.8\" font-family=\"Helvetica,sans-Serif\" font-size=\"14.00\">samples = 105</text>\n",
       "<text text-anchor=\"start\" x=\"1236.5\" y=\"-616.8\" font-family=\"Helvetica,sans-Serif\" font-size=\"14.00\">value = 0.857</text>\n",
       "</g>\n",
       "<!-- 31&#45;&gt;32 -->\n",
       "<g id=\"edge32\" class=\"edge\"><title>31&#45;&gt;32</title>\n",
       "<path fill=\"none\" stroke=\"black\" d=\"M1330.4,-712.884C1324.89,-704.243 1318.88,-694.819 1313.13,-685.793\"/>\n",
       "<polygon fill=\"black\" stroke=\"black\" points=\"1316.05,-683.852 1307.72,-677.299 1310.14,-687.614 1316.05,-683.852\"/>\n",
       "</g>\n",
       "<!-- 63 -->\n",
       "<g id=\"node64\" class=\"node\"><title>63</title>\n",
       "<path fill=\"#ffffff\" stroke=\"black\" d=\"M1456,-669.5C1456,-669.5 1379,-669.5 1379,-669.5 1373,-669.5 1367,-663.5 1367,-657.5 1367,-657.5 1367,-628.5 1367,-628.5 1367,-622.5 1373,-616.5 1379,-616.5 1379,-616.5 1456,-616.5 1456,-616.5 1462,-616.5 1468,-622.5 1468,-628.5 1468,-628.5 1468,-657.5 1468,-657.5 1468,-663.5 1462,-669.5 1456,-669.5\"/>\n",
       "<text text-anchor=\"start\" x=\"1381.5\" y=\"-654.3\" font-family=\"Helvetica,sans-Serif\" font-size=\"14.00\">mse = 0.0</text>\n",
       "<text text-anchor=\"start\" x=\"1375\" y=\"-639.3\" font-family=\"Helvetica,sans-Serif\" font-size=\"14.00\">samples = 2</text>\n",
       "<text text-anchor=\"start\" x=\"1376.5\" y=\"-624.3\" font-family=\"Helvetica,sans-Serif\" font-size=\"14.00\">value = 0.0</text>\n",
       "</g>\n",
       "<!-- 31&#45;&gt;63 -->\n",
       "<g id=\"edge63\" class=\"edge\"><title>31&#45;&gt;63</title>\n",
       "<path fill=\"none\" stroke=\"black\" d=\"M1372.93,-712.884C1380.12,-701.776 1388.14,-689.372 1395.38,-678.184\"/>\n",
       "<polygon fill=\"black\" stroke=\"black\" points=\"1398.49,-679.817 1400.99,-669.52 1392.62,-676.014 1398.49,-679.817\"/>\n",
       "</g>\n",
       "<!-- 33 -->\n",
       "<g id=\"node34\" class=\"node\"><title>33</title>\n",
       "<path fill=\"#f1ba93\" stroke=\"black\" d=\"M1263.5,-573C1263.5,-573 1171.5,-573 1171.5,-573 1165.5,-573 1159.5,-567 1159.5,-561 1159.5,-561 1159.5,-517 1159.5,-517 1159.5,-511 1165.5,-505 1171.5,-505 1171.5,-505 1263.5,-505 1263.5,-505 1269.5,-505 1275.5,-511 1275.5,-517 1275.5,-517 1275.5,-561 1275.5,-561 1275.5,-567 1269.5,-573 1263.5,-573\"/>\n",
       "<text text-anchor=\"start\" x=\"1172.5\" y=\"-557.8\" font-family=\"Helvetica,sans-Serif\" font-size=\"14.00\">chol ≤ 0.043</text>\n",
       "<text text-anchor=\"start\" x=\"1172.5\" y=\"-542.8\" font-family=\"Helvetica,sans-Serif\" font-size=\"14.00\">mse = 0.248</text>\n",
       "<text text-anchor=\"start\" x=\"1170.5\" y=\"-527.8\" font-family=\"Helvetica,sans-Serif\" font-size=\"14.00\">samples = 11</text>\n",
       "<text text-anchor=\"start\" x=\"1167.5\" y=\"-512.8\" font-family=\"Helvetica,sans-Serif\" font-size=\"14.00\">value = 0.545</text>\n",
       "</g>\n",
       "<!-- 32&#45;&gt;33 -->\n",
       "<g id=\"edge33\" class=\"edge\"><title>32&#45;&gt;33</title>\n",
       "<path fill=\"none\" stroke=\"black\" d=\"M1264.1,-608.884C1258.25,-600.243 1251.88,-590.819 1245.77,-581.793\"/>\n",
       "<polygon fill=\"black\" stroke=\"black\" points=\"1248.53,-579.621 1240.03,-573.299 1242.73,-583.543 1248.53,-579.621\"/>\n",
       "</g>\n",
       "<!-- 38 -->\n",
       "<g id=\"node39\" class=\"node\"><title>38</title>\n",
       "<path fill=\"#e88e4e\" stroke=\"black\" d=\"M1402.5,-573C1402.5,-573 1310.5,-573 1310.5,-573 1304.5,-573 1298.5,-567 1298.5,-561 1298.5,-561 1298.5,-517 1298.5,-517 1298.5,-511 1304.5,-505 1310.5,-505 1310.5,-505 1402.5,-505 1402.5,-505 1408.5,-505 1414.5,-511 1414.5,-517 1414.5,-517 1414.5,-561 1414.5,-561 1414.5,-567 1408.5,-573 1402.5,-573\"/>\n",
       "<text text-anchor=\"start\" x=\"1313\" y=\"-557.8\" font-family=\"Helvetica,sans-Serif\" font-size=\"14.00\">age ≤ 0.235</text>\n",
       "<text text-anchor=\"start\" x=\"1311.5\" y=\"-542.8\" font-family=\"Helvetica,sans-Serif\" font-size=\"14.00\">mse = 0.095</text>\n",
       "<text text-anchor=\"start\" x=\"1309.5\" y=\"-527.8\" font-family=\"Helvetica,sans-Serif\" font-size=\"14.00\">samples = 94</text>\n",
       "<text text-anchor=\"start\" x=\"1306.5\" y=\"-512.8\" font-family=\"Helvetica,sans-Serif\" font-size=\"14.00\">value = 0.894</text>\n",
       "</g>\n",
       "<!-- 32&#45;&gt;38 -->\n",
       "<g id=\"edge38\" class=\"edge\"><title>32&#45;&gt;38</title>\n",
       "<path fill=\"none\" stroke=\"black\" d=\"M1309.23,-608.884C1315.16,-600.243 1321.62,-590.819 1327.82,-581.793\"/>\n",
       "<polygon fill=\"black\" stroke=\"black\" points=\"1330.87,-583.525 1333.65,-573.299 1325.1,-579.564 1330.87,-583.525\"/>\n",
       "</g>\n",
       "<!-- 34 -->\n",
       "<g id=\"node35\" class=\"node\"><title>34</title>\n",
       "<path fill=\"#e99355\" stroke=\"black\" d=\"M1136.5,-469C1136.5,-469 1044.5,-469 1044.5,-469 1038.5,-469 1032.5,-463 1032.5,-457 1032.5,-457 1032.5,-413 1032.5,-413 1032.5,-407 1038.5,-401 1044.5,-401 1044.5,-401 1136.5,-401 1136.5,-401 1142.5,-401 1148.5,-407 1148.5,-413 1148.5,-413 1148.5,-457 1148.5,-457 1148.5,-463 1142.5,-469 1136.5,-469\"/>\n",
       "<text text-anchor=\"start\" x=\"1052\" y=\"-453.8\" font-family=\"Helvetica,sans-Serif\" font-size=\"14.00\">ca ≤ 1.245</text>\n",
       "<text text-anchor=\"start\" x=\"1045.5\" y=\"-438.8\" font-family=\"Helvetica,sans-Serif\" font-size=\"14.00\">mse = 0.122</text>\n",
       "<text text-anchor=\"start\" x=\"1048\" y=\"-423.8\" font-family=\"Helvetica,sans-Serif\" font-size=\"14.00\">samples = 7</text>\n",
       "<text text-anchor=\"start\" x=\"1040.5\" y=\"-408.8\" font-family=\"Helvetica,sans-Serif\" font-size=\"14.00\">value = 0.857</text>\n",
       "</g>\n",
       "<!-- 33&#45;&gt;34 -->\n",
       "<g id=\"edge34\" class=\"edge\"><title>33&#45;&gt;34</title>\n",
       "<path fill=\"none\" stroke=\"black\" d=\"M1176.27,-504.884C1164.62,-495.531 1151.83,-485.259 1139.77,-475.568\"/>\n",
       "<polygon fill=\"black\" stroke=\"black\" points=\"1141.95,-472.832 1131.96,-469.299 1137.57,-478.29 1141.95,-472.832\"/>\n",
       "</g>\n",
       "<!-- 37 -->\n",
       "<g id=\"node38\" class=\"node\"><title>37</title>\n",
       "<path fill=\"#ffffff\" stroke=\"black\" d=\"M1256,-461.5C1256,-461.5 1179,-461.5 1179,-461.5 1173,-461.5 1167,-455.5 1167,-449.5 1167,-449.5 1167,-420.5 1167,-420.5 1167,-414.5 1173,-408.5 1179,-408.5 1179,-408.5 1256,-408.5 1256,-408.5 1262,-408.5 1268,-414.5 1268,-420.5 1268,-420.5 1268,-449.5 1268,-449.5 1268,-455.5 1262,-461.5 1256,-461.5\"/>\n",
       "<text text-anchor=\"start\" x=\"1181.5\" y=\"-446.3\" font-family=\"Helvetica,sans-Serif\" font-size=\"14.00\">mse = 0.0</text>\n",
       "<text text-anchor=\"start\" x=\"1175\" y=\"-431.3\" font-family=\"Helvetica,sans-Serif\" font-size=\"14.00\">samples = 4</text>\n",
       "<text text-anchor=\"start\" x=\"1176.5\" y=\"-416.3\" font-family=\"Helvetica,sans-Serif\" font-size=\"14.00\">value = 0.0</text>\n",
       "</g>\n",
       "<!-- 33&#45;&gt;37 -->\n",
       "<g id=\"edge37\" class=\"edge\"><title>33&#45;&gt;37</title>\n",
       "<path fill=\"none\" stroke=\"black\" d=\"M1217.5,-504.884C1217.5,-494.326 1217.5,-482.597 1217.5,-471.854\"/>\n",
       "<polygon fill=\"black\" stroke=\"black\" points=\"1221,-471.52 1217.5,-461.52 1214,-471.52 1221,-471.52\"/>\n",
       "</g>\n",
       "<!-- 35 -->\n",
       "<g id=\"node36\" class=\"node\"><title>35</title>\n",
       "<path fill=\"#e58139\" stroke=\"black\" d=\"M1010,-357.5C1010,-357.5 933,-357.5 933,-357.5 927,-357.5 921,-351.5 921,-345.5 921,-345.5 921,-316.5 921,-316.5 921,-310.5 927,-304.5 933,-304.5 933,-304.5 1010,-304.5 1010,-304.5 1016,-304.5 1022,-310.5 1022,-316.5 1022,-316.5 1022,-345.5 1022,-345.5 1022,-351.5 1016,-357.5 1010,-357.5\"/>\n",
       "<text text-anchor=\"start\" x=\"935.5\" y=\"-342.3\" font-family=\"Helvetica,sans-Serif\" font-size=\"14.00\">mse = 0.0</text>\n",
       "<text text-anchor=\"start\" x=\"929\" y=\"-327.3\" font-family=\"Helvetica,sans-Serif\" font-size=\"14.00\">samples = 6</text>\n",
       "<text text-anchor=\"start\" x=\"930.5\" y=\"-312.3\" font-family=\"Helvetica,sans-Serif\" font-size=\"14.00\">value = 1.0</text>\n",
       "</g>\n",
       "<!-- 34&#45;&gt;35 -->\n",
       "<g id=\"edge35\" class=\"edge\"><title>34&#45;&gt;35</title>\n",
       "<path fill=\"none\" stroke=\"black\" d=\"M1051.86,-400.884C1038.14,-389.116 1022.71,-375.894 1009.07,-364.203\"/>\n",
       "<polygon fill=\"black\" stroke=\"black\" points=\"1011.14,-361.37 1001.27,-357.52 1006.59,-366.685 1011.14,-361.37\"/>\n",
       "</g>\n",
       "<!-- 36 -->\n",
       "<g id=\"node37\" class=\"node\"><title>36</title>\n",
       "<path fill=\"#ffffff\" stroke=\"black\" d=\"M1129,-357.5C1129,-357.5 1052,-357.5 1052,-357.5 1046,-357.5 1040,-351.5 1040,-345.5 1040,-345.5 1040,-316.5 1040,-316.5 1040,-310.5 1046,-304.5 1052,-304.5 1052,-304.5 1129,-304.5 1129,-304.5 1135,-304.5 1141,-310.5 1141,-316.5 1141,-316.5 1141,-345.5 1141,-345.5 1141,-351.5 1135,-357.5 1129,-357.5\"/>\n",
       "<text text-anchor=\"start\" x=\"1054.5\" y=\"-342.3\" font-family=\"Helvetica,sans-Serif\" font-size=\"14.00\">mse = 0.0</text>\n",
       "<text text-anchor=\"start\" x=\"1048\" y=\"-327.3\" font-family=\"Helvetica,sans-Serif\" font-size=\"14.00\">samples = 1</text>\n",
       "<text text-anchor=\"start\" x=\"1049.5\" y=\"-312.3\" font-family=\"Helvetica,sans-Serif\" font-size=\"14.00\">value = 0.0</text>\n",
       "</g>\n",
       "<!-- 34&#45;&gt;36 -->\n",
       "<g id=\"edge36\" class=\"edge\"><title>34&#45;&gt;36</title>\n",
       "<path fill=\"none\" stroke=\"black\" d=\"M1090.5,-400.884C1090.5,-390.326 1090.5,-378.597 1090.5,-367.854\"/>\n",
       "<polygon fill=\"black\" stroke=\"black\" points=\"1094,-367.52 1090.5,-357.52 1087,-367.52 1094,-367.52\"/>\n",
       "</g>\n",
       "<!-- 39 -->\n",
       "<g id=\"node40\" class=\"node\"><title>39</title>\n",
       "<path fill=\"#e68742\" stroke=\"black\" d=\"M1414.5,-469C1414.5,-469 1298.5,-469 1298.5,-469 1292.5,-469 1286.5,-463 1286.5,-457 1286.5,-457 1286.5,-413 1286.5,-413 1286.5,-407 1292.5,-401 1298.5,-401 1298.5,-401 1414.5,-401 1414.5,-401 1420.5,-401 1426.5,-407 1426.5,-413 1426.5,-413 1426.5,-457 1426.5,-457 1426.5,-463 1420.5,-469 1414.5,-469\"/>\n",
       "<text text-anchor=\"start\" x=\"1294.5\" y=\"-453.8\" font-family=\"Helvetica,sans-Serif\" font-size=\"14.00\">trestbps ≤ &#45;1.178</text>\n",
       "<text text-anchor=\"start\" x=\"1311.5\" y=\"-438.8\" font-family=\"Helvetica,sans-Serif\" font-size=\"14.00\">mse = 0.045</text>\n",
       "<text text-anchor=\"start\" x=\"1309.5\" y=\"-423.8\" font-family=\"Helvetica,sans-Serif\" font-size=\"14.00\">samples = 64</text>\n",
       "<text text-anchor=\"start\" x=\"1306.5\" y=\"-408.8\" font-family=\"Helvetica,sans-Serif\" font-size=\"14.00\">value = 0.953</text>\n",
       "</g>\n",
       "<!-- 38&#45;&gt;39 -->\n",
       "<g id=\"edge39\" class=\"edge\"><title>38&#45;&gt;39</title>\n",
       "<path fill=\"none\" stroke=\"black\" d=\"M1356.5,-504.884C1356.5,-496.778 1356.5,-487.982 1356.5,-479.472\"/>\n",
       "<polygon fill=\"black\" stroke=\"black\" points=\"1360,-479.299 1356.5,-469.299 1353,-479.299 1360,-479.299\"/>\n",
       "</g>\n",
       "<!-- 50 -->\n",
       "<g id=\"node51\" class=\"node\"><title>50</title>\n",
       "<path fill=\"#eb9e67\" stroke=\"black\" d=\"M1590.5,-469C1590.5,-469 1480.5,-469 1480.5,-469 1474.5,-469 1468.5,-463 1468.5,-457 1468.5,-457 1468.5,-413 1468.5,-413 1468.5,-407 1474.5,-401 1480.5,-401 1480.5,-401 1590.5,-401 1590.5,-401 1596.5,-401 1602.5,-407 1602.5,-413 1602.5,-413 1602.5,-457 1602.5,-457 1602.5,-463 1596.5,-469 1590.5,-469\"/>\n",
       "<text text-anchor=\"start\" x=\"1476.5\" y=\"-453.8\" font-family=\"Helvetica,sans-Serif\" font-size=\"14.00\">restecg ≤ &#45;0.053</text>\n",
       "<text text-anchor=\"start\" x=\"1490.5\" y=\"-438.8\" font-family=\"Helvetica,sans-Serif\" font-size=\"14.00\">mse = 0.179</text>\n",
       "<text text-anchor=\"start\" x=\"1488.5\" y=\"-423.8\" font-family=\"Helvetica,sans-Serif\" font-size=\"14.00\">samples = 30</text>\n",
       "<text text-anchor=\"start\" x=\"1485.5\" y=\"-408.8\" font-family=\"Helvetica,sans-Serif\" font-size=\"14.00\">value = 0.767</text>\n",
       "</g>\n",
       "<!-- 38&#45;&gt;50 -->\n",
       "<g id=\"edge50\" class=\"edge\"><title>38&#45;&gt;50</title>\n",
       "<path fill=\"none\" stroke=\"black\" d=\"M1414.62,-504.884C1431.74,-495.125 1450.62,-484.366 1468.27,-474.31\"/>\n",
       "<polygon fill=\"black\" stroke=\"black\" points=\"1470.41,-477.117 1477.37,-469.125 1466.95,-471.035 1470.41,-477.117\"/>\n",
       "</g>\n",
       "<!-- 40 -->\n",
       "<g id=\"node41\" class=\"node\"><title>40</title>\n",
       "<path fill=\"#ea9a61\" stroke=\"black\" d=\"M1266,-365C1266,-365 1171,-365 1171,-365 1165,-365 1159,-359 1159,-353 1159,-353 1159,-309 1159,-309 1159,-303 1165,-297 1171,-297 1171,-297 1266,-297 1266,-297 1272,-297 1278,-303 1278,-309 1278,-309 1278,-353 1278,-353 1278,-359 1272,-365 1266,-365\"/>\n",
       "<text text-anchor=\"start\" x=\"1167\" y=\"-349.8\" font-family=\"Helvetica,sans-Serif\" font-size=\"14.00\">slope ≤ &#45;1.462</text>\n",
       "<text text-anchor=\"start\" x=\"1178\" y=\"-334.8\" font-family=\"Helvetica,sans-Serif\" font-size=\"14.00\">mse = 0.16</text>\n",
       "<text text-anchor=\"start\" x=\"1171.5\" y=\"-319.8\" font-family=\"Helvetica,sans-Serif\" font-size=\"14.00\">samples = 10</text>\n",
       "<text text-anchor=\"start\" x=\"1177.5\" y=\"-304.8\" font-family=\"Helvetica,sans-Serif\" font-size=\"14.00\">value = 0.8</text>\n",
       "</g>\n",
       "<!-- 39&#45;&gt;40 -->\n",
       "<g id=\"edge40\" class=\"edge\"><title>39&#45;&gt;40</title>\n",
       "<path fill=\"none\" stroke=\"black\" d=\"M1311.7,-400.884C1298.92,-391.442 1284.88,-381.064 1271.66,-371.292\"/>\n",
       "<polygon fill=\"black\" stroke=\"black\" points=\"1273.67,-368.429 1263.55,-365.299 1269.51,-374.058 1273.67,-368.429\"/>\n",
       "</g>\n",
       "<!-- 45 -->\n",
       "<g id=\"node46\" class=\"node\"><title>45</title>\n",
       "<path fill=\"#e5833d\" stroke=\"black\" d=\"M1402.5,-365C1402.5,-365 1310.5,-365 1310.5,-365 1304.5,-365 1298.5,-359 1298.5,-353 1298.5,-353 1298.5,-309 1298.5,-309 1298.5,-303 1304.5,-297 1310.5,-297 1310.5,-297 1402.5,-297 1402.5,-297 1408.5,-297 1414.5,-303 1414.5,-309 1414.5,-309 1414.5,-353 1414.5,-353 1414.5,-359 1408.5,-365 1402.5,-365\"/>\n",
       "<text text-anchor=\"start\" x=\"1312\" y=\"-349.8\" font-family=\"Helvetica,sans-Serif\" font-size=\"14.00\">thal ≤ 0.305</text>\n",
       "<text text-anchor=\"start\" x=\"1311.5\" y=\"-334.8\" font-family=\"Helvetica,sans-Serif\" font-size=\"14.00\">mse = 0.018</text>\n",
       "<text text-anchor=\"start\" x=\"1309.5\" y=\"-319.8\" font-family=\"Helvetica,sans-Serif\" font-size=\"14.00\">samples = 54</text>\n",
       "<text text-anchor=\"start\" x=\"1306.5\" y=\"-304.8\" font-family=\"Helvetica,sans-Serif\" font-size=\"14.00\">value = 0.981</text>\n",
       "</g>\n",
       "<!-- 39&#45;&gt;45 -->\n",
       "<g id=\"edge45\" class=\"edge\"><title>39&#45;&gt;45</title>\n",
       "<path fill=\"none\" stroke=\"black\" d=\"M1356.5,-400.884C1356.5,-392.778 1356.5,-383.982 1356.5,-375.472\"/>\n",
       "<polygon fill=\"black\" stroke=\"black\" points=\"1360,-375.299 1356.5,-365.299 1353,-375.299 1360,-375.299\"/>\n",
       "</g>\n",
       "<!-- 41 -->\n",
       "<g id=\"node42\" class=\"node\"><title>41</title>\n",
       "<path fill=\"#ffffff\" stroke=\"black\" d=\"M1058,-253.5C1058,-253.5 981,-253.5 981,-253.5 975,-253.5 969,-247.5 969,-241.5 969,-241.5 969,-212.5 969,-212.5 969,-206.5 975,-200.5 981,-200.5 981,-200.5 1058,-200.5 1058,-200.5 1064,-200.5 1070,-206.5 1070,-212.5 1070,-212.5 1070,-241.5 1070,-241.5 1070,-247.5 1064,-253.5 1058,-253.5\"/>\n",
       "<text text-anchor=\"start\" x=\"983.5\" y=\"-238.3\" font-family=\"Helvetica,sans-Serif\" font-size=\"14.00\">mse = 0.0</text>\n",
       "<text text-anchor=\"start\" x=\"977\" y=\"-223.3\" font-family=\"Helvetica,sans-Serif\" font-size=\"14.00\">samples = 1</text>\n",
       "<text text-anchor=\"start\" x=\"978.5\" y=\"-208.3\" font-family=\"Helvetica,sans-Serif\" font-size=\"14.00\">value = 0.0</text>\n",
       "</g>\n",
       "<!-- 40&#45;&gt;41 -->\n",
       "<g id=\"edge41\" class=\"edge\"><title>40&#45;&gt;41</title>\n",
       "<path fill=\"none\" stroke=\"black\" d=\"M1158.89,-301.468C1133.91,-289.291 1104.64,-274.742 1078.5,-261 1076.96,-260.193 1075.41,-259.369 1073.84,-258.533\"/>\n",
       "<polygon fill=\"black\" stroke=\"black\" points=\"1075.25,-255.315 1064.79,-253.643 1071.92,-261.474 1075.25,-255.315\"/>\n",
       "</g>\n",
       "<!-- 42 -->\n",
       "<g id=\"node43\" class=\"node\"><title>42</title>\n",
       "<path fill=\"#e88f4f\" stroke=\"black\" d=\"M1205,-261C1205,-261 1100,-261 1100,-261 1094,-261 1088,-255 1088,-249 1088,-249 1088,-205 1088,-205 1088,-199 1094,-193 1100,-193 1100,-193 1205,-193 1205,-193 1211,-193 1217,-199 1217,-205 1217,-205 1217,-249 1217,-249 1217,-255 1211,-261 1205,-261\"/>\n",
       "<text text-anchor=\"start\" x=\"1096\" y=\"-245.8\" font-family=\"Helvetica,sans-Serif\" font-size=\"14.00\">thalach ≤ 0.147</text>\n",
       "<text text-anchor=\"start\" x=\"1107.5\" y=\"-230.8\" font-family=\"Helvetica,sans-Serif\" font-size=\"14.00\">mse = 0.099</text>\n",
       "<text text-anchor=\"start\" x=\"1110\" y=\"-215.8\" font-family=\"Helvetica,sans-Serif\" font-size=\"14.00\">samples = 9</text>\n",
       "<text text-anchor=\"start\" x=\"1102.5\" y=\"-200.8\" font-family=\"Helvetica,sans-Serif\" font-size=\"14.00\">value = 0.889</text>\n",
       "</g>\n",
       "<!-- 40&#45;&gt;42 -->\n",
       "<g id=\"edge42\" class=\"edge\"><title>40&#45;&gt;42</title>\n",
       "<path fill=\"none\" stroke=\"black\" d=\"M1197.07,-296.884C1191.48,-288.243 1185.38,-278.819 1179.54,-269.793\"/>\n",
       "<polygon fill=\"black\" stroke=\"black\" points=\"1182.42,-267.794 1174.05,-261.299 1176.54,-271.596 1182.42,-267.794\"/>\n",
       "</g>\n",
       "<!-- 43 -->\n",
       "<g id=\"node44\" class=\"node\"><title>43</title>\n",
       "<path fill=\"#ffffff\" stroke=\"black\" d=\"M1080,-149.5C1080,-149.5 1003,-149.5 1003,-149.5 997,-149.5 991,-143.5 991,-137.5 991,-137.5 991,-108.5 991,-108.5 991,-102.5 997,-96.5 1003,-96.5 1003,-96.5 1080,-96.5 1080,-96.5 1086,-96.5 1092,-102.5 1092,-108.5 1092,-108.5 1092,-137.5 1092,-137.5 1092,-143.5 1086,-149.5 1080,-149.5\"/>\n",
       "<text text-anchor=\"start\" x=\"1005.5\" y=\"-134.3\" font-family=\"Helvetica,sans-Serif\" font-size=\"14.00\">mse = 0.0</text>\n",
       "<text text-anchor=\"start\" x=\"999\" y=\"-119.3\" font-family=\"Helvetica,sans-Serif\" font-size=\"14.00\">samples = 1</text>\n",
       "<text text-anchor=\"start\" x=\"1000.5\" y=\"-104.3\" font-family=\"Helvetica,sans-Serif\" font-size=\"14.00\">value = 0.0</text>\n",
       "</g>\n",
       "<!-- 42&#45;&gt;43 -->\n",
       "<g id=\"edge43\" class=\"edge\"><title>42&#45;&gt;43</title>\n",
       "<path fill=\"none\" stroke=\"black\" d=\"M1116.46,-192.884C1103.78,-181.226 1089.54,-168.141 1076.9,-156.532\"/>\n",
       "<polygon fill=\"black\" stroke=\"black\" points=\"1079,-153.709 1069.27,-149.52 1074.27,-158.863 1079,-153.709\"/>\n",
       "</g>\n",
       "<!-- 44 -->\n",
       "<g id=\"node45\" class=\"node\"><title>44</title>\n",
       "<path fill=\"#e58139\" stroke=\"black\" d=\"M1199,-149.5C1199,-149.5 1122,-149.5 1122,-149.5 1116,-149.5 1110,-143.5 1110,-137.5 1110,-137.5 1110,-108.5 1110,-108.5 1110,-102.5 1116,-96.5 1122,-96.5 1122,-96.5 1199,-96.5 1199,-96.5 1205,-96.5 1211,-102.5 1211,-108.5 1211,-108.5 1211,-137.5 1211,-137.5 1211,-143.5 1205,-149.5 1199,-149.5\"/>\n",
       "<text text-anchor=\"start\" x=\"1124.5\" y=\"-134.3\" font-family=\"Helvetica,sans-Serif\" font-size=\"14.00\">mse = 0.0</text>\n",
       "<text text-anchor=\"start\" x=\"1118\" y=\"-119.3\" font-family=\"Helvetica,sans-Serif\" font-size=\"14.00\">samples = 8</text>\n",
       "<text text-anchor=\"start\" x=\"1119.5\" y=\"-104.3\" font-family=\"Helvetica,sans-Serif\" font-size=\"14.00\">value = 1.0</text>\n",
       "</g>\n",
       "<!-- 42&#45;&gt;44 -->\n",
       "<g id=\"edge44\" class=\"edge\"><title>42&#45;&gt;44</title>\n",
       "<path fill=\"none\" stroke=\"black\" d=\"M1155.1,-192.884C1155.93,-182.216 1156.86,-170.352 1157.71,-159.519\"/>\n",
       "<polygon fill=\"black\" stroke=\"black\" points=\"1161.21,-159.763 1158.5,-149.52 1154.23,-159.216 1161.21,-159.763\"/>\n",
       "</g>\n",
       "<!-- 46 -->\n",
       "<g id=\"node47\" class=\"node\"><title>46</title>\n",
       "<path fill=\"#e58139\" stroke=\"black\" d=\"M1333.5,-253.5C1333.5,-253.5 1247.5,-253.5 1247.5,-253.5 1241.5,-253.5 1235.5,-247.5 1235.5,-241.5 1235.5,-241.5 1235.5,-212.5 1235.5,-212.5 1235.5,-206.5 1241.5,-200.5 1247.5,-200.5 1247.5,-200.5 1333.5,-200.5 1333.5,-200.5 1339.5,-200.5 1345.5,-206.5 1345.5,-212.5 1345.5,-212.5 1345.5,-241.5 1345.5,-241.5 1345.5,-247.5 1339.5,-253.5 1333.5,-253.5\"/>\n",
       "<text text-anchor=\"start\" x=\"1254.5\" y=\"-238.3\" font-family=\"Helvetica,sans-Serif\" font-size=\"14.00\">mse = 0.0</text>\n",
       "<text text-anchor=\"start\" x=\"1243.5\" y=\"-223.3\" font-family=\"Helvetica,sans-Serif\" font-size=\"14.00\">samples = 46</text>\n",
       "<text text-anchor=\"start\" x=\"1249.5\" y=\"-208.3\" font-family=\"Helvetica,sans-Serif\" font-size=\"14.00\">value = 1.0</text>\n",
       "</g>\n",
       "<!-- 45&#45;&gt;46 -->\n",
       "<g id=\"edge46\" class=\"edge\"><title>45&#45;&gt;46</title>\n",
       "<path fill=\"none\" stroke=\"black\" d=\"M1335.07,-296.884C1327.88,-285.776 1319.86,-273.372 1312.62,-262.184\"/>\n",
       "<polygon fill=\"black\" stroke=\"black\" points=\"1315.38,-260.014 1307.01,-253.52 1309.51,-263.817 1315.38,-260.014\"/>\n",
       "</g>\n",
       "<!-- 47 -->\n",
       "<g id=\"node48\" class=\"node\"><title>47</title>\n",
       "<path fill=\"#e89152\" stroke=\"black\" d=\"M1467.5,-261C1467.5,-261 1375.5,-261 1375.5,-261 1369.5,-261 1363.5,-255 1363.5,-249 1363.5,-249 1363.5,-205 1363.5,-205 1363.5,-199 1369.5,-193 1375.5,-193 1375.5,-193 1467.5,-193 1467.5,-193 1473.5,-193 1479.5,-199 1479.5,-205 1479.5,-205 1479.5,-249 1479.5,-249 1479.5,-255 1473.5,-261 1467.5,-261\"/>\n",
       "<text text-anchor=\"start\" x=\"1380.5\" y=\"-245.8\" font-family=\"Helvetica,sans-Serif\" font-size=\"14.00\">ca ≤ &#45;0.225</text>\n",
       "<text text-anchor=\"start\" x=\"1376.5\" y=\"-230.8\" font-family=\"Helvetica,sans-Serif\" font-size=\"14.00\">mse = 0.109</text>\n",
       "<text text-anchor=\"start\" x=\"1379\" y=\"-215.8\" font-family=\"Helvetica,sans-Serif\" font-size=\"14.00\">samples = 8</text>\n",
       "<text text-anchor=\"start\" x=\"1371.5\" y=\"-200.8\" font-family=\"Helvetica,sans-Serif\" font-size=\"14.00\">value = 0.875</text>\n",
       "</g>\n",
       "<!-- 45&#45;&gt;47 -->\n",
       "<g id=\"edge47\" class=\"edge\"><title>45&#45;&gt;47</title>\n",
       "<path fill=\"none\" stroke=\"black\" d=\"M1377.6,-296.884C1383.11,-288.243 1389.12,-278.819 1394.87,-269.793\"/>\n",
       "<polygon fill=\"black\" stroke=\"black\" points=\"1397.86,-271.614 1400.28,-261.299 1391.95,-267.852 1397.86,-271.614\"/>\n",
       "</g>\n",
       "<!-- 48 -->\n",
       "<g id=\"node49\" class=\"node\"><title>48</title>\n",
       "<path fill=\"#e58139\" stroke=\"black\" d=\"M1333,-149.5C1333,-149.5 1256,-149.5 1256,-149.5 1250,-149.5 1244,-143.5 1244,-137.5 1244,-137.5 1244,-108.5 1244,-108.5 1244,-102.5 1250,-96.5 1256,-96.5 1256,-96.5 1333,-96.5 1333,-96.5 1339,-96.5 1345,-102.5 1345,-108.5 1345,-108.5 1345,-137.5 1345,-137.5 1345,-143.5 1339,-149.5 1333,-149.5\"/>\n",
       "<text text-anchor=\"start\" x=\"1258.5\" y=\"-134.3\" font-family=\"Helvetica,sans-Serif\" font-size=\"14.00\">mse = 0.0</text>\n",
       "<text text-anchor=\"start\" x=\"1252\" y=\"-119.3\" font-family=\"Helvetica,sans-Serif\" font-size=\"14.00\">samples = 7</text>\n",
       "<text text-anchor=\"start\" x=\"1253.5\" y=\"-104.3\" font-family=\"Helvetica,sans-Serif\" font-size=\"14.00\">value = 1.0</text>\n",
       "</g>\n",
       "<!-- 47&#45;&gt;48 -->\n",
       "<g id=\"edge48\" class=\"edge\"><title>47&#45;&gt;48</title>\n",
       "<path fill=\"none\" stroke=\"black\" d=\"M1380.27,-192.884C1365.48,-181.006 1348.84,-167.646 1334.19,-155.876\"/>\n",
       "<polygon fill=\"black\" stroke=\"black\" points=\"1336.26,-153.053 1326.27,-149.52 1331.88,-158.511 1336.26,-153.053\"/>\n",
       "</g>\n",
       "<!-- 49 -->\n",
       "<g id=\"node50\" class=\"node\"><title>49</title>\n",
       "<path fill=\"#ffffff\" stroke=\"black\" d=\"M1452,-149.5C1452,-149.5 1375,-149.5 1375,-149.5 1369,-149.5 1363,-143.5 1363,-137.5 1363,-137.5 1363,-108.5 1363,-108.5 1363,-102.5 1369,-96.5 1375,-96.5 1375,-96.5 1452,-96.5 1452,-96.5 1458,-96.5 1464,-102.5 1464,-108.5 1464,-108.5 1464,-137.5 1464,-137.5 1464,-143.5 1458,-149.5 1452,-149.5\"/>\n",
       "<text text-anchor=\"start\" x=\"1377.5\" y=\"-134.3\" font-family=\"Helvetica,sans-Serif\" font-size=\"14.00\">mse = 0.0</text>\n",
       "<text text-anchor=\"start\" x=\"1371\" y=\"-119.3\" font-family=\"Helvetica,sans-Serif\" font-size=\"14.00\">samples = 1</text>\n",
       "<text text-anchor=\"start\" x=\"1372.5\" y=\"-104.3\" font-family=\"Helvetica,sans-Serif\" font-size=\"14.00\">value = 0.0</text>\n",
       "</g>\n",
       "<!-- 47&#45;&gt;49 -->\n",
       "<g id=\"edge49\" class=\"edge\"><title>47&#45;&gt;49</title>\n",
       "<path fill=\"none\" stroke=\"black\" d=\"M1418.9,-192.884C1418.07,-182.216 1417.14,-170.352 1416.29,-159.519\"/>\n",
       "<polygon fill=\"black\" stroke=\"black\" points=\"1419.77,-159.216 1415.5,-149.52 1412.79,-159.763 1419.77,-159.216\"/>\n",
       "</g>\n",
       "<!-- 51 -->\n",
       "<g id=\"node52\" class=\"node\"><title>51</title>\n",
       "<path fill=\"#efb083\" stroke=\"black\" d=\"M1664.5,-365C1664.5,-365 1572.5,-365 1572.5,-365 1566.5,-365 1560.5,-359 1560.5,-353 1560.5,-353 1560.5,-309 1560.5,-309 1560.5,-303 1566.5,-297 1572.5,-297 1572.5,-297 1664.5,-297 1664.5,-297 1670.5,-297 1676.5,-303 1676.5,-309 1676.5,-309 1676.5,-353 1676.5,-353 1676.5,-359 1670.5,-365 1664.5,-365\"/>\n",
       "<text text-anchor=\"start\" x=\"1577.5\" y=\"-349.8\" font-family=\"Helvetica,sans-Serif\" font-size=\"14.00\">ca ≤ &#45;0.225</text>\n",
       "<text text-anchor=\"start\" x=\"1573.5\" y=\"-334.8\" font-family=\"Helvetica,sans-Serif\" font-size=\"14.00\">mse = 0.234</text>\n",
       "<text text-anchor=\"start\" x=\"1571.5\" y=\"-319.8\" font-family=\"Helvetica,sans-Serif\" font-size=\"14.00\">samples = 16</text>\n",
       "<text text-anchor=\"start\" x=\"1568.5\" y=\"-304.8\" font-family=\"Helvetica,sans-Serif\" font-size=\"14.00\">value = 0.625</text>\n",
       "</g>\n",
       "<!-- 50&#45;&gt;51 -->\n",
       "<g id=\"edge51\" class=\"edge\"><title>50&#45;&gt;51</title>\n",
       "<path fill=\"none\" stroke=\"black\" d=\"M1562.45,-400.884C1569.62,-392.065 1577.46,-382.43 1584.95,-373.235\"/>\n",
       "<polygon fill=\"black\" stroke=\"black\" points=\"1587.81,-375.265 1591.4,-365.299 1582.38,-370.847 1587.81,-375.265\"/>\n",
       "</g>\n",
       "<!-- 60 -->\n",
       "<g id=\"node61\" class=\"node\"><title>60</title>\n",
       "<path fill=\"#e78a47\" stroke=\"black\" d=\"M1931.5,-365C1931.5,-365 1839.5,-365 1839.5,-365 1833.5,-365 1827.5,-359 1827.5,-353 1827.5,-353 1827.5,-309 1827.5,-309 1827.5,-303 1833.5,-297 1839.5,-297 1839.5,-297 1931.5,-297 1931.5,-297 1937.5,-297 1943.5,-303 1943.5,-309 1943.5,-309 1943.5,-353 1943.5,-353 1943.5,-359 1937.5,-365 1931.5,-365\"/>\n",
       "<text text-anchor=\"start\" x=\"1840.5\" y=\"-349.8\" font-family=\"Helvetica,sans-Serif\" font-size=\"14.00\">chol ≤ 1.551</text>\n",
       "<text text-anchor=\"start\" x=\"1840.5\" y=\"-334.8\" font-family=\"Helvetica,sans-Serif\" font-size=\"14.00\">mse = 0.066</text>\n",
       "<text text-anchor=\"start\" x=\"1838.5\" y=\"-319.8\" font-family=\"Helvetica,sans-Serif\" font-size=\"14.00\">samples = 14</text>\n",
       "<text text-anchor=\"start\" x=\"1835.5\" y=\"-304.8\" font-family=\"Helvetica,sans-Serif\" font-size=\"14.00\">value = 0.929</text>\n",
       "</g>\n",
       "<!-- 50&#45;&gt;60 -->\n",
       "<g id=\"edge60\" class=\"edge\"><title>50&#45;&gt;60</title>\n",
       "<path fill=\"none\" stroke=\"black\" d=\"M1602.82,-404.091C1605.74,-403.01 1608.64,-401.974 1611.5,-401 1680.39,-377.546 1761.44,-358.104 1817.43,-345.901\"/>\n",
       "<polygon fill=\"black\" stroke=\"black\" points=\"1818.2,-349.315 1827.24,-343.782 1816.73,-342.473 1818.2,-349.315\"/>\n",
       "</g>\n",
       "<!-- 52 -->\n",
       "<g id=\"node53\" class=\"node\"><title>52</title>\n",
       "<path fill=\"#ea985d\" stroke=\"black\" d=\"M1664.5,-261C1664.5,-261 1572.5,-261 1572.5,-261 1566.5,-261 1560.5,-255 1560.5,-249 1560.5,-249 1560.5,-205 1560.5,-205 1560.5,-199 1566.5,-193 1572.5,-193 1572.5,-193 1664.5,-193 1664.5,-193 1670.5,-193 1676.5,-199 1676.5,-205 1676.5,-205 1676.5,-249 1676.5,-249 1676.5,-255 1670.5,-261 1664.5,-261\"/>\n",
       "<text text-anchor=\"start\" x=\"1578\" y=\"-245.8\" font-family=\"Helvetica,sans-Serif\" font-size=\"14.00\">chol ≤ 0.72</text>\n",
       "<text text-anchor=\"start\" x=\"1573.5\" y=\"-230.8\" font-family=\"Helvetica,sans-Serif\" font-size=\"14.00\">mse = 0.149</text>\n",
       "<text text-anchor=\"start\" x=\"1571.5\" y=\"-215.8\" font-family=\"Helvetica,sans-Serif\" font-size=\"14.00\">samples = 11</text>\n",
       "<text text-anchor=\"start\" x=\"1568.5\" y=\"-200.8\" font-family=\"Helvetica,sans-Serif\" font-size=\"14.00\">value = 0.818</text>\n",
       "</g>\n",
       "<!-- 51&#45;&gt;52 -->\n",
       "<g id=\"edge52\" class=\"edge\"><title>51&#45;&gt;52</title>\n",
       "<path fill=\"none\" stroke=\"black\" d=\"M1618.5,-296.884C1618.5,-288.778 1618.5,-279.982 1618.5,-271.472\"/>\n",
       "<polygon fill=\"black\" stroke=\"black\" points=\"1622,-271.299 1618.5,-261.299 1615,-271.299 1622,-271.299\"/>\n",
       "</g>\n",
       "<!-- 57 -->\n",
       "<g id=\"node58\" class=\"node\"><title>57</title>\n",
       "<path fill=\"#fae6d7\" stroke=\"black\" d=\"M1800.5,-261C1800.5,-261 1718.5,-261 1718.5,-261 1712.5,-261 1706.5,-255 1706.5,-249 1706.5,-249 1706.5,-205 1706.5,-205 1706.5,-199 1712.5,-193 1718.5,-193 1718.5,-193 1800.5,-193 1800.5,-193 1806.5,-193 1812.5,-199 1812.5,-205 1812.5,-205 1812.5,-249 1812.5,-249 1812.5,-255 1806.5,-261 1800.5,-261\"/>\n",
       "<text text-anchor=\"start\" x=\"1714.5\" y=\"-245.8\" font-family=\"Helvetica,sans-Serif\" font-size=\"14.00\">chol ≤ 2.353</text>\n",
       "<text text-anchor=\"start\" x=\"1719\" y=\"-230.8\" font-family=\"Helvetica,sans-Serif\" font-size=\"14.00\">mse = 0.16</text>\n",
       "<text text-anchor=\"start\" x=\"1717\" y=\"-215.8\" font-family=\"Helvetica,sans-Serif\" font-size=\"14.00\">samples = 5</text>\n",
       "<text text-anchor=\"start\" x=\"1718.5\" y=\"-200.8\" font-family=\"Helvetica,sans-Serif\" font-size=\"14.00\">value = 0.2</text>\n",
       "</g>\n",
       "<!-- 51&#45;&gt;57 -->\n",
       "<g id=\"edge57\" class=\"edge\"><title>51&#45;&gt;57</title>\n",
       "<path fill=\"none\" stroke=\"black\" d=\"M1664.28,-296.884C1677.33,-287.442 1691.68,-277.064 1705.19,-267.292\"/>\n",
       "<polygon fill=\"black\" stroke=\"black\" points=\"1707.42,-269.996 1713.47,-261.299 1703.31,-264.325 1707.42,-269.996\"/>\n",
       "</g>\n",
       "<!-- 53 -->\n",
       "<g id=\"node54\" class=\"node\"><title>53</title>\n",
       "<path fill=\"#e58139\" stroke=\"black\" d=\"M1571,-149.5C1571,-149.5 1494,-149.5 1494,-149.5 1488,-149.5 1482,-143.5 1482,-137.5 1482,-137.5 1482,-108.5 1482,-108.5 1482,-102.5 1488,-96.5 1494,-96.5 1494,-96.5 1571,-96.5 1571,-96.5 1577,-96.5 1583,-102.5 1583,-108.5 1583,-108.5 1583,-137.5 1583,-137.5 1583,-143.5 1577,-149.5 1571,-149.5\"/>\n",
       "<text text-anchor=\"start\" x=\"1496.5\" y=\"-134.3\" font-family=\"Helvetica,sans-Serif\" font-size=\"14.00\">mse = 0.0</text>\n",
       "<text text-anchor=\"start\" x=\"1490\" y=\"-119.3\" font-family=\"Helvetica,sans-Serif\" font-size=\"14.00\">samples = 7</text>\n",
       "<text text-anchor=\"start\" x=\"1491.5\" y=\"-104.3\" font-family=\"Helvetica,sans-Serif\" font-size=\"14.00\">value = 1.0</text>\n",
       "</g>\n",
       "<!-- 52&#45;&gt;53 -->\n",
       "<g id=\"edge53\" class=\"edge\"><title>52&#45;&gt;53</title>\n",
       "<path fill=\"none\" stroke=\"black\" d=\"M1590.58,-192.884C1580.93,-181.446 1570.13,-168.634 1560.48,-157.19\"/>\n",
       "<polygon fill=\"black\" stroke=\"black\" points=\"1563.14,-154.909 1554.02,-149.52 1557.79,-159.421 1563.14,-154.909\"/>\n",
       "</g>\n",
       "<!-- 54 -->\n",
       "<g id=\"node55\" class=\"node\"><title>54</title>\n",
       "<path fill=\"#f2c09c\" stroke=\"black\" d=\"M1696,-157C1696,-157 1613,-157 1613,-157 1607,-157 1601,-151 1601,-145 1601,-145 1601,-101 1601,-101 1601,-95 1607,-89 1613,-89 1613,-89 1696,-89 1696,-89 1702,-89 1708,-95 1708,-101 1708,-101 1708,-145 1708,-145 1708,-151 1702,-157 1696,-157\"/>\n",
       "<text text-anchor=\"start\" x=\"1609\" y=\"-141.8\" font-family=\"Helvetica,sans-Serif\" font-size=\"14.00\">sex ≤ &#45;0.394</text>\n",
       "<text text-anchor=\"start\" x=\"1614\" y=\"-126.8\" font-family=\"Helvetica,sans-Serif\" font-size=\"14.00\">mse = 0.25</text>\n",
       "<text text-anchor=\"start\" x=\"1612\" y=\"-111.8\" font-family=\"Helvetica,sans-Serif\" font-size=\"14.00\">samples = 4</text>\n",
       "<text text-anchor=\"start\" x=\"1613.5\" y=\"-96.8\" font-family=\"Helvetica,sans-Serif\" font-size=\"14.00\">value = 0.5</text>\n",
       "</g>\n",
       "<!-- 52&#45;&gt;54 -->\n",
       "<g id=\"edge54\" class=\"edge\"><title>52&#45;&gt;54</title>\n",
       "<path fill=\"none\" stroke=\"black\" d=\"M1630.19,-192.884C1633.11,-184.6 1636.29,-175.595 1639.35,-166.911\"/>\n",
       "<polygon fill=\"black\" stroke=\"black\" points=\"1642.72,-167.894 1642.75,-157.299 1636.12,-165.564 1642.72,-167.894\"/>\n",
       "</g>\n",
       "<!-- 55 -->\n",
       "<g id=\"node56\" class=\"node\"><title>55</title>\n",
       "<path fill=\"#e58139\" stroke=\"black\" d=\"M1633,-53C1633,-53 1556,-53 1556,-53 1550,-53 1544,-47 1544,-41 1544,-41 1544,-12 1544,-12 1544,-6 1550,-0 1556,-0 1556,-0 1633,-0 1633,-0 1639,-0 1645,-6 1645,-12 1645,-12 1645,-41 1645,-41 1645,-47 1639,-53 1633,-53\"/>\n",
       "<text text-anchor=\"start\" x=\"1558.5\" y=\"-37.8\" font-family=\"Helvetica,sans-Serif\" font-size=\"14.00\">mse = 0.0</text>\n",
       "<text text-anchor=\"start\" x=\"1552\" y=\"-22.8\" font-family=\"Helvetica,sans-Serif\" font-size=\"14.00\">samples = 2</text>\n",
       "<text text-anchor=\"start\" x=\"1553.5\" y=\"-7.8\" font-family=\"Helvetica,sans-Serif\" font-size=\"14.00\">value = 1.0</text>\n",
       "</g>\n",
       "<!-- 54&#45;&gt;55 -->\n",
       "<g id=\"edge55\" class=\"edge\"><title>54&#45;&gt;55</title>\n",
       "<path fill=\"none\" stroke=\"black\" d=\"M1633.51,-88.9485C1627.94,-80.1664 1621.91,-70.6629 1616.29,-61.815\"/>\n",
       "<polygon fill=\"black\" stroke=\"black\" points=\"1619.16,-59.8028 1610.84,-53.2367 1613.25,-63.5549 1619.16,-59.8028\"/>\n",
       "</g>\n",
       "<!-- 56 -->\n",
       "<g id=\"node57\" class=\"node\"><title>56</title>\n",
       "<path fill=\"#ffffff\" stroke=\"black\" d=\"M1752,-53C1752,-53 1675,-53 1675,-53 1669,-53 1663,-47 1663,-41 1663,-41 1663,-12 1663,-12 1663,-6 1669,-0 1675,-0 1675,-0 1752,-0 1752,-0 1758,-0 1764,-6 1764,-12 1764,-12 1764,-41 1764,-41 1764,-47 1758,-53 1752,-53\"/>\n",
       "<text text-anchor=\"start\" x=\"1677.5\" y=\"-37.8\" font-family=\"Helvetica,sans-Serif\" font-size=\"14.00\">mse = 0.0</text>\n",
       "<text text-anchor=\"start\" x=\"1671\" y=\"-22.8\" font-family=\"Helvetica,sans-Serif\" font-size=\"14.00\">samples = 2</text>\n",
       "<text text-anchor=\"start\" x=\"1672.5\" y=\"-7.8\" font-family=\"Helvetica,sans-Serif\" font-size=\"14.00\">value = 0.0</text>\n",
       "</g>\n",
       "<!-- 54&#45;&gt;56 -->\n",
       "<g id=\"edge56\" class=\"edge\"><title>54&#45;&gt;56</title>\n",
       "<path fill=\"none\" stroke=\"black\" d=\"M1675.14,-88.9485C1680.62,-80.1664 1686.55,-70.6629 1692.08,-61.815\"/>\n",
       "<polygon fill=\"black\" stroke=\"black\" points=\"1695.1,-63.5728 1697.43,-53.2367 1689.17,-59.8656 1695.1,-63.5728\"/>\n",
       "</g>\n",
       "<!-- 58 -->\n",
       "<g id=\"node59\" class=\"node\"><title>58</title>\n",
       "<path fill=\"#ffffff\" stroke=\"black\" d=\"M1815,-149.5C1815,-149.5 1738,-149.5 1738,-149.5 1732,-149.5 1726,-143.5 1726,-137.5 1726,-137.5 1726,-108.5 1726,-108.5 1726,-102.5 1732,-96.5 1738,-96.5 1738,-96.5 1815,-96.5 1815,-96.5 1821,-96.5 1827,-102.5 1827,-108.5 1827,-108.5 1827,-137.5 1827,-137.5 1827,-143.5 1821,-149.5 1815,-149.5\"/>\n",
       "<text text-anchor=\"start\" x=\"1740.5\" y=\"-134.3\" font-family=\"Helvetica,sans-Serif\" font-size=\"14.00\">mse = 0.0</text>\n",
       "<text text-anchor=\"start\" x=\"1734\" y=\"-119.3\" font-family=\"Helvetica,sans-Serif\" font-size=\"14.00\">samples = 4</text>\n",
       "<text text-anchor=\"start\" x=\"1735.5\" y=\"-104.3\" font-family=\"Helvetica,sans-Serif\" font-size=\"14.00\">value = 0.0</text>\n",
       "</g>\n",
       "<!-- 57&#45;&gt;58 -->\n",
       "<g id=\"edge58\" class=\"edge\"><title>57&#45;&gt;58</title>\n",
       "<path fill=\"none\" stroke=\"black\" d=\"M1765.02,-192.884C1766.8,-182.216 1768.77,-170.352 1770.58,-159.519\"/>\n",
       "<polygon fill=\"black\" stroke=\"black\" points=\"1774.05,-159.959 1772.25,-149.52 1767.15,-158.808 1774.05,-159.959\"/>\n",
       "</g>\n",
       "<!-- 59 -->\n",
       "<g id=\"node60\" class=\"node\"><title>59</title>\n",
       "<path fill=\"#e58139\" stroke=\"black\" d=\"M1934,-149.5C1934,-149.5 1857,-149.5 1857,-149.5 1851,-149.5 1845,-143.5 1845,-137.5 1845,-137.5 1845,-108.5 1845,-108.5 1845,-102.5 1851,-96.5 1857,-96.5 1857,-96.5 1934,-96.5 1934,-96.5 1940,-96.5 1946,-102.5 1946,-108.5 1946,-108.5 1946,-137.5 1946,-137.5 1946,-143.5 1940,-149.5 1934,-149.5\"/>\n",
       "<text text-anchor=\"start\" x=\"1859.5\" y=\"-134.3\" font-family=\"Helvetica,sans-Serif\" font-size=\"14.00\">mse = 0.0</text>\n",
       "<text text-anchor=\"start\" x=\"1853\" y=\"-119.3\" font-family=\"Helvetica,sans-Serif\" font-size=\"14.00\">samples = 1</text>\n",
       "<text text-anchor=\"start\" x=\"1854.5\" y=\"-104.3\" font-family=\"Helvetica,sans-Serif\" font-size=\"14.00\">value = 1.0</text>\n",
       "</g>\n",
       "<!-- 57&#45;&gt;59 -->\n",
       "<g id=\"edge59\" class=\"edge\"><title>57&#45;&gt;59</title>\n",
       "<path fill=\"none\" stroke=\"black\" d=\"M1803.66,-192.884C1819.64,-180.896 1837.63,-167.399 1853.43,-155.549\"/>\n",
       "<polygon fill=\"black\" stroke=\"black\" points=\"1855.57,-158.32 1861.47,-149.52 1851.37,-152.72 1855.57,-158.32\"/>\n",
       "</g>\n",
       "<!-- 61 -->\n",
       "<g id=\"node62\" class=\"node\"><title>61</title>\n",
       "<path fill=\"#e58139\" stroke=\"black\" d=\"M1928.5,-253.5C1928.5,-253.5 1842.5,-253.5 1842.5,-253.5 1836.5,-253.5 1830.5,-247.5 1830.5,-241.5 1830.5,-241.5 1830.5,-212.5 1830.5,-212.5 1830.5,-206.5 1836.5,-200.5 1842.5,-200.5 1842.5,-200.5 1928.5,-200.5 1928.5,-200.5 1934.5,-200.5 1940.5,-206.5 1940.5,-212.5 1940.5,-212.5 1940.5,-241.5 1940.5,-241.5 1940.5,-247.5 1934.5,-253.5 1928.5,-253.5\"/>\n",
       "<text text-anchor=\"start\" x=\"1849.5\" y=\"-238.3\" font-family=\"Helvetica,sans-Serif\" font-size=\"14.00\">mse = 0.0</text>\n",
       "<text text-anchor=\"start\" x=\"1838.5\" y=\"-223.3\" font-family=\"Helvetica,sans-Serif\" font-size=\"14.00\">samples = 13</text>\n",
       "<text text-anchor=\"start\" x=\"1844.5\" y=\"-208.3\" font-family=\"Helvetica,sans-Serif\" font-size=\"14.00\">value = 1.0</text>\n",
       "</g>\n",
       "<!-- 60&#45;&gt;61 -->\n",
       "<g id=\"edge61\" class=\"edge\"><title>60&#45;&gt;61</title>\n",
       "<path fill=\"none\" stroke=\"black\" d=\"M1885.5,-296.884C1885.5,-286.326 1885.5,-274.597 1885.5,-263.854\"/>\n",
       "<polygon fill=\"black\" stroke=\"black\" points=\"1889,-263.52 1885.5,-253.52 1882,-263.52 1889,-263.52\"/>\n",
       "</g>\n",
       "<!-- 62 -->\n",
       "<g id=\"node63\" class=\"node\"><title>62</title>\n",
       "<path fill=\"#ffffff\" stroke=\"black\" d=\"M2048,-253.5C2048,-253.5 1971,-253.5 1971,-253.5 1965,-253.5 1959,-247.5 1959,-241.5 1959,-241.5 1959,-212.5 1959,-212.5 1959,-206.5 1965,-200.5 1971,-200.5 1971,-200.5 2048,-200.5 2048,-200.5 2054,-200.5 2060,-206.5 2060,-212.5 2060,-212.5 2060,-241.5 2060,-241.5 2060,-247.5 2054,-253.5 2048,-253.5\"/>\n",
       "<text text-anchor=\"start\" x=\"1973.5\" y=\"-238.3\" font-family=\"Helvetica,sans-Serif\" font-size=\"14.00\">mse = 0.0</text>\n",
       "<text text-anchor=\"start\" x=\"1967\" y=\"-223.3\" font-family=\"Helvetica,sans-Serif\" font-size=\"14.00\">samples = 1</text>\n",
       "<text text-anchor=\"start\" x=\"1968.5\" y=\"-208.3\" font-family=\"Helvetica,sans-Serif\" font-size=\"14.00\">value = 0.0</text>\n",
       "</g>\n",
       "<!-- 60&#45;&gt;62 -->\n",
       "<g id=\"edge62\" class=\"edge\"><title>60&#45;&gt;62</title>\n",
       "<path fill=\"none\" stroke=\"black\" d=\"M1925.76,-296.884C1940.2,-285.006 1956.44,-271.646 1970.75,-259.876\"/>\n",
       "<polygon fill=\"black\" stroke=\"black\" points=\"1972.98,-262.576 1978.48,-253.52 1968.53,-257.17 1972.98,-262.576\"/>\n",
       "</g>\n",
       "<!-- 65 -->\n",
       "<g id=\"node66\" class=\"node\"><title>65</title>\n",
       "<path fill=\"#fbede3\" stroke=\"black\" d=\"M1725,-677C1725,-677 1618,-677 1618,-677 1612,-677 1606,-671 1606,-665 1606,-665 1606,-621 1606,-621 1606,-615 1612,-609 1618,-609 1618,-609 1725,-609 1725,-609 1731,-609 1737,-615 1737,-621 1737,-621 1737,-665 1737,-665 1737,-671 1731,-677 1725,-677\"/>\n",
       "<text text-anchor=\"start\" x=\"1614\" y=\"-661.8\" font-family=\"Helvetica,sans-Serif\" font-size=\"14.00\">oldpeak ≤ 0.915</text>\n",
       "<text text-anchor=\"start\" x=\"1626.5\" y=\"-646.8\" font-family=\"Helvetica,sans-Serif\" font-size=\"14.00\">mse = 0.122</text>\n",
       "<text text-anchor=\"start\" x=\"1629\" y=\"-631.8\" font-family=\"Helvetica,sans-Serif\" font-size=\"14.00\">samples = 7</text>\n",
       "<text text-anchor=\"start\" x=\"1621.5\" y=\"-616.8\" font-family=\"Helvetica,sans-Serif\" font-size=\"14.00\">value = 0.143</text>\n",
       "</g>\n",
       "<!-- 64&#45;&gt;65 -->\n",
       "<g id=\"edge65\" class=\"edge\"><title>64&#45;&gt;65</title>\n",
       "<path fill=\"none\" stroke=\"black\" d=\"M1671.5,-712.884C1671.5,-704.778 1671.5,-695.982 1671.5,-687.472\"/>\n",
       "<polygon fill=\"black\" stroke=\"black\" points=\"1675,-687.299 1671.5,-677.299 1668,-687.299 1675,-687.299\"/>\n",
       "</g>\n",
       "<!-- 70 -->\n",
       "<g id=\"node71\" class=\"node\"><title>70</title>\n",
       "<path fill=\"#e58139\" stroke=\"black\" d=\"M1844,-669.5C1844,-669.5 1767,-669.5 1767,-669.5 1761,-669.5 1755,-663.5 1755,-657.5 1755,-657.5 1755,-628.5 1755,-628.5 1755,-622.5 1761,-616.5 1767,-616.5 1767,-616.5 1844,-616.5 1844,-616.5 1850,-616.5 1856,-622.5 1856,-628.5 1856,-628.5 1856,-657.5 1856,-657.5 1856,-663.5 1850,-669.5 1844,-669.5\"/>\n",
       "<text text-anchor=\"start\" x=\"1769.5\" y=\"-654.3\" font-family=\"Helvetica,sans-Serif\" font-size=\"14.00\">mse = 0.0</text>\n",
       "<text text-anchor=\"start\" x=\"1763\" y=\"-639.3\" font-family=\"Helvetica,sans-Serif\" font-size=\"14.00\">samples = 2</text>\n",
       "<text text-anchor=\"start\" x=\"1764.5\" y=\"-624.3\" font-family=\"Helvetica,sans-Serif\" font-size=\"14.00\">value = 1.0</text>\n",
       "</g>\n",
       "<!-- 64&#45;&gt;70 -->\n",
       "<g id=\"edge70\" class=\"edge\"><title>64&#45;&gt;70</title>\n",
       "<path fill=\"none\" stroke=\"black\" d=\"M1715.01,-712.884C1730.61,-701.006 1748.16,-687.646 1763.62,-675.876\"/>\n",
       "<polygon fill=\"black\" stroke=\"black\" points=\"1766.14,-678.362 1771.97,-669.52 1761.9,-672.792 1766.14,-678.362\"/>\n",
       "</g>\n",
       "<!-- 66 -->\n",
       "<g id=\"node67\" class=\"node\"><title>66</title>\n",
       "<path fill=\"#f2c09c\" stroke=\"black\" d=\"M1712,-573C1712,-573 1631,-573 1631,-573 1625,-573 1619,-567 1619,-561 1619,-561 1619,-517 1619,-517 1619,-511 1625,-505 1631,-505 1631,-505 1712,-505 1712,-505 1718,-505 1724,-511 1724,-517 1724,-517 1724,-561 1724,-561 1724,-567 1718,-573 1712,-573\"/>\n",
       "<text text-anchor=\"start\" x=\"1627\" y=\"-557.8\" font-family=\"Helvetica,sans-Serif\" font-size=\"14.00\">thal ≤ 0.305</text>\n",
       "<text text-anchor=\"start\" x=\"1631\" y=\"-542.8\" font-family=\"Helvetica,sans-Serif\" font-size=\"14.00\">mse = 0.25</text>\n",
       "<text text-anchor=\"start\" x=\"1629\" y=\"-527.8\" font-family=\"Helvetica,sans-Serif\" font-size=\"14.00\">samples = 2</text>\n",
       "<text text-anchor=\"start\" x=\"1630.5\" y=\"-512.8\" font-family=\"Helvetica,sans-Serif\" font-size=\"14.00\">value = 0.5</text>\n",
       "</g>\n",
       "<!-- 65&#45;&gt;66 -->\n",
       "<g id=\"edge66\" class=\"edge\"><title>65&#45;&gt;66</title>\n",
       "<path fill=\"none\" stroke=\"black\" d=\"M1671.5,-608.884C1671.5,-600.778 1671.5,-591.982 1671.5,-583.472\"/>\n",
       "<polygon fill=\"black\" stroke=\"black\" points=\"1675,-583.299 1671.5,-573.299 1668,-583.299 1675,-583.299\"/>\n",
       "</g>\n",
       "<!-- 69 -->\n",
       "<g id=\"node70\" class=\"node\"><title>69</title>\n",
       "<path fill=\"#ffffff\" stroke=\"black\" d=\"M1831,-565.5C1831,-565.5 1754,-565.5 1754,-565.5 1748,-565.5 1742,-559.5 1742,-553.5 1742,-553.5 1742,-524.5 1742,-524.5 1742,-518.5 1748,-512.5 1754,-512.5 1754,-512.5 1831,-512.5 1831,-512.5 1837,-512.5 1843,-518.5 1843,-524.5 1843,-524.5 1843,-553.5 1843,-553.5 1843,-559.5 1837,-565.5 1831,-565.5\"/>\n",
       "<text text-anchor=\"start\" x=\"1756.5\" y=\"-550.3\" font-family=\"Helvetica,sans-Serif\" font-size=\"14.00\">mse = 0.0</text>\n",
       "<text text-anchor=\"start\" x=\"1750\" y=\"-535.3\" font-family=\"Helvetica,sans-Serif\" font-size=\"14.00\">samples = 5</text>\n",
       "<text text-anchor=\"start\" x=\"1751.5\" y=\"-520.3\" font-family=\"Helvetica,sans-Serif\" font-size=\"14.00\">value = 0.0</text>\n",
       "</g>\n",
       "<!-- 65&#45;&gt;69 -->\n",
       "<g id=\"edge69\" class=\"edge\"><title>65&#45;&gt;69</title>\n",
       "<path fill=\"none\" stroke=\"black\" d=\"M1710.79,-608.884C1724.74,-597.116 1740.43,-583.894 1754.3,-572.203\"/>\n",
       "<polygon fill=\"black\" stroke=\"black\" points=\"1756.84,-574.641 1762.23,-565.52 1752.32,-569.289 1756.84,-574.641\"/>\n",
       "</g>\n",
       "<!-- 67 -->\n",
       "<g id=\"node68\" class=\"node\"><title>67</title>\n",
       "<path fill=\"#e58139\" stroke=\"black\" d=\"M1710,-461.5C1710,-461.5 1633,-461.5 1633,-461.5 1627,-461.5 1621,-455.5 1621,-449.5 1621,-449.5 1621,-420.5 1621,-420.5 1621,-414.5 1627,-408.5 1633,-408.5 1633,-408.5 1710,-408.5 1710,-408.5 1716,-408.5 1722,-414.5 1722,-420.5 1722,-420.5 1722,-449.5 1722,-449.5 1722,-455.5 1716,-461.5 1710,-461.5\"/>\n",
       "<text text-anchor=\"start\" x=\"1635.5\" y=\"-446.3\" font-family=\"Helvetica,sans-Serif\" font-size=\"14.00\">mse = 0.0</text>\n",
       "<text text-anchor=\"start\" x=\"1629\" y=\"-431.3\" font-family=\"Helvetica,sans-Serif\" font-size=\"14.00\">samples = 1</text>\n",
       "<text text-anchor=\"start\" x=\"1630.5\" y=\"-416.3\" font-family=\"Helvetica,sans-Serif\" font-size=\"14.00\">value = 1.0</text>\n",
       "</g>\n",
       "<!-- 66&#45;&gt;67 -->\n",
       "<g id=\"edge67\" class=\"edge\"><title>66&#45;&gt;67</title>\n",
       "<path fill=\"none\" stroke=\"black\" d=\"M1671.5,-504.884C1671.5,-494.326 1671.5,-482.597 1671.5,-471.854\"/>\n",
       "<polygon fill=\"black\" stroke=\"black\" points=\"1675,-471.52 1671.5,-461.52 1668,-471.52 1675,-471.52\"/>\n",
       "</g>\n",
       "<!-- 68 -->\n",
       "<g id=\"node69\" class=\"node\"><title>68</title>\n",
       "<path fill=\"#ffffff\" stroke=\"black\" d=\"M1829,-461.5C1829,-461.5 1752,-461.5 1752,-461.5 1746,-461.5 1740,-455.5 1740,-449.5 1740,-449.5 1740,-420.5 1740,-420.5 1740,-414.5 1746,-408.5 1752,-408.5 1752,-408.5 1829,-408.5 1829,-408.5 1835,-408.5 1841,-414.5 1841,-420.5 1841,-420.5 1841,-449.5 1841,-449.5 1841,-455.5 1835,-461.5 1829,-461.5\"/>\n",
       "<text text-anchor=\"start\" x=\"1754.5\" y=\"-446.3\" font-family=\"Helvetica,sans-Serif\" font-size=\"14.00\">mse = 0.0</text>\n",
       "<text text-anchor=\"start\" x=\"1748\" y=\"-431.3\" font-family=\"Helvetica,sans-Serif\" font-size=\"14.00\">samples = 1</text>\n",
       "<text text-anchor=\"start\" x=\"1749.5\" y=\"-416.3\" font-family=\"Helvetica,sans-Serif\" font-size=\"14.00\">value = 0.0</text>\n",
       "</g>\n",
       "<!-- 66&#45;&gt;68 -->\n",
       "<g id=\"edge68\" class=\"edge\"><title>66&#45;&gt;68</title>\n",
       "<path fill=\"none\" stroke=\"black\" d=\"M1710.14,-504.884C1723.86,-493.116 1739.29,-479.894 1752.93,-468.203\"/>\n",
       "<polygon fill=\"black\" stroke=\"black\" points=\"1755.41,-470.685 1760.73,-461.52 1750.86,-465.37 1755.41,-470.685\"/>\n",
       "</g>\n",
       "</g>\n",
       "</svg>\n"
      ],
      "text/plain": [
       "<graphviz.files.Source at 0x7f3fa9015a20>"
      ]
     },
     "execution_count": 47,
     "metadata": {},
     "output_type": "execute_result"
    }
   ],
   "source": [
    "dot_data = export_graphviz(reg, out_file=None, feature_names=columns,\n",
    "                           filled=True, rounded=True,\n",
    "                           special_characters=True)\n",
    "graph = graphviz.Source(dot_data)\n",
    "graph"
   ]
  },
  {
   "cell_type": "markdown",
   "metadata": {},
   "source": [
    "Такое дерево уже можно анализировать. Видно, что сгенерировалось огромное множество различных условий, и, фактически, модель переобучена, но с&nbsp;другой стороны дерево решений и не&nbsp;могло быть построено иначе для&nbsp;задачи регрессии. К&nbsp;тому же на&nbsp;тестовой выборке данное дерево работает также довольно хорошо, так что, возможно, оно имеет право на&nbsp;существование. Если бы стояла задача классификации, то дерево решений явно показало бы себя просто отлично."
   ]
  }
 ],
 "metadata": {
  "authors": [
   {
    "name": "Лясковский Максим Альбертович"
   }
  ],
  "group": "ИУ5-24М",
  "kernelspec": {
   "display_name": "Python 3",
   "language": "python",
   "name": "python3"
  },
  "lab_number": 5,
  "language_info": {
   "codemirror_mode": {
    "name": "ipython",
    "version": 3
   },
   "file_extension": ".py",
   "mimetype": "text/x-python",
   "name": "python",
   "nbconvert_exporter": "python",
   "pygments_lexer": "ipython3",
   "version": "3.6.8"
  },
  "title": "Линейные модели, SVM и деревья решений"
 },
 "nbformat": 4,
 "nbformat_minor": 2
}
