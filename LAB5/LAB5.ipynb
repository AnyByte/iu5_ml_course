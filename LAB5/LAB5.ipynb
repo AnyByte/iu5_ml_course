{
 "cells": [
  {
   "cell_type": "markdown",
   "metadata": {},
   "source": [
    "# Цель лабораторной работы\n",
    "Изучить линейные модели, SVM и деревья решений<cite data-cite=\"ue:lab5\"></cite>."
   ]
  },
  {
   "cell_type": "markdown",
   "metadata": {},
   "source": [
    "# Задание\n",
    "Требуется выполнить следующие действия<cite data-cite=\"ue:lab5\"></cite>:\n",
    "\n",
    "1. Выбрать набор данных (датасет) для&nbsp;решения задачи классификации или регресии.\n",
    "2. В&nbsp;случае необходимости проведите удаление или заполнение пропусков и кодирование категориальных признаков.\n",
    "3. С&nbsp;использованием метода `train_test_split` разделите выборку на&nbsp;обучающую и тестовую.\n",
    "4. Обучите одну из&nbsp;линейных моделей, SVM и дерево решений. Оцените качество модели с&nbsp;помощью трех подходящих для&nbsp;задачи метрик. Сравните качество полученных моделей.\n",
    "5. Произведите для&nbsp;каждой модели подбор одного гиперпараметра с&nbsp;использованием `GridSearchCV` и кросс-валидации.\n",
    "6. Повторите пункт&nbsp;4 для&nbsp;найденных оптимальных значения гиперпараметров. Сравните качество полученных моделей с&nbsp;качеством моделей, полученных в&nbsp;пункте&nbsp;4."
   ]
  },
  {
   "cell_type": "markdown",
   "metadata": {},
   "source": [
    "# Ход выполнения работы"
   ]
  },
  {
   "cell_type": "markdown",
   "metadata": {},
   "source": [
    "Подключим все необходимые библиотеки и настроим отображение графиков<cite data-cite=\"doc:ipython,doc:seaborn\"></cite>:"
   ]
  },
  {
   "cell_type": "code",
   "execution_count": 4,
   "metadata": {},
   "outputs": [],
   "source": [
    "from datetime import datetime\n",
    "import graphviz\n",
    "import matplotlib.pyplot as plt\n",
    "import numpy as np\n",
    "import pandas as pd\n",
    "from sklearn.linear_model import Lasso, LinearRegression, LogisticRegression\n",
    "from sklearn.metrics import mean_absolute_error\n",
    "from sklearn.metrics import median_absolute_error, r2_score\n",
    "from sklearn.metrics import accuracy_score, balanced_accuracy_score\n",
    "from sklearn.model_selection import GridSearchCV\n",
    "from sklearn.model_selection import ShuffleSplit\n",
    "from sklearn.model_selection import train_test_split\n",
    "from sklearn.preprocessing import StandardScaler\n",
    "from sklearn.svm import NuSVR, LinearSVC, SVC\n",
    "from sklearn.tree import DecisionTreeRegressor\n",
    "from sklearn.tree import export_graphviz, plot_tree\n",
    "\n",
    "# Enable inline plots\n",
    "%matplotlib inline\n",
    "\n",
    "# Set plots formats to save high resolution PNG\n",
    "from IPython.display import set_matplotlib_formats\n",
    "set_matplotlib_formats(\"retina\")"
   ]
  },
  {
   "cell_type": "markdown",
   "metadata": {},
   "source": [
    "Зададим ширину текстового представления данных, чтобы в&nbsp;дальнейшем текст в&nbsp;отчёте влезал на&nbsp;А4<cite data-cite=\"doc:pandas\"></cite>:"
   ]
  },
  {
   "cell_type": "code",
   "execution_count": 5,
   "metadata": {},
   "outputs": [],
   "source": [
    "pd.set_option(\"display.width\", 70)"
   ]
  },
  {
   "cell_type": "markdown",
   "metadata": {},
   "source": [
    "## Предварительная подготовка данных"
   ]
  },
  {
   "cell_type": "markdown",
   "metadata": {},
   "source": [
    "В&nbsp;качестве набора данных используется список людей с различными жизненными показателями, включая заболевание сердца<cite data-cite=\"kg:srp\"></cite>:"
   ]
  },
  {
   "cell_type": "code",
   "execution_count": 6,
   "metadata": {},
   "outputs": [],
   "source": [
    "data = pd.read_csv(\"data/heart-disease-uci.zip\")"
   ]
  },
  {
   "cell_type": "markdown",
   "metadata": {},
   "source": [
    "Преобразуем временные колонки в соответствующий временной формат:"
   ]
  },
  {
   "cell_type": "markdown",
   "metadata": {},
   "source": [
    "Проверим полученные типы:"
   ]
  },
  {
   "cell_type": "code",
   "execution_count": 7,
   "metadata": {},
   "outputs": [
    {
     "data": {
      "text/plain": [
       "age           int64\n",
       "sex           int64\n",
       "cp            int64\n",
       "trestbps      int64\n",
       "chol          int64\n",
       "fbs           int64\n",
       "restecg       int64\n",
       "thalach       int64\n",
       "exang         int64\n",
       "oldpeak     float64\n",
       "slope         int64\n",
       "ca            int64\n",
       "thal          int64\n",
       "target        int64\n",
       "dtype: object"
      ]
     },
     "execution_count": 7,
     "metadata": {},
     "output_type": "execute_result"
    }
   ],
   "source": [
    "data.dtypes"
   ]
  },
  {
   "cell_type": "markdown",
   "metadata": {},
   "source": [
    "Посмотрим на данные в&nbsp;данном наборе данных:"
   ]
  },
  {
   "cell_type": "code",
   "execution_count": 8,
   "metadata": {
    "scrolled": false
   },
   "outputs": [
    {
     "data": {
      "text/html": [
       "<div>\n",
       "<style scoped>\n",
       "    .dataframe tbody tr th:only-of-type {\n",
       "        vertical-align: middle;\n",
       "    }\n",
       "\n",
       "    .dataframe tbody tr th {\n",
       "        vertical-align: top;\n",
       "    }\n",
       "\n",
       "    .dataframe thead th {\n",
       "        text-align: right;\n",
       "    }\n",
       "</style>\n",
       "<table border=\"1\" class=\"dataframe\">\n",
       "  <thead>\n",
       "    <tr style=\"text-align: right;\">\n",
       "      <th></th>\n",
       "      <th>age</th>\n",
       "      <th>sex</th>\n",
       "      <th>cp</th>\n",
       "      <th>trestbps</th>\n",
       "      <th>chol</th>\n",
       "      <th>fbs</th>\n",
       "      <th>restecg</th>\n",
       "      <th>thalach</th>\n",
       "      <th>exang</th>\n",
       "      <th>oldpeak</th>\n",
       "      <th>slope</th>\n",
       "      <th>ca</th>\n",
       "      <th>thal</th>\n",
       "      <th>target</th>\n",
       "    </tr>\n",
       "  </thead>\n",
       "  <tbody>\n",
       "    <tr>\n",
       "      <th>0</th>\n",
       "      <td>63</td>\n",
       "      <td>1</td>\n",
       "      <td>3</td>\n",
       "      <td>145</td>\n",
       "      <td>233</td>\n",
       "      <td>1</td>\n",
       "      <td>0</td>\n",
       "      <td>150</td>\n",
       "      <td>0</td>\n",
       "      <td>2.3</td>\n",
       "      <td>0</td>\n",
       "      <td>0</td>\n",
       "      <td>1</td>\n",
       "      <td>1</td>\n",
       "    </tr>\n",
       "    <tr>\n",
       "      <th>1</th>\n",
       "      <td>37</td>\n",
       "      <td>1</td>\n",
       "      <td>2</td>\n",
       "      <td>130</td>\n",
       "      <td>250</td>\n",
       "      <td>0</td>\n",
       "      <td>1</td>\n",
       "      <td>187</td>\n",
       "      <td>0</td>\n",
       "      <td>3.5</td>\n",
       "      <td>0</td>\n",
       "      <td>0</td>\n",
       "      <td>2</td>\n",
       "      <td>1</td>\n",
       "    </tr>\n",
       "    <tr>\n",
       "      <th>2</th>\n",
       "      <td>41</td>\n",
       "      <td>0</td>\n",
       "      <td>1</td>\n",
       "      <td>130</td>\n",
       "      <td>204</td>\n",
       "      <td>0</td>\n",
       "      <td>0</td>\n",
       "      <td>172</td>\n",
       "      <td>0</td>\n",
       "      <td>1.4</td>\n",
       "      <td>2</td>\n",
       "      <td>0</td>\n",
       "      <td>2</td>\n",
       "      <td>1</td>\n",
       "    </tr>\n",
       "    <tr>\n",
       "      <th>3</th>\n",
       "      <td>56</td>\n",
       "      <td>1</td>\n",
       "      <td>1</td>\n",
       "      <td>120</td>\n",
       "      <td>236</td>\n",
       "      <td>0</td>\n",
       "      <td>1</td>\n",
       "      <td>178</td>\n",
       "      <td>0</td>\n",
       "      <td>0.8</td>\n",
       "      <td>2</td>\n",
       "      <td>0</td>\n",
       "      <td>2</td>\n",
       "      <td>1</td>\n",
       "    </tr>\n",
       "    <tr>\n",
       "      <th>4</th>\n",
       "      <td>57</td>\n",
       "      <td>0</td>\n",
       "      <td>0</td>\n",
       "      <td>120</td>\n",
       "      <td>354</td>\n",
       "      <td>0</td>\n",
       "      <td>1</td>\n",
       "      <td>163</td>\n",
       "      <td>1</td>\n",
       "      <td>0.6</td>\n",
       "      <td>2</td>\n",
       "      <td>0</td>\n",
       "      <td>2</td>\n",
       "      <td>1</td>\n",
       "    </tr>\n",
       "  </tbody>\n",
       "</table>\n",
       "</div>"
      ],
      "text/plain": [
       "   age  sex  cp  trestbps  chol  fbs  restecg  thalach  exang  \\\n",
       "0   63    1   3       145   233    1        0      150      0   \n",
       "1   37    1   2       130   250    0        1      187      0   \n",
       "2   41    0   1       130   204    0        0      172      0   \n",
       "3   56    1   1       120   236    0        1      178      0   \n",
       "4   57    0   0       120   354    0        1      163      1   \n",
       "\n",
       "   oldpeak  slope  ca  thal  target  \n",
       "0      2.3      0   0     1       1  \n",
       "1      3.5      0   0     2       1  \n",
       "2      1.4      2   0     2       1  \n",
       "3      0.8      2   0     2       1  \n",
       "4      0.6      2   0     2       1  "
      ]
     },
     "execution_count": 8,
     "metadata": {},
     "output_type": "execute_result"
    }
   ],
   "source": [
    "data.head()"
   ]
  },
  {
   "cell_type": "markdown",
   "metadata": {},
   "source": [
    "Проверим основные статистические характеристики набора данных:"
   ]
  },
  {
   "cell_type": "code",
   "execution_count": 9,
   "metadata": {},
   "outputs": [],
   "source": [
    "df = data.copy()"
   ]
  },
  {
   "cell_type": "code",
   "execution_count": 10,
   "metadata": {},
   "outputs": [
    {
     "data": {
      "text/html": [
       "<div>\n",
       "<style scoped>\n",
       "    .dataframe tbody tr th:only-of-type {\n",
       "        vertical-align: middle;\n",
       "    }\n",
       "\n",
       "    .dataframe tbody tr th {\n",
       "        vertical-align: top;\n",
       "    }\n",
       "\n",
       "    .dataframe thead th {\n",
       "        text-align: right;\n",
       "    }\n",
       "</style>\n",
       "<table border=\"1\" class=\"dataframe\">\n",
       "  <thead>\n",
       "    <tr style=\"text-align: right;\">\n",
       "      <th></th>\n",
       "      <th>age</th>\n",
       "      <th>sex</th>\n",
       "      <th>cp</th>\n",
       "      <th>trestbps</th>\n",
       "      <th>chol</th>\n",
       "      <th>fbs</th>\n",
       "      <th>restecg</th>\n",
       "      <th>thalach</th>\n",
       "      <th>exang</th>\n",
       "      <th>oldpeak</th>\n",
       "      <th>slope</th>\n",
       "      <th>ca</th>\n",
       "      <th>thal</th>\n",
       "      <th>target</th>\n",
       "    </tr>\n",
       "  </thead>\n",
       "  <tbody>\n",
       "    <tr>\n",
       "      <th>count</th>\n",
       "      <td>303.000000</td>\n",
       "      <td>303.000000</td>\n",
       "      <td>303.000000</td>\n",
       "      <td>303.000000</td>\n",
       "      <td>303.000000</td>\n",
       "      <td>303.000000</td>\n",
       "      <td>303.000000</td>\n",
       "      <td>303.000000</td>\n",
       "      <td>303.000000</td>\n",
       "      <td>303.000000</td>\n",
       "      <td>303.000000</td>\n",
       "      <td>303.000000</td>\n",
       "      <td>303.000000</td>\n",
       "      <td>303.000000</td>\n",
       "    </tr>\n",
       "    <tr>\n",
       "      <th>mean</th>\n",
       "      <td>54.366337</td>\n",
       "      <td>0.683168</td>\n",
       "      <td>0.966997</td>\n",
       "      <td>131.623762</td>\n",
       "      <td>246.264026</td>\n",
       "      <td>0.148515</td>\n",
       "      <td>0.528053</td>\n",
       "      <td>149.646865</td>\n",
       "      <td>0.326733</td>\n",
       "      <td>1.039604</td>\n",
       "      <td>1.399340</td>\n",
       "      <td>0.729373</td>\n",
       "      <td>2.313531</td>\n",
       "      <td>0.544554</td>\n",
       "    </tr>\n",
       "    <tr>\n",
       "      <th>std</th>\n",
       "      <td>9.082101</td>\n",
       "      <td>0.466011</td>\n",
       "      <td>1.032052</td>\n",
       "      <td>17.538143</td>\n",
       "      <td>51.830751</td>\n",
       "      <td>0.356198</td>\n",
       "      <td>0.525860</td>\n",
       "      <td>22.905161</td>\n",
       "      <td>0.469794</td>\n",
       "      <td>1.161075</td>\n",
       "      <td>0.616226</td>\n",
       "      <td>1.022606</td>\n",
       "      <td>0.612277</td>\n",
       "      <td>0.498835</td>\n",
       "    </tr>\n",
       "    <tr>\n",
       "      <th>min</th>\n",
       "      <td>29.000000</td>\n",
       "      <td>0.000000</td>\n",
       "      <td>0.000000</td>\n",
       "      <td>94.000000</td>\n",
       "      <td>126.000000</td>\n",
       "      <td>0.000000</td>\n",
       "      <td>0.000000</td>\n",
       "      <td>71.000000</td>\n",
       "      <td>0.000000</td>\n",
       "      <td>0.000000</td>\n",
       "      <td>0.000000</td>\n",
       "      <td>0.000000</td>\n",
       "      <td>0.000000</td>\n",
       "      <td>0.000000</td>\n",
       "    </tr>\n",
       "    <tr>\n",
       "      <th>25%</th>\n",
       "      <td>47.500000</td>\n",
       "      <td>0.000000</td>\n",
       "      <td>0.000000</td>\n",
       "      <td>120.000000</td>\n",
       "      <td>211.000000</td>\n",
       "      <td>0.000000</td>\n",
       "      <td>0.000000</td>\n",
       "      <td>133.500000</td>\n",
       "      <td>0.000000</td>\n",
       "      <td>0.000000</td>\n",
       "      <td>1.000000</td>\n",
       "      <td>0.000000</td>\n",
       "      <td>2.000000</td>\n",
       "      <td>0.000000</td>\n",
       "    </tr>\n",
       "    <tr>\n",
       "      <th>50%</th>\n",
       "      <td>55.000000</td>\n",
       "      <td>1.000000</td>\n",
       "      <td>1.000000</td>\n",
       "      <td>130.000000</td>\n",
       "      <td>240.000000</td>\n",
       "      <td>0.000000</td>\n",
       "      <td>1.000000</td>\n",
       "      <td>153.000000</td>\n",
       "      <td>0.000000</td>\n",
       "      <td>0.800000</td>\n",
       "      <td>1.000000</td>\n",
       "      <td>0.000000</td>\n",
       "      <td>2.000000</td>\n",
       "      <td>1.000000</td>\n",
       "    </tr>\n",
       "    <tr>\n",
       "      <th>75%</th>\n",
       "      <td>61.000000</td>\n",
       "      <td>1.000000</td>\n",
       "      <td>2.000000</td>\n",
       "      <td>140.000000</td>\n",
       "      <td>274.500000</td>\n",
       "      <td>0.000000</td>\n",
       "      <td>1.000000</td>\n",
       "      <td>166.000000</td>\n",
       "      <td>1.000000</td>\n",
       "      <td>1.600000</td>\n",
       "      <td>2.000000</td>\n",
       "      <td>1.000000</td>\n",
       "      <td>3.000000</td>\n",
       "      <td>1.000000</td>\n",
       "    </tr>\n",
       "    <tr>\n",
       "      <th>max</th>\n",
       "      <td>77.000000</td>\n",
       "      <td>1.000000</td>\n",
       "      <td>3.000000</td>\n",
       "      <td>200.000000</td>\n",
       "      <td>564.000000</td>\n",
       "      <td>1.000000</td>\n",
       "      <td>2.000000</td>\n",
       "      <td>202.000000</td>\n",
       "      <td>1.000000</td>\n",
       "      <td>6.200000</td>\n",
       "      <td>2.000000</td>\n",
       "      <td>4.000000</td>\n",
       "      <td>3.000000</td>\n",
       "      <td>1.000000</td>\n",
       "    </tr>\n",
       "  </tbody>\n",
       "</table>\n",
       "</div>"
      ],
      "text/plain": [
       "              age         sex          cp    trestbps        chol  \\\n",
       "count  303.000000  303.000000  303.000000  303.000000  303.000000   \n",
       "mean    54.366337    0.683168    0.966997  131.623762  246.264026   \n",
       "std      9.082101    0.466011    1.032052   17.538143   51.830751   \n",
       "min     29.000000    0.000000    0.000000   94.000000  126.000000   \n",
       "25%     47.500000    0.000000    0.000000  120.000000  211.000000   \n",
       "50%     55.000000    1.000000    1.000000  130.000000  240.000000   \n",
       "75%     61.000000    1.000000    2.000000  140.000000  274.500000   \n",
       "max     77.000000    1.000000    3.000000  200.000000  564.000000   \n",
       "\n",
       "              fbs     restecg     thalach       exang     oldpeak  \\\n",
       "count  303.000000  303.000000  303.000000  303.000000  303.000000   \n",
       "mean     0.148515    0.528053  149.646865    0.326733    1.039604   \n",
       "std      0.356198    0.525860   22.905161    0.469794    1.161075   \n",
       "min      0.000000    0.000000   71.000000    0.000000    0.000000   \n",
       "25%      0.000000    0.000000  133.500000    0.000000    0.000000   \n",
       "50%      0.000000    1.000000  153.000000    0.000000    0.800000   \n",
       "75%      0.000000    1.000000  166.000000    1.000000    1.600000   \n",
       "max      1.000000    2.000000  202.000000    1.000000    6.200000   \n",
       "\n",
       "            slope          ca        thal      target  \n",
       "count  303.000000  303.000000  303.000000  303.000000  \n",
       "mean     1.399340    0.729373    2.313531    0.544554  \n",
       "std      0.616226    1.022606    0.612277    0.498835  \n",
       "min      0.000000    0.000000    0.000000    0.000000  \n",
       "25%      1.000000    0.000000    2.000000    0.000000  \n",
       "50%      1.000000    0.000000    2.000000    1.000000  \n",
       "75%      2.000000    1.000000    3.000000    1.000000  \n",
       "max      2.000000    4.000000    3.000000    1.000000  "
      ]
     },
     "execution_count": 10,
     "metadata": {},
     "output_type": "execute_result"
    }
   ],
   "source": [
    "df.describe()"
   ]
  },
  {
   "cell_type": "markdown",
   "metadata": {},
   "source": [
    "Проверим наличие пропусков в&nbsp;данных:"
   ]
  },
  {
   "cell_type": "code",
   "execution_count": 11,
   "metadata": {},
   "outputs": [
    {
     "data": {
      "text/plain": [
       "age         0\n",
       "sex         0\n",
       "cp          0\n",
       "trestbps    0\n",
       "chol        0\n",
       "fbs         0\n",
       "restecg     0\n",
       "thalach     0\n",
       "exang       0\n",
       "oldpeak     0\n",
       "slope       0\n",
       "ca          0\n",
       "thal        0\n",
       "target      0\n",
       "dtype: int64"
      ]
     },
     "execution_count": 11,
     "metadata": {},
     "output_type": "execute_result"
    }
   ],
   "source": [
    "df.isnull().sum()"
   ]
  },
  {
   "cell_type": "markdown",
   "metadata": {},
   "source": [
    "## Разделение данных\n",
    "Разделим данные на&nbsp;целевой столбец и признаки:"
   ]
  },
  {
   "cell_type": "code",
   "execution_count": 65,
   "metadata": {},
   "outputs": [],
   "source": [
    "X = df.drop(\"target\", axis=1)\n",
    "y = df[\"target\"]"
   ]
  },
  {
   "cell_type": "code",
   "execution_count": 66,
   "metadata": {},
   "outputs": [
    {
     "name": "stdout",
     "output_type": "stream",
     "text": [
      "   age  sex  cp  trestbps  chol  fbs  restecg  thalach  exang  \\\n",
      "0   63    1   3       145   233    1        0      150      0   \n",
      "1   37    1   2       130   250    0        1      187      0   \n",
      "2   41    0   1       130   204    0        0      172      0   \n",
      "3   56    1   1       120   236    0        1      178      0   \n",
      "4   57    0   0       120   354    0        1      163      1   \n",
      "\n",
      "   oldpeak  slope  ca  thal  \n",
      "0      2.3      0   0     1  \n",
      "1      3.5      0   0     2  \n",
      "2      1.4      2   0     2  \n",
      "3      0.8      2   0     2  \n",
      "4      0.6      2   0     2   \n",
      "\n",
      "0    1\n",
      "1    1\n",
      "2    1\n",
      "3    1\n",
      "4    1\n",
      "Name: target, dtype: int64\n"
     ]
    }
   ],
   "source": [
    "print(X.head(), \"\\n\")\n",
    "print(y.head())"
   ]
  },
  {
   "cell_type": "code",
   "execution_count": 67,
   "metadata": {},
   "outputs": [
    {
     "name": "stdout",
     "output_type": "stream",
     "text": [
      "(303, 13)\n",
      "(303,)\n"
     ]
    }
   ],
   "source": [
    "print(X.shape)\n",
    "print(y.shape)"
   ]
  },
  {
   "cell_type": "markdown",
   "metadata": {},
   "source": [
    "Предобработаем данные, чтобы методы работали лучше:"
   ]
  },
  {
   "cell_type": "code",
   "execution_count": 68,
   "metadata": {},
   "outputs": [
    {
     "data": {
      "text/html": [
       "<div>\n",
       "<style scoped>\n",
       "    .dataframe tbody tr th:only-of-type {\n",
       "        vertical-align: middle;\n",
       "    }\n",
       "\n",
       "    .dataframe tbody tr th {\n",
       "        vertical-align: top;\n",
       "    }\n",
       "\n",
       "    .dataframe thead th {\n",
       "        text-align: right;\n",
       "    }\n",
       "</style>\n",
       "<table border=\"1\" class=\"dataframe\">\n",
       "  <thead>\n",
       "    <tr style=\"text-align: right;\">\n",
       "      <th></th>\n",
       "      <th>age</th>\n",
       "      <th>sex</th>\n",
       "      <th>cp</th>\n",
       "      <th>trestbps</th>\n",
       "      <th>chol</th>\n",
       "      <th>fbs</th>\n",
       "      <th>restecg</th>\n",
       "      <th>thalach</th>\n",
       "      <th>exang</th>\n",
       "      <th>oldpeak</th>\n",
       "      <th>slope</th>\n",
       "      <th>ca</th>\n",
       "      <th>thal</th>\n",
       "    </tr>\n",
       "  </thead>\n",
       "  <tbody>\n",
       "    <tr>\n",
       "      <th>count</th>\n",
       "      <td>3.030000e+02</td>\n",
       "      <td>3.030000e+02</td>\n",
       "      <td>3.030000e+02</td>\n",
       "      <td>3.030000e+02</td>\n",
       "      <td>3.030000e+02</td>\n",
       "      <td>3.030000e+02</td>\n",
       "      <td>3.030000e+02</td>\n",
       "      <td>3.030000e+02</td>\n",
       "      <td>3.030000e+02</td>\n",
       "      <td>3.030000e+02</td>\n",
       "      <td>3.030000e+02</td>\n",
       "      <td>3.030000e+02</td>\n",
       "      <td>3.030000e+02</td>\n",
       "    </tr>\n",
       "    <tr>\n",
       "      <th>mean</th>\n",
       "      <td>4.690051e-17</td>\n",
       "      <td>-1.407015e-16</td>\n",
       "      <td>2.345026e-17</td>\n",
       "      <td>-7.035077e-16</td>\n",
       "      <td>-1.113887e-16</td>\n",
       "      <td>-2.345026e-17</td>\n",
       "      <td>1.465641e-16</td>\n",
       "      <td>-6.800574e-16</td>\n",
       "      <td>-4.690051e-17</td>\n",
       "      <td>2.345026e-17</td>\n",
       "      <td>-1.407015e-16</td>\n",
       "      <td>-2.345026e-17</td>\n",
       "      <td>-1.641518e-16</td>\n",
       "    </tr>\n",
       "    <tr>\n",
       "      <th>std</th>\n",
       "      <td>1.001654e+00</td>\n",
       "      <td>1.001654e+00</td>\n",
       "      <td>1.001654e+00</td>\n",
       "      <td>1.001654e+00</td>\n",
       "      <td>1.001654e+00</td>\n",
       "      <td>1.001654e+00</td>\n",
       "      <td>1.001654e+00</td>\n",
       "      <td>1.001654e+00</td>\n",
       "      <td>1.001654e+00</td>\n",
       "      <td>1.001654e+00</td>\n",
       "      <td>1.001654e+00</td>\n",
       "      <td>1.001654e+00</td>\n",
       "      <td>1.001654e+00</td>\n",
       "    </tr>\n",
       "    <tr>\n",
       "      <th>min</th>\n",
       "      <td>-2.797624e+00</td>\n",
       "      <td>-1.468418e+00</td>\n",
       "      <td>-9.385146e-01</td>\n",
       "      <td>-2.148802e+00</td>\n",
       "      <td>-2.324160e+00</td>\n",
       "      <td>-4.176345e-01</td>\n",
       "      <td>-1.005832e+00</td>\n",
       "      <td>-3.439267e+00</td>\n",
       "      <td>-6.966305e-01</td>\n",
       "      <td>-8.968617e-01</td>\n",
       "      <td>-2.274579e+00</td>\n",
       "      <td>-7.144289e-01</td>\n",
       "      <td>-3.784824e+00</td>\n",
       "    </tr>\n",
       "    <tr>\n",
       "      <th>25%</th>\n",
       "      <td>-7.572802e-01</td>\n",
       "      <td>-1.468418e+00</td>\n",
       "      <td>-9.385146e-01</td>\n",
       "      <td>-6.638668e-01</td>\n",
       "      <td>-6.814943e-01</td>\n",
       "      <td>-4.176345e-01</td>\n",
       "      <td>-1.005832e+00</td>\n",
       "      <td>-7.061105e-01</td>\n",
       "      <td>-6.966305e-01</td>\n",
       "      <td>-8.968617e-01</td>\n",
       "      <td>-6.491132e-01</td>\n",
       "      <td>-7.144289e-01</td>\n",
       "      <td>-5.129219e-01</td>\n",
       "    </tr>\n",
       "    <tr>\n",
       "      <th>50%</th>\n",
       "      <td>6.988599e-02</td>\n",
       "      <td>6.810052e-01</td>\n",
       "      <td>3.203122e-02</td>\n",
       "      <td>-9.273778e-02</td>\n",
       "      <td>-1.210553e-01</td>\n",
       "      <td>-4.176345e-01</td>\n",
       "      <td>8.989622e-01</td>\n",
       "      <td>1.466343e-01</td>\n",
       "      <td>-6.966305e-01</td>\n",
       "      <td>-2.067053e-01</td>\n",
       "      <td>-6.491132e-01</td>\n",
       "      <td>-7.144289e-01</td>\n",
       "      <td>-5.129219e-01</td>\n",
       "    </tr>\n",
       "    <tr>\n",
       "      <th>75%</th>\n",
       "      <td>7.316189e-01</td>\n",
       "      <td>6.810052e-01</td>\n",
       "      <td>1.002577e+00</td>\n",
       "      <td>4.783913e-01</td>\n",
       "      <td>5.456738e-01</td>\n",
       "      <td>-4.176345e-01</td>\n",
       "      <td>8.989622e-01</td>\n",
       "      <td>7.151309e-01</td>\n",
       "      <td>1.435481e+00</td>\n",
       "      <td>4.834512e-01</td>\n",
       "      <td>9.763521e-01</td>\n",
       "      <td>2.650822e-01</td>\n",
       "      <td>1.123029e+00</td>\n",
       "    </tr>\n",
       "    <tr>\n",
       "      <th>max</th>\n",
       "      <td>2.496240e+00</td>\n",
       "      <td>6.810052e-01</td>\n",
       "      <td>1.973123e+00</td>\n",
       "      <td>3.905165e+00</td>\n",
       "      <td>6.140401e+00</td>\n",
       "      <td>2.394438e+00</td>\n",
       "      <td>2.803756e+00</td>\n",
       "      <td>2.289429e+00</td>\n",
       "      <td>1.435481e+00</td>\n",
       "      <td>4.451851e+00</td>\n",
       "      <td>9.763521e-01</td>\n",
       "      <td>3.203615e+00</td>\n",
       "      <td>1.123029e+00</td>\n",
       "    </tr>\n",
       "  </tbody>\n",
       "</table>\n",
       "</div>"
      ],
      "text/plain": [
       "                age           sex            cp      trestbps  \\\n",
       "count  3.030000e+02  3.030000e+02  3.030000e+02  3.030000e+02   \n",
       "mean   4.690051e-17 -1.407015e-16  2.345026e-17 -7.035077e-16   \n",
       "std    1.001654e+00  1.001654e+00  1.001654e+00  1.001654e+00   \n",
       "min   -2.797624e+00 -1.468418e+00 -9.385146e-01 -2.148802e+00   \n",
       "25%   -7.572802e-01 -1.468418e+00 -9.385146e-01 -6.638668e-01   \n",
       "50%    6.988599e-02  6.810052e-01  3.203122e-02 -9.273778e-02   \n",
       "75%    7.316189e-01  6.810052e-01  1.002577e+00  4.783913e-01   \n",
       "max    2.496240e+00  6.810052e-01  1.973123e+00  3.905165e+00   \n",
       "\n",
       "               chol           fbs       restecg       thalach  \\\n",
       "count  3.030000e+02  3.030000e+02  3.030000e+02  3.030000e+02   \n",
       "mean  -1.113887e-16 -2.345026e-17  1.465641e-16 -6.800574e-16   \n",
       "std    1.001654e+00  1.001654e+00  1.001654e+00  1.001654e+00   \n",
       "min   -2.324160e+00 -4.176345e-01 -1.005832e+00 -3.439267e+00   \n",
       "25%   -6.814943e-01 -4.176345e-01 -1.005832e+00 -7.061105e-01   \n",
       "50%   -1.210553e-01 -4.176345e-01  8.989622e-01  1.466343e-01   \n",
       "75%    5.456738e-01 -4.176345e-01  8.989622e-01  7.151309e-01   \n",
       "max    6.140401e+00  2.394438e+00  2.803756e+00  2.289429e+00   \n",
       "\n",
       "              exang       oldpeak         slope            ca  \\\n",
       "count  3.030000e+02  3.030000e+02  3.030000e+02  3.030000e+02   \n",
       "mean  -4.690051e-17  2.345026e-17 -1.407015e-16 -2.345026e-17   \n",
       "std    1.001654e+00  1.001654e+00  1.001654e+00  1.001654e+00   \n",
       "min   -6.966305e-01 -8.968617e-01 -2.274579e+00 -7.144289e-01   \n",
       "25%   -6.966305e-01 -8.968617e-01 -6.491132e-01 -7.144289e-01   \n",
       "50%   -6.966305e-01 -2.067053e-01 -6.491132e-01 -7.144289e-01   \n",
       "75%    1.435481e+00  4.834512e-01  9.763521e-01  2.650822e-01   \n",
       "max    1.435481e+00  4.451851e+00  9.763521e-01  3.203615e+00   \n",
       "\n",
       "               thal  \n",
       "count  3.030000e+02  \n",
       "mean  -1.641518e-16  \n",
       "std    1.001654e+00  \n",
       "min   -3.784824e+00  \n",
       "25%   -5.129219e-01  \n",
       "50%   -5.129219e-01  \n",
       "75%    1.123029e+00  \n",
       "max    1.123029e+00  "
      ]
     },
     "execution_count": 68,
     "metadata": {},
     "output_type": "execute_result"
    }
   ],
   "source": [
    "columns = X.columns\n",
    "scaler = StandardScaler()\n",
    "X = scaler.fit_transform(X)\n",
    "pd.DataFrame(X, columns=columns).describe()"
   ]
  },
  {
   "cell_type": "markdown",
   "metadata": {},
   "source": [
    "Разделим выборку на&nbsp;тренировочную и тестовую:"
   ]
  },
  {
   "cell_type": "code",
   "execution_count": 69,
   "metadata": {},
   "outputs": [],
   "source": [
    "X_train, X_test, y_train, y_test = train_test_split(X, y,\n",
    "                            test_size=0.25, random_state=346705925)"
   ]
  },
  {
   "cell_type": "code",
   "execution_count": 70,
   "metadata": {},
   "outputs": [
    {
     "name": "stdout",
     "output_type": "stream",
     "text": [
      "(227, 13)\n",
      "(76, 13)\n",
      "(227,)\n",
      "(76,)\n"
     ]
    }
   ],
   "source": [
    "print(X_train.shape)\n",
    "print(X_test.shape)\n",
    "print(y_train.shape)\n",
    "print(y_test.shape)"
   ]
  },
  {
   "cell_type": "markdown",
   "metadata": {},
   "source": [
    "## Обучение моделей"
   ]
  },
  {
   "cell_type": "markdown",
   "metadata": {},
   "source": [
    "Напишем функцию, которая считает метрики построенной модели:"
   ]
  },
  {
   "cell_type": "code",
   "execution_count": 18,
   "metadata": {},
   "outputs": [],
   "source": [
    "def test_model(model):\n",
    "    print(\"mean_absolute_error:\",\n",
    "          mean_absolute_error(y_test, model.predict(X_test)))\n",
    "    print(\"median_absolute_error:\",\n",
    "          median_absolute_error(y_test, model.predict(X_test)))\n",
    "    print(\"accuracy:\",\n",
    "          accuracy_score(y_test, model.predict(X_test).round()))\n",
    "    print(\"balanced_accuracy:\",\n",
    "          balanced_accuracy_score(y_test, model.predict(X_test).round()))"
   ]
  },
  {
   "cell_type": "markdown",
   "metadata": {},
   "source": [
    "### Модель бинарной классификации — LogisticRegression"
   ]
  },
  {
   "cell_type": "code",
   "execution_count": 19,
   "metadata": {},
   "outputs": [],
   "source": [
    "def convert_target_to_binary(array:np.ndarray, target:int) -> np.ndarray:\n",
    "    # Если целевой признак совпадает с указанным, то 1 иначе 0\n",
    "    res = [1 if x==target else 0 for x in array]\n",
    "    return res"
   ]
  },
  {
   "cell_type": "code",
   "execution_count": 73,
   "metadata": {},
   "outputs": [],
   "source": [
    "X_train, X_test, y_train, y_test = train_test_split(X, y, test_size=0.5, random_state=1)"
   ]
  },
  {
   "cell_type": "markdown",
   "metadata": {},
   "source": [
    "Попробуем метод LogisticRegression с&nbsp;гиперпараметром $\\alpha=1$:"
   ]
  },
  {
   "cell_type": "code",
   "execution_count": 74,
   "metadata": {},
   "outputs": [
    {
     "name": "stderr",
     "output_type": "stream",
     "text": [
      "/home/anybyte/.local/lib/python3.6/site-packages/sklearn/linear_model/logistic.py:432: FutureWarning: Default solver will be changed to 'lbfgs' in 0.22. Specify a solver to silence this warning.\n",
      "  FutureWarning)\n"
     ]
    },
    {
     "data": {
      "text/plain": [
       "LogisticRegression(C=1.0, class_weight=None, dual=False, fit_intercept=True,\n",
       "                   intercept_scaling=1, l1_ratio=None, max_iter=100,\n",
       "                   multi_class='warn', n_jobs=None, penalty='l2',\n",
       "                   random_state=None, solver='warn', tol=0.0001, verbose=0,\n",
       "                   warm_start=False)"
      ]
     },
     "execution_count": 74,
     "metadata": {},
     "output_type": "execute_result"
    }
   ],
   "source": [
    "cl1 = LogisticRegression()\n",
    "cl1.fit(X_train, y_train)"
   ]
  },
  {
   "cell_type": "markdown",
   "metadata": {},
   "source": [
    "Проверим метрики построенной модели:"
   ]
  },
  {
   "cell_type": "code",
   "execution_count": 75,
   "metadata": {},
   "outputs": [
    {
     "name": "stdout",
     "output_type": "stream",
     "text": [
      "mean_absolute_error: 0.25\n",
      "median_absolute_error: 0.0\n",
      "accuracy: 0.75\n",
      "balanced_accuracy: 0.7471744044513997\n"
     ]
    }
   ],
   "source": [
    "test_model(cl1)"
   ]
  },
  {
   "cell_type": "markdown",
   "metadata": {},
   "source": [
    "Видно, что данный метод без&nbsp;настройки гиперпараметров несколько хуже, чем метод $K$ ближайших соседей."
   ]
  },
  {
   "cell_type": "markdown",
   "metadata": {},
   "source": [
    "### SVC"
   ]
  },
  {
   "cell_type": "markdown",
   "metadata": {},
   "source": [
    "Попробуем метод SVC:"
   ]
  },
  {
   "cell_type": "code",
   "execution_count": 76,
   "metadata": {},
   "outputs": [
    {
     "data": {
      "text/plain": [
       "SVC(C=1.0, cache_size=200, class_weight=None, coef0=0.0,\n",
       "    decision_function_shape='ovr', degree=3, gamma='auto', kernel='rbf',\n",
       "    max_iter=-1, probability=False, random_state=None, shrinking=True,\n",
       "    tol=0.001, verbose=False)"
      ]
     },
     "execution_count": 76,
     "metadata": {},
     "output_type": "execute_result"
    }
   ],
   "source": [
    "linear_1 = SVC(C=1.0, gamma='auto')\n",
    "linear_1.fit(X_train, y_train)"
   ]
  },
  {
   "cell_type": "markdown",
   "metadata": {},
   "source": [
    "Проверим метрики построенной модели:"
   ]
  },
  {
   "cell_type": "code",
   "execution_count": 77,
   "metadata": {},
   "outputs": [
    {
     "name": "stdout",
     "output_type": "stream",
     "text": [
      "mean_absolute_error: 0.21710526315789475\n",
      "median_absolute_error: 0.0\n",
      "accuracy: 0.7828947368421053\n",
      "balanced_accuracy: 0.7789080159972179\n"
     ]
    }
   ],
   "source": [
    "test_model(linear_1)"
   ]
  },
  {
   "cell_type": "markdown",
   "metadata": {},
   "source": [
    "Внезапно LinearSVC показал результаты хуже по&nbsp;средней абсолютной ошибке и коэффициенте детерминации."
   ]
  },
  {
   "cell_type": "markdown",
   "metadata": {},
   "source": [
    "### Дерево решений"
   ]
  },
  {
   "cell_type": "markdown",
   "metadata": {},
   "source": [
    "Попробуем дерево решений с&nbsp;неограниченной глубиной дерева:"
   ]
  },
  {
   "cell_type": "code",
   "execution_count": 78,
   "metadata": {},
   "outputs": [
    {
     "data": {
      "text/plain": [
       "DecisionTreeRegressor(criterion='mse', max_depth=None, max_features=None,\n",
       "                      max_leaf_nodes=None, min_impurity_decrease=0.0,\n",
       "                      min_impurity_split=None, min_samples_leaf=1,\n",
       "                      min_samples_split=2, min_weight_fraction_leaf=0.0,\n",
       "                      presort=False, random_state=None, splitter='best')"
      ]
     },
     "execution_count": 78,
     "metadata": {},
     "output_type": "execute_result"
    }
   ],
   "source": [
    "dt_none = DecisionTreeRegressor(max_depth=None)\n",
    "dt_none.fit(X_train, y_train)"
   ]
  },
  {
   "cell_type": "markdown",
   "metadata": {},
   "source": [
    "Проверим метрики построенной модели:"
   ]
  },
  {
   "cell_type": "code",
   "execution_count": 79,
   "metadata": {
    "scrolled": true
   },
   "outputs": [
    {
     "name": "stdout",
     "output_type": "stream",
     "text": [
      "mean_absolute_error: 0.2631578947368421\n",
      "median_absolute_error: 0.0\n",
      "accuracy: 0.7368421052631579\n",
      "balanced_accuracy: 0.736567553468962\n"
     ]
    }
   ],
   "source": [
    "test_model(dt_none)"
   ]
  },
  {
   "cell_type": "markdown",
   "metadata": {},
   "source": [
    "Дерево решений показало прямо-таки очень хороший результат по&nbsp;сравнению с&nbsp;рассмотренными раньше методами. Оценим структуру получившегося дерева решений:"
   ]
  },
  {
   "cell_type": "code",
   "execution_count": 80,
   "metadata": {},
   "outputs": [],
   "source": [
    "def stat_tree(estimator):\n",
    "    n_nodes = estimator.tree_.node_count\n",
    "    children_left = estimator.tree_.children_left\n",
    "    children_right = estimator.tree_.children_right\n",
    "\n",
    "    node_depth = np.zeros(shape=n_nodes, dtype=np.int64)\n",
    "    is_leaves = np.zeros(shape=n_nodes, dtype=bool)\n",
    "    stack = [(0, -1)]  # seed is the root node id and its parent depth\n",
    "    while len(stack) > 0:\n",
    "        node_id, parent_depth = stack.pop()\n",
    "        node_depth[node_id] = parent_depth + 1\n",
    "\n",
    "        # If we have a test node\n",
    "        if (children_left[node_id] != children_right[node_id]):\n",
    "            stack.append((children_left[node_id], parent_depth + 1))\n",
    "            stack.append((children_right[node_id], parent_depth + 1))\n",
    "        else:\n",
    "            is_leaves[node_id] = True\n",
    "\n",
    "    print(\"Всего узлов:\", n_nodes)\n",
    "    print(\"Листовых узлов:\", sum(is_leaves))\n",
    "    print(\"Глубина дерева:\", max(node_depth))\n",
    "    print(\"Минимальная глубина листьев дерева:\", min(node_depth[is_leaves]))\n",
    "    print(\"Средняя глубина листьев дерева:\", node_depth[is_leaves].mean())"
   ]
  },
  {
   "cell_type": "code",
   "execution_count": 81,
   "metadata": {},
   "outputs": [
    {
     "name": "stdout",
     "output_type": "stream",
     "text": [
      "Всего узлов: 35\n",
      "Листовых узлов: 18\n",
      "Глубина дерева: 6\n",
      "Минимальная глубина листьев дерева: 2\n",
      "Средняя глубина листьев дерева: 4.666666666666667\n"
     ]
    }
   ],
   "source": [
    "stat_tree(dt_none)"
   ]
  },
  {
   "cell_type": "markdown",
   "metadata": {},
   "source": [
    "## Подбор гиперпараметра $K$"
   ]
  },
  {
   "cell_type": "markdown",
   "metadata": {},
   "source": [
    "### Модель бинарной классификации — LogisticRegression"
   ]
  },
  {
   "cell_type": "markdown",
   "metadata": {},
   "source": [
    "Введем список настраиваемых параметров:"
   ]
  },
  {
   "cell_type": "code",
   "execution_count": 82,
   "metadata": {},
   "outputs": [
    {
     "data": {
      "text/plain": [
       "[{'C': array([1.000e-03, 1.010e-01, 2.010e-01, 3.010e-01, 4.010e-01, 5.010e-01,\n",
       "         6.010e-01, 7.010e-01, 8.010e-01, 9.010e-01, 1.001e+00, 1.101e+00,\n",
       "         1.201e+00, 1.301e+00, 1.401e+00, 1.501e+00, 1.601e+00, 1.701e+00,\n",
       "         1.801e+00, 1.901e+00, 2.001e+00])}]"
      ]
     },
     "execution_count": 82,
     "metadata": {},
     "output_type": "execute_result"
    }
   ],
   "source": [
    "param_range = np.arange(0.001, 2.01, 0.1)\n",
    "tuned_parameters = [{'C': param_range}]\n",
    "tuned_parameters"
   ]
  },
  {
   "cell_type": "markdown",
   "metadata": {},
   "source": [
    "Запустим подбор параметра:"
   ]
  },
  {
   "cell_type": "code",
   "execution_count": 83,
   "metadata": {},
   "outputs": [
    {
     "name": "stderr",
     "output_type": "stream",
     "text": [
      "/home/anybyte/.local/lib/python3.6/site-packages/sklearn/linear_model/logistic.py:432: FutureWarning: Default solver will be changed to 'lbfgs' in 0.22. Specify a solver to silence this warning.\n",
      "  FutureWarning)\n"
     ]
    },
    {
     "data": {
      "text/plain": [
       "LogisticRegression(C=0.101, class_weight=None, dual=False, fit_intercept=True,\n",
       "                   intercept_scaling=1, l1_ratio=None, max_iter=100,\n",
       "                   multi_class='warn', n_jobs=None, penalty='l2',\n",
       "                   random_state=None, solver='warn', tol=0.0001, verbose=0,\n",
       "                   warm_start=False)"
      ]
     },
     "execution_count": 83,
     "metadata": {},
     "output_type": "execute_result"
    }
   ],
   "source": [
    "gs = GridSearchCV(LogisticRegression(), tuned_parameters,\n",
    "                  cv=ShuffleSplit(n_splits=10),\n",
    "                  return_train_score=True, n_jobs=-1)\n",
    "gs.fit(X, y)\n",
    "gs.best_estimator_"
   ]
  },
  {
   "cell_type": "markdown",
   "metadata": {},
   "source": [
    "Проверим результаты при&nbsp;разных значения гиперпараметра на&nbsp;тренировочном наборе данных:"
   ]
  },
  {
   "cell_type": "code",
   "execution_count": 84,
   "metadata": {
    "scrolled": true
   },
   "outputs": [
    {
     "data": {
      "image/png": "[encoded data removed]",
      "text/plain": [
       "<Figure size 432x288 with 1 Axes>"
      ]
     },
     "metadata": {
      "image/png": {
       "height": 250,
       "width": 393
      },
      "needs_background": "light"
     },
     "output_type": "display_data"
    }
   ],
   "source": [
    "plt.plot(param_range, gs.cv_results_[\"mean_train_score\"]);"
   ]
  },
  {
   "cell_type": "markdown",
   "metadata": {},
   "source": [
    "На&nbsp;тестовом наборе данных картина ровно та же:"
   ]
  },
  {
   "cell_type": "code",
   "execution_count": 85,
   "metadata": {},
   "outputs": [
    {
     "data": {
      "image/png": "[encoded data removed]",
      "text/plain": [
       "<Figure size 432x288 with 1 Axes>"
      ]
     },
     "metadata": {
      "image/png": {
       "height": 250,
       "width": 386
      },
      "needs_background": "light"
     },
     "output_type": "display_data"
    }
   ],
   "source": [
    "plt.plot(param_range, gs.cv_results_[\"mean_test_score\"]);"
   ]
  },
  {
   "cell_type": "markdown",
   "metadata": {},
   "source": [
    "### SVM"
   ]
  },
  {
   "cell_type": "markdown",
   "metadata": {},
   "source": [
    "Введем список настраиваемых параметров:"
   ]
  },
  {
   "cell_type": "code",
   "execution_count": 86,
   "metadata": {},
   "outputs": [
    {
     "data": {
      "text/plain": [
       "[{'gamma': array([0.1, 0.2, 0.3, 0.4, 0.5, 0.6, 0.7, 0.8, 0.9, 1. ])}]"
      ]
     },
     "execution_count": 86,
     "metadata": {},
     "output_type": "execute_result"
    }
   ],
   "source": [
    "param_range = np.arange(0.1, 1.01, 0.1)\n",
    "tuned_parameters = [{'gamma': param_range}]\n",
    "tuned_parameters"
   ]
  },
  {
   "cell_type": "markdown",
   "metadata": {},
   "source": [
    "Запустим подбор параметра:"
   ]
  },
  {
   "cell_type": "code",
   "execution_count": 87,
   "metadata": {},
   "outputs": [
    {
     "data": {
      "text/plain": [
       "SVC(C=1.0, cache_size=200, class_weight=None, coef0=0.0,\n",
       "    decision_function_shape='ovr', degree=3, gamma=0.1, kernel='rbf',\n",
       "    max_iter=-1, probability=False, random_state=None, shrinking=True,\n",
       "    tol=0.001, verbose=False)"
      ]
     },
     "execution_count": 87,
     "metadata": {},
     "output_type": "execute_result"
    }
   ],
   "source": [
    "gs = GridSearchCV(SVC(), tuned_parameters,\n",
    "                  cv=ShuffleSplit(n_splits=10),\n",
    "                  return_train_score=True, n_jobs=-1)\n",
    "gs.fit(X, y)\n",
    "gs.best_estimator_"
   ]
  },
  {
   "cell_type": "markdown",
   "metadata": {},
   "source": [
    "Проверим результаты при&nbsp;разных значения гиперпараметра на&nbsp;тренировочном наборе данных:"
   ]
  },
  {
   "cell_type": "code",
   "execution_count": 88,
   "metadata": {},
   "outputs": [
    {
     "data": {
      "image/png": "[encoded data removed]",
      "text/plain": [
       "<Figure size 432x288 with 1 Axes>"
      ]
     },
     "metadata": {
      "image/png": {
       "height": 250,
       "width": 380
      },
      "needs_background": "light"
     },
     "output_type": "display_data"
    }
   ],
   "source": [
    "plt.plot(param_range, gs.cv_results_[\"mean_train_score\"]);"
   ]
  },
  {
   "cell_type": "markdown",
   "metadata": {},
   "source": [
    "Видно, что метод NuSVR справляется лучше, но не глобально. При&nbsp;этом также видно, что разработчики библиотеки scikit-learn провели хорошую работу: получившееся оптимальное значение $\\nu=0{,}5$ является стандартным для&nbsp;данного алгоритма<cite data-cite=\"doc:sklearn\"></cite>."
   ]
  },
  {
   "cell_type": "markdown",
   "metadata": {},
   "source": [
    "На&nbsp;тестовом наборе данных картина ровно та же:"
   ]
  },
  {
   "cell_type": "code",
   "execution_count": 89,
   "metadata": {},
   "outputs": [
    {
     "data": {
      "image/png": "[encoded data removed]",
      "text/plain": [
       "<Figure size 432x288 with 1 Axes>"
      ]
     },
     "metadata": {
      "image/png": {
       "height": 250,
       "width": 380
      },
      "needs_background": "light"
     },
     "output_type": "display_data"
    }
   ],
   "source": [
    "plt.plot(param_range, gs.cv_results_[\"mean_test_score\"]);"
   ]
  },
  {
   "cell_type": "markdown",
   "metadata": {},
   "source": [
    "Так как параметры подобраны те же, то и обучение модели заново производить не&nbsp;будем."
   ]
  },
  {
   "cell_type": "markdown",
   "metadata": {},
   "source": [
    "### Дерево решений"
   ]
  },
  {
   "cell_type": "markdown",
   "metadata": {},
   "source": [
    "Введем список настраиваемых параметров:"
   ]
  },
  {
   "cell_type": "code",
   "execution_count": 90,
   "metadata": {},
   "outputs": [
    {
     "data": {
      "text/plain": [
       "[{'max_depth': array([ 1,  3,  5,  7,  9, 11, 13, 15, 17, 19, 21, 23, 25, 27, 29, 31, 33,\n",
       "         35, 37, 39, 41, 43, 45, 47, 49])}]"
      ]
     },
     "execution_count": 90,
     "metadata": {},
     "output_type": "execute_result"
    }
   ],
   "source": [
    "param_range = np.arange(1, 51, 2)\n",
    "tuned_parameters = [{'max_depth': param_range}]\n",
    "tuned_parameters"
   ]
  },
  {
   "cell_type": "markdown",
   "metadata": {},
   "source": [
    "Запустим подбор параметра:"
   ]
  },
  {
   "cell_type": "code",
   "execution_count": 91,
   "metadata": {},
   "outputs": [
    {
     "data": {
      "text/plain": [
       "DecisionTreeRegressor(criterion='mse', max_depth=3, max_features=None,\n",
       "                      max_leaf_nodes=None, min_impurity_decrease=0.0,\n",
       "                      min_impurity_split=None, min_samples_leaf=1,\n",
       "                      min_samples_split=2, min_weight_fraction_leaf=0.0,\n",
       "                      presort=False, random_state=None, splitter='best')"
      ]
     },
     "execution_count": 91,
     "metadata": {},
     "output_type": "execute_result"
    }
   ],
   "source": [
    "gs = GridSearchCV(DecisionTreeRegressor(), tuned_parameters,\n",
    "                  cv=ShuffleSplit(n_splits=10), scoring=\"r2\",\n",
    "                  return_train_score=True, n_jobs=-1)\n",
    "gs.fit(X, y)\n",
    "gs.best_estimator_"
   ]
  },
  {
   "cell_type": "markdown",
   "metadata": {},
   "source": [
    "Проверим результаты при&nbsp;разных значения гиперпараметра на&nbsp;тренировочном наборе данных:"
   ]
  },
  {
   "cell_type": "code",
   "execution_count": 92,
   "metadata": {},
   "outputs": [
    {
     "data": {
      "image/png": "[encoded data removed]",
      "text/plain": [
       "<Figure size 432x288 with 1 Axes>"
      ]
     },
     "metadata": {
      "image/png": {
       "height": 250,
       "width": 373
      },
      "needs_background": "light"
     },
     "output_type": "display_data"
    }
   ],
   "source": [
    "plt.plot(param_range, gs.cv_results_[\"mean_train_score\"]);"
   ]
  },
  {
   "cell_type": "markdown",
   "metadata": {},
   "source": [
    "Видно, что на&nbsp;тестовой выборке модель легко переобучается."
   ]
  },
  {
   "cell_type": "markdown",
   "metadata": {},
   "source": [
    "На&nbsp;тестовом наборе данных картина интереснее:"
   ]
  },
  {
   "cell_type": "code",
   "execution_count": 93,
   "metadata": {},
   "outputs": [
    {
     "data": {
      "image/png": "[encoded data removed]",
      "text/plain": [
       "<Figure size 432x288 with 1 Axes>"
      ]
     },
     "metadata": {
      "image/png": {
       "height": 250,
       "width": 380
      },
      "needs_background": "light"
     },
     "output_type": "display_data"
    }
   ],
   "source": [
    "plt.plot(param_range, gs.cv_results_[\"mean_test_score\"]);"
   ]
  },
  {
   "cell_type": "markdown",
   "metadata": {},
   "source": [
    "Проведем дополнительное исследование в&nbsp;районе пика."
   ]
  },
  {
   "cell_type": "code",
   "execution_count": 94,
   "metadata": {},
   "outputs": [
    {
     "data": {
      "text/plain": [
       "[{'max_depth': array([ 7,  8,  9, 10, 11, 12, 13])}]"
      ]
     },
     "execution_count": 94,
     "metadata": {},
     "output_type": "execute_result"
    }
   ],
   "source": [
    "param_range = np.arange(7, 14, 1)\n",
    "tuned_parameters = [{'max_depth': param_range}]\n",
    "tuned_parameters"
   ]
  },
  {
   "cell_type": "code",
   "execution_count": 95,
   "metadata": {},
   "outputs": [
    {
     "data": {
      "text/plain": [
       "DecisionTreeRegressor(criterion='mse', max_depth=7, max_features=None,\n",
       "                      max_leaf_nodes=None, min_impurity_decrease=0.0,\n",
       "                      min_impurity_split=None, min_samples_leaf=1,\n",
       "                      min_samples_split=2, min_weight_fraction_leaf=0.0,\n",
       "                      presort=False, random_state=None, splitter='best')"
      ]
     },
     "execution_count": 95,
     "metadata": {},
     "output_type": "execute_result"
    }
   ],
   "source": [
    "gs = GridSearchCV(DecisionTreeRegressor(), tuned_parameters,\n",
    "                  cv=ShuffleSplit(n_splits=10), scoring=\"r2\",\n",
    "                  return_train_score=True, n_jobs=-1)\n",
    "gs.fit(X, y)\n",
    "gs.best_estimator_"
   ]
  },
  {
   "cell_type": "code",
   "execution_count": 96,
   "metadata": {},
   "outputs": [
    {
     "data": {
      "image/png": "[encoded data removed]",
      "text/plain": [
       "<Figure size 432x288 with 1 Axes>"
      ]
     },
     "metadata": {
      "image/png": {
       "height": 250,
       "width": 388
      },
      "needs_background": "light"
     },
     "output_type": "display_data"
    }
   ],
   "source": [
    "plt.plot(param_range, gs.cv_results_[\"mean_test_score\"]);"
   ]
  },
  {
   "cell_type": "markdown",
   "metadata": {},
   "source": [
    "Получили, что глубину дерева необходимо ограничить 10&nbsp;уровнями. Проверим этот результат."
   ]
  },
  {
   "cell_type": "code",
   "execution_count": 97,
   "metadata": {},
   "outputs": [
    {
     "name": "stdout",
     "output_type": "stream",
     "text": [
      "mean_absolute_error: 0.26973684210526316\n",
      "median_absolute_error: 0.0\n",
      "accuracy: 0.7302631578947368\n",
      "balanced_accuracy: 0.7286558859328812\n"
     ]
    }
   ],
   "source": [
    "reg = gs.best_estimator_\n",
    "reg.fit(X_train, y_train)\n",
    "test_model(reg)"
   ]
  },
  {
   "cell_type": "code",
   "execution_count": 98,
   "metadata": {},
   "outputs": [
    {
     "data": {
      "text/plain": [
       "array([[ 0.62133012, -1.46841752, -0.93851463, ..., -0.64911323,\n",
       "         1.24459328,  1.12302895],\n",
       "       [-1.47415758,  0.68100522,  1.00257707, ..., -0.64911323,\n",
       "        -0.71442887, -0.51292188],\n",
       "       [ 0.18017482,  0.68100522, -0.93851463, ..., -0.64911323,\n",
       "         0.26508221, -2.14887271],\n",
       "       ...,\n",
       "       [-2.7976235 ,  0.68100522,  0.03203122, ...,  0.97635214,\n",
       "        -0.71442887, -0.51292188],\n",
       "       [-0.37126932,  0.68100522, -0.93851463, ...,  0.97635214,\n",
       "        -0.71442887,  1.12302895],\n",
       "       [-0.04040284,  0.68100522,  1.00257707, ...,  0.97635214,\n",
       "        -0.71442887,  1.12302895]])"
      ]
     },
     "execution_count": 98,
     "metadata": {},
     "output_type": "execute_result"
    }
   ],
   "source": [
    "X_train"
   ]
  },
  {
   "cell_type": "markdown",
   "metadata": {},
   "source": [
    "Вновь посмотрим статистику получившегося дерева решений."
   ]
  },
  {
   "cell_type": "code",
   "execution_count": 99,
   "metadata": {},
   "outputs": [
    {
     "name": "stdout",
     "output_type": "stream",
     "text": [
      "Всего узлов: 37\n",
      "Листовых узлов: 19\n",
      "Глубина дерева: 7\n",
      "Минимальная глубина листьев дерева: 2\n",
      "Средняя глубина листьев дерева: 4.842105263157895\n"
     ]
    }
   ],
   "source": [
    "stat_tree(reg)"
   ]
  },
  {
   "cell_type": "markdown",
   "metadata": {},
   "source": [
    "В&nbsp;целом получили примерно тот же результат. Коэффициент детерминации оказался немного выше, тогда как абсолютные ошибки также стали немного выше. Видно, что дерево решений достигло своего предела. При&nbsp;этом весьма поразительно, насколько хорошо данный метод решил задачу регрессии. Посмотрим на&nbsp;построенное дерево."
   ]
  },
  {
   "cell_type": "code",
   "execution_count": 100,
   "metadata": {},
   "outputs": [
    {
     "data": {
      "image/png": "[encoded data removed]",
      "text/plain": [
       "<Figure size 432x288 with 1 Axes>"
      ]
     },
     "metadata": {
      "image/png": {
       "height": 252,
       "width": 380
      },
      "needs_background": "light"
     },
     "output_type": "display_data"
    }
   ],
   "source": [
    "plot_tree(reg, filled=True);"
   ]
  },
  {
   "cell_type": "markdown",
   "metadata": {},
   "source": [
    "Вывод функции `plot_tree` выглядит весьма странно. Видимо, для&nbsp;настолько больших деревьев решений она не&nbsp;предназначена. Возможно, это со&nbsp;временем будет исправлено, так как эту функциональность только недавно добавили."
   ]
  },
  {
   "cell_type": "code",
   "execution_count": 101,
   "metadata": {},
   "outputs": [
    {
     "data": {
      "image/svg+xml": [
       "<?xml version=\"1.0\" encoding=\"UTF-8\" standalone=\"no\"?>\n",
       "<!DOCTYPE svg PUBLIC \"-//W3C//DTD SVG 1.1//EN\"\n",
       " \"http://www.w3.org/Graphics/SVG/1.1/DTD/svg11.dtd\">\n",
       "<!-- Generated by graphviz version 2.38.0 (20140413.2041)\n",
       " -->\n",
       "<!-- Title: Tree Pages: 1 -->\n",
       "<svg width=\"1237pt\" height=\"789pt\"\n",
       " viewBox=\"0.00 0.00 1237.00 789.00\" xmlns=\"http://www.w3.org/2000/svg\" xmlns:xlink=\"http://www.w3.org/1999/xlink\">\n",
       "<g id=\"graph0\" class=\"graph\" transform=\"scale(1 1) rotate(0) translate(4 785)\">\n",
       "<title>Tree</title>\n",
       "<polygon fill=\"white\" stroke=\"none\" points=\"-4,4 -4,-785 1233,-785 1233,4 -4,4\"/>\n",
       "<!-- 0 -->\n",
       "<g id=\"node1\" class=\"node\"><title>0</title>\n",
       "<path fill=\"#f1b991\" stroke=\"black\" d=\"M863.5,-781C863.5,-781 767.5,-781 767.5,-781 761.5,-781 755.5,-775 755.5,-769 755.5,-769 755.5,-725 755.5,-725 755.5,-719 761.5,-713 767.5,-713 767.5,-713 863.5,-713 863.5,-713 869.5,-713 875.5,-719 875.5,-725 875.5,-725 875.5,-769 875.5,-769 875.5,-775 869.5,-781 863.5,-781\"/>\n",
       "<text text-anchor=\"start\" x=\"763.5\" y=\"-765.8\" font-family=\"Helvetica,sans-Serif\" font-size=\"14.00\">exang ≤ 0.369</text>\n",
       "<text text-anchor=\"start\" x=\"770.5\" y=\"-750.8\" font-family=\"Helvetica,sans-Serif\" font-size=\"14.00\">mse = 0.247</text>\n",
       "<text text-anchor=\"start\" x=\"764\" y=\"-735.8\" font-family=\"Helvetica,sans-Serif\" font-size=\"14.00\">samples = 151</text>\n",
       "<text text-anchor=\"start\" x=\"765.5\" y=\"-720.8\" font-family=\"Helvetica,sans-Serif\" font-size=\"14.00\">value = 0.556</text>\n",
       "</g>\n",
       "<!-- 1 -->\n",
       "<g id=\"node2\" class=\"node\"><title>1</title>\n",
       "<path fill=\"#eca16b\" stroke=\"black\" d=\"M793,-677C793,-677 698,-677 698,-677 692,-677 686,-671 686,-665 686,-665 686,-621 686,-621 686,-615 692,-609 698,-609 698,-609 793,-609 793,-609 799,-609 805,-615 805,-621 805,-621 805,-665 805,-665 805,-671 799,-677 793,-677\"/>\n",
       "<text text-anchor=\"start\" x=\"704.5\" y=\"-661.8\" font-family=\"Helvetica,sans-Serif\" font-size=\"14.00\">ca ≤ &#45;0.225</text>\n",
       "<text text-anchor=\"start\" x=\"705\" y=\"-646.8\" font-family=\"Helvetica,sans-Serif\" font-size=\"14.00\">mse = 0.19</text>\n",
       "<text text-anchor=\"start\" x=\"694\" y=\"-631.8\" font-family=\"Helvetica,sans-Serif\" font-size=\"14.00\">samples = 106</text>\n",
       "<text text-anchor=\"start\" x=\"695.5\" y=\"-616.8\" font-family=\"Helvetica,sans-Serif\" font-size=\"14.00\">value = 0.745</text>\n",
       "</g>\n",
       "<!-- 0&#45;&gt;1 -->\n",
       "<g id=\"edge1\" class=\"edge\"><title>0&#45;&gt;1</title>\n",
       "<path fill=\"none\" stroke=\"black\" d=\"M792.773,-712.884C786.843,-704.243 780.376,-694.819 774.181,-685.793\"/>\n",
       "<polygon fill=\"black\" stroke=\"black\" points=\"776.897,-683.564 768.353,-677.299 771.125,-687.525 776.897,-683.564\"/>\n",
       "<text text-anchor=\"middle\" x=\"763.78\" y=\"-698.178\" font-family=\"Helvetica,sans-Serif\" font-size=\"14.00\">True</text>\n",
       "</g>\n",
       "<!-- 32 -->\n",
       "<g id=\"node33\" class=\"node\"><title>32</title>\n",
       "<path fill=\"#fcf1e9\" stroke=\"black\" d=\"M932.5,-677C932.5,-677 840.5,-677 840.5,-677 834.5,-677 828.5,-671 828.5,-665 828.5,-665 828.5,-621 828.5,-621 828.5,-615 834.5,-609 840.5,-609 840.5,-609 932.5,-609 932.5,-609 938.5,-609 944.5,-615 944.5,-621 944.5,-621 944.5,-665 944.5,-665 944.5,-671 938.5,-677 932.5,-677\"/>\n",
       "<text text-anchor=\"start\" x=\"845.5\" y=\"-661.8\" font-family=\"Helvetica,sans-Serif\" font-size=\"14.00\">cp ≤ &#45;0.453</text>\n",
       "<text text-anchor=\"start\" x=\"841.5\" y=\"-646.8\" font-family=\"Helvetica,sans-Serif\" font-size=\"14.00\">mse = 0.099</text>\n",
       "<text text-anchor=\"start\" x=\"839.5\" y=\"-631.8\" font-family=\"Helvetica,sans-Serif\" font-size=\"14.00\">samples = 45</text>\n",
       "<text text-anchor=\"start\" x=\"836.5\" y=\"-616.8\" font-family=\"Helvetica,sans-Serif\" font-size=\"14.00\">value = 0.111</text>\n",
       "</g>\n",
       "<!-- 0&#45;&gt;32 -->\n",
       "<g id=\"edge32\" class=\"edge\"><title>0&#45;&gt;32</title>\n",
       "<path fill=\"none\" stroke=\"black\" d=\"M838.552,-712.884C844.628,-704.154 851.261,-694.625 857.603,-685.514\"/>\n",
       "<polygon fill=\"black\" stroke=\"black\" points=\"860.481,-687.506 863.321,-677.299 854.735,-683.507 860.481,-687.506\"/>\n",
       "<text text-anchor=\"middle\" x=\"867.731\" y=\"-698.207\" font-family=\"Helvetica,sans-Serif\" font-size=\"14.00\">False</text>\n",
       "</g>\n",
       "<!-- 2 -->\n",
       "<g id=\"node3\" class=\"node\"><title>2</title>\n",
       "<path fill=\"#e78d4c\" stroke=\"black\" d=\"M433,-573C433,-573 328,-573 328,-573 322,-573 316,-567 316,-561 316,-561 316,-517 316,-517 316,-511 322,-505 328,-505 328,-505 433,-505 433,-505 439,-505 445,-511 445,-517 445,-517 445,-561 445,-561 445,-567 439,-573 433,-573\"/>\n",
       "<text text-anchor=\"start\" x=\"324\" y=\"-557.8\" font-family=\"Helvetica,sans-Serif\" font-size=\"14.00\">thalach ≤ 0.125</text>\n",
       "<text text-anchor=\"start\" x=\"335.5\" y=\"-542.8\" font-family=\"Helvetica,sans-Serif\" font-size=\"14.00\">mse = 0.087</text>\n",
       "<text text-anchor=\"start\" x=\"333.5\" y=\"-527.8\" font-family=\"Helvetica,sans-Serif\" font-size=\"14.00\">samples = 73</text>\n",
       "<text text-anchor=\"start\" x=\"330.5\" y=\"-512.8\" font-family=\"Helvetica,sans-Serif\" font-size=\"14.00\">value = 0.904</text>\n",
       "</g>\n",
       "<!-- 1&#45;&gt;2 -->\n",
       "<g id=\"edge2\" class=\"edge\"><title>1&#45;&gt;2</title>\n",
       "<path fill=\"none\" stroke=\"black\" d=\"M685.636,-625.271C622.506,-607.629 522.936,-579.804 454.823,-560.77\"/>\n",
       "<polygon fill=\"black\" stroke=\"black\" points=\"455.583,-557.348 445.01,-558.027 453.699,-564.09 455.583,-557.348\"/>\n",
       "</g>\n",
       "<!-- 15 -->\n",
       "<g id=\"node16\" class=\"node\"><title>15</title>\n",
       "<path fill=\"#f5cdb1\" stroke=\"black\" d=\"M791.5,-573C791.5,-573 699.5,-573 699.5,-573 693.5,-573 687.5,-567 687.5,-561 687.5,-561 687.5,-517 687.5,-517 687.5,-511 693.5,-505 699.5,-505 699.5,-505 791.5,-505 791.5,-505 797.5,-505 803.5,-511 803.5,-517 803.5,-517 803.5,-561 803.5,-561 803.5,-567 797.5,-573 791.5,-573\"/>\n",
       "<text text-anchor=\"start\" x=\"704.5\" y=\"-557.8\" font-family=\"Helvetica,sans-Serif\" font-size=\"14.00\">cp ≤ &#45;0.453</text>\n",
       "<text text-anchor=\"start\" x=\"700.5\" y=\"-542.8\" font-family=\"Helvetica,sans-Serif\" font-size=\"14.00\">mse = 0.239</text>\n",
       "<text text-anchor=\"start\" x=\"698.5\" y=\"-527.8\" font-family=\"Helvetica,sans-Serif\" font-size=\"14.00\">samples = 33</text>\n",
       "<text text-anchor=\"start\" x=\"695.5\" y=\"-512.8\" font-family=\"Helvetica,sans-Serif\" font-size=\"14.00\">value = 0.394</text>\n",
       "</g>\n",
       "<!-- 1&#45;&gt;15 -->\n",
       "<g id=\"edge15\" class=\"edge\"><title>1&#45;&gt;15</title>\n",
       "<path fill=\"none\" stroke=\"black\" d=\"M745.5,-608.884C745.5,-600.778 745.5,-591.982 745.5,-583.472\"/>\n",
       "<polygon fill=\"black\" stroke=\"black\" points=\"749,-583.299 745.5,-573.299 742,-583.299 749,-583.299\"/>\n",
       "</g>\n",
       "<!-- 3 -->\n",
       "<g id=\"node4\" class=\"node\"><title>3</title>\n",
       "<path fill=\"#eead7f\" stroke=\"black\" d=\"M223.5,-469C223.5,-469 131.5,-469 131.5,-469 125.5,-469 119.5,-463 119.5,-457 119.5,-457 119.5,-413 119.5,-413 119.5,-407 125.5,-401 131.5,-401 131.5,-401 223.5,-401 223.5,-401 229.5,-401 235.5,-407 235.5,-413 235.5,-413 235.5,-457 235.5,-457 235.5,-463 229.5,-469 223.5,-469\"/>\n",
       "<text text-anchor=\"start\" x=\"132\" y=\"-453.8\" font-family=\"Helvetica,sans-Serif\" font-size=\"14.00\">sex ≤ &#45;0.394</text>\n",
       "<text text-anchor=\"start\" x=\"132.5\" y=\"-438.8\" font-family=\"Helvetica,sans-Serif\" font-size=\"14.00\">mse = 0.228</text>\n",
       "<text text-anchor=\"start\" x=\"130.5\" y=\"-423.8\" font-family=\"Helvetica,sans-Serif\" font-size=\"14.00\">samples = 17</text>\n",
       "<text text-anchor=\"start\" x=\"127.5\" y=\"-408.8\" font-family=\"Helvetica,sans-Serif\" font-size=\"14.00\">value = 0.647</text>\n",
       "</g>\n",
       "<!-- 2&#45;&gt;3 -->\n",
       "<g id=\"edge3\" class=\"edge\"><title>2&#45;&gt;3</title>\n",
       "<path fill=\"none\" stroke=\"black\" d=\"M315.991,-505.586C293.238,-494.154 267.611,-481.278 244.646,-469.738\"/>\n",
       "<polygon fill=\"black\" stroke=\"black\" points=\"246.16,-466.582 235.654,-465.22 243.018,-472.837 246.16,-466.582\"/>\n",
       "</g>\n",
       "<!-- 10 -->\n",
       "<g id=\"node11\" class=\"node\"><title>10</title>\n",
       "<path fill=\"#e5833d\" stroke=\"black\" d=\"M426.5,-469C426.5,-469 334.5,-469 334.5,-469 328.5,-469 322.5,-463 322.5,-457 322.5,-457 322.5,-413 322.5,-413 322.5,-407 328.5,-401 334.5,-401 334.5,-401 426.5,-401 426.5,-401 432.5,-401 438.5,-407 438.5,-413 438.5,-413 438.5,-457 438.5,-457 438.5,-463 432.5,-469 426.5,-469\"/>\n",
       "<text text-anchor=\"start\" x=\"337\" y=\"-453.8\" font-family=\"Helvetica,sans-Serif\" font-size=\"14.00\">age ≤ 1.007</text>\n",
       "<text text-anchor=\"start\" x=\"335.5\" y=\"-438.8\" font-family=\"Helvetica,sans-Serif\" font-size=\"14.00\">mse = 0.018</text>\n",
       "<text text-anchor=\"start\" x=\"333.5\" y=\"-423.8\" font-family=\"Helvetica,sans-Serif\" font-size=\"14.00\">samples = 56</text>\n",
       "<text text-anchor=\"start\" x=\"330.5\" y=\"-408.8\" font-family=\"Helvetica,sans-Serif\" font-size=\"14.00\">value = 0.982</text>\n",
       "</g>\n",
       "<!-- 2&#45;&gt;10 -->\n",
       "<g id=\"edge10\" class=\"edge\"><title>2&#45;&gt;10</title>\n",
       "<path fill=\"none\" stroke=\"black\" d=\"M380.5,-504.884C380.5,-496.778 380.5,-487.982 380.5,-479.472\"/>\n",
       "<polygon fill=\"black\" stroke=\"black\" points=\"384,-479.299 380.5,-469.299 377,-479.299 384,-479.299\"/>\n",
       "</g>\n",
       "<!-- 4 -->\n",
       "<g id=\"node5\" class=\"node\"><title>4</title>\n",
       "<path fill=\"#e58139\" stroke=\"black\" d=\"M89,-357.5C89,-357.5 12,-357.5 12,-357.5 6,-357.5 0,-351.5 0,-345.5 0,-345.5 0,-316.5 0,-316.5 0,-310.5 6,-304.5 12,-304.5 12,-304.5 89,-304.5 89,-304.5 95,-304.5 101,-310.5 101,-316.5 101,-316.5 101,-345.5 101,-345.5 101,-351.5 95,-357.5 89,-357.5\"/>\n",
       "<text text-anchor=\"start\" x=\"14.5\" y=\"-342.3\" font-family=\"Helvetica,sans-Serif\" font-size=\"14.00\">mse = 0.0</text>\n",
       "<text text-anchor=\"start\" x=\"8\" y=\"-327.3\" font-family=\"Helvetica,sans-Serif\" font-size=\"14.00\">samples = 8</text>\n",
       "<text text-anchor=\"start\" x=\"9.5\" y=\"-312.3\" font-family=\"Helvetica,sans-Serif\" font-size=\"14.00\">value = 1.0</text>\n",
       "</g>\n",
       "<!-- 3&#45;&gt;4 -->\n",
       "<g id=\"edge4\" class=\"edge\"><title>3&#45;&gt;4</title>\n",
       "<path fill=\"none\" stroke=\"black\" d=\"M136.267,-400.884C121.478,-389.006 104.844,-375.646 90.1887,-363.876\"/>\n",
       "<polygon fill=\"black\" stroke=\"black\" points=\"92.2632,-361.053 82.2748,-357.52 87.8799,-366.511 92.2632,-361.053\"/>\n",
       "</g>\n",
       "<!-- 5 -->\n",
       "<g id=\"node6\" class=\"node\"><title>5</title>\n",
       "<path fill=\"#f6d5bd\" stroke=\"black\" d=\"M223.5,-365C223.5,-365 131.5,-365 131.5,-365 125.5,-365 119.5,-359 119.5,-353 119.5,-353 119.5,-309 119.5,-309 119.5,-303 125.5,-297 131.5,-297 131.5,-297 223.5,-297 223.5,-297 229.5,-297 235.5,-303 235.5,-309 235.5,-309 235.5,-353 235.5,-353 235.5,-359 229.5,-365 223.5,-365\"/>\n",
       "<text text-anchor=\"start\" x=\"130\" y=\"-349.8\" font-family=\"Helvetica,sans-Serif\" font-size=\"14.00\">chol ≤ &#45;0.672</text>\n",
       "<text text-anchor=\"start\" x=\"132.5\" y=\"-334.8\" font-family=\"Helvetica,sans-Serif\" font-size=\"14.00\">mse = 0.222</text>\n",
       "<text text-anchor=\"start\" x=\"135\" y=\"-319.8\" font-family=\"Helvetica,sans-Serif\" font-size=\"14.00\">samples = 9</text>\n",
       "<text text-anchor=\"start\" x=\"127.5\" y=\"-304.8\" font-family=\"Helvetica,sans-Serif\" font-size=\"14.00\">value = 0.333</text>\n",
       "</g>\n",
       "<!-- 3&#45;&gt;5 -->\n",
       "<g id=\"edge5\" class=\"edge\"><title>3&#45;&gt;5</title>\n",
       "<path fill=\"none\" stroke=\"black\" d=\"M177.5,-400.884C177.5,-392.778 177.5,-383.982 177.5,-375.472\"/>\n",
       "<polygon fill=\"black\" stroke=\"black\" points=\"181,-375.299 177.5,-365.299 174,-375.299 181,-375.299\"/>\n",
       "</g>\n",
       "<!-- 6 -->\n",
       "<g id=\"node7\" class=\"node\"><title>6</title>\n",
       "<path fill=\"#e58139\" stroke=\"black\" d=\"M101,-253.5C101,-253.5 24,-253.5 24,-253.5 18,-253.5 12,-247.5 12,-241.5 12,-241.5 12,-212.5 12,-212.5 12,-206.5 18,-200.5 24,-200.5 24,-200.5 101,-200.5 101,-200.5 107,-200.5 113,-206.5 113,-212.5 113,-212.5 113,-241.5 113,-241.5 113,-247.5 107,-253.5 101,-253.5\"/>\n",
       "<text text-anchor=\"start\" x=\"26.5\" y=\"-238.3\" font-family=\"Helvetica,sans-Serif\" font-size=\"14.00\">mse = 0.0</text>\n",
       "<text text-anchor=\"start\" x=\"20\" y=\"-223.3\" font-family=\"Helvetica,sans-Serif\" font-size=\"14.00\">samples = 2</text>\n",
       "<text text-anchor=\"start\" x=\"21.5\" y=\"-208.3\" font-family=\"Helvetica,sans-Serif\" font-size=\"14.00\">value = 1.0</text>\n",
       "</g>\n",
       "<!-- 5&#45;&gt;6 -->\n",
       "<g id=\"edge6\" class=\"edge\"><title>5&#45;&gt;6</title>\n",
       "<path fill=\"none\" stroke=\"black\" d=\"M140.163,-296.884C126.895,-285.116 111.988,-271.894 98.8077,-260.203\"/>\n",
       "<polygon fill=\"black\" stroke=\"black\" points=\"101.076,-257.537 91.2725,-253.52 96.4313,-262.774 101.076,-257.537\"/>\n",
       "</g>\n",
       "<!-- 7 -->\n",
       "<g id=\"node8\" class=\"node\"><title>7</title>\n",
       "<path fill=\"#fbede3\" stroke=\"black\" d=\"M235.5,-261C235.5,-261 143.5,-261 143.5,-261 137.5,-261 131.5,-255 131.5,-249 131.5,-249 131.5,-205 131.5,-205 131.5,-199 137.5,-193 143.5,-193 143.5,-193 235.5,-193 235.5,-193 241.5,-193 247.5,-199 247.5,-205 247.5,-205 247.5,-249 247.5,-249 247.5,-255 241.5,-261 235.5,-261\"/>\n",
       "<text text-anchor=\"start\" x=\"146\" y=\"-245.8\" font-family=\"Helvetica,sans-Serif\" font-size=\"14.00\">age ≤ 1.559</text>\n",
       "<text text-anchor=\"start\" x=\"144.5\" y=\"-230.8\" font-family=\"Helvetica,sans-Serif\" font-size=\"14.00\">mse = 0.122</text>\n",
       "<text text-anchor=\"start\" x=\"147\" y=\"-215.8\" font-family=\"Helvetica,sans-Serif\" font-size=\"14.00\">samples = 7</text>\n",
       "<text text-anchor=\"start\" x=\"139.5\" y=\"-200.8\" font-family=\"Helvetica,sans-Serif\" font-size=\"14.00\">value = 0.143</text>\n",
       "</g>\n",
       "<!-- 5&#45;&gt;7 -->\n",
       "<g id=\"edge7\" class=\"edge\"><title>5&#45;&gt;7</title>\n",
       "<path fill=\"none\" stroke=\"black\" d=\"M181.396,-296.884C182.35,-288.778 183.384,-279.982 184.386,-271.472\"/>\n",
       "<polygon fill=\"black\" stroke=\"black\" points=\"187.89,-271.64 185.582,-261.299 180.938,-270.822 187.89,-271.64\"/>\n",
       "</g>\n",
       "<!-- 8 -->\n",
       "<g id=\"node9\" class=\"node\"><title>8</title>\n",
       "<path fill=\"#ffffff\" stroke=\"black\" d=\"M169,-149.5C169,-149.5 92,-149.5 92,-149.5 86,-149.5 80,-143.5 80,-137.5 80,-137.5 80,-108.5 80,-108.5 80,-102.5 86,-96.5 92,-96.5 92,-96.5 169,-96.5 169,-96.5 175,-96.5 181,-102.5 181,-108.5 181,-108.5 181,-137.5 181,-137.5 181,-143.5 175,-149.5 169,-149.5\"/>\n",
       "<text text-anchor=\"start\" x=\"94.5\" y=\"-134.3\" font-family=\"Helvetica,sans-Serif\" font-size=\"14.00\">mse = 0.0</text>\n",
       "<text text-anchor=\"start\" x=\"88\" y=\"-119.3\" font-family=\"Helvetica,sans-Serif\" font-size=\"14.00\">samples = 6</text>\n",
       "<text text-anchor=\"start\" x=\"89.5\" y=\"-104.3\" font-family=\"Helvetica,sans-Serif\" font-size=\"14.00\">value = 0.0</text>\n",
       "</g>\n",
       "<!-- 7&#45;&gt;8 -->\n",
       "<g id=\"edge8\" class=\"edge\"><title>7&#45;&gt;8</title>\n",
       "<path fill=\"none\" stroke=\"black\" d=\"M170.344,-192.884C163.919,-181.776 156.745,-169.372 150.273,-158.184\"/>\n",
       "<polygon fill=\"black\" stroke=\"black\" points=\"153.298,-156.424 145.262,-149.52 147.239,-159.929 153.298,-156.424\"/>\n",
       "</g>\n",
       "<!-- 9 -->\n",
       "<g id=\"node10\" class=\"node\"><title>9</title>\n",
       "<path fill=\"#e58139\" stroke=\"black\" d=\"M288,-149.5C288,-149.5 211,-149.5 211,-149.5 205,-149.5 199,-143.5 199,-137.5 199,-137.5 199,-108.5 199,-108.5 199,-102.5 205,-96.5 211,-96.5 211,-96.5 288,-96.5 288,-96.5 294,-96.5 300,-102.5 300,-108.5 300,-108.5 300,-137.5 300,-137.5 300,-143.5 294,-149.5 288,-149.5\"/>\n",
       "<text text-anchor=\"start\" x=\"213.5\" y=\"-134.3\" font-family=\"Helvetica,sans-Serif\" font-size=\"14.00\">mse = 0.0</text>\n",
       "<text text-anchor=\"start\" x=\"207\" y=\"-119.3\" font-family=\"Helvetica,sans-Serif\" font-size=\"14.00\">samples = 1</text>\n",
       "<text text-anchor=\"start\" x=\"208.5\" y=\"-104.3\" font-family=\"Helvetica,sans-Serif\" font-size=\"14.00\">value = 1.0</text>\n",
       "</g>\n",
       "<!-- 7&#45;&gt;9 -->\n",
       "<g id=\"edge9\" class=\"edge\"><title>7&#45;&gt;9</title>\n",
       "<path fill=\"none\" stroke=\"black\" d=\"M208.98,-192.884C215.514,-181.776 222.811,-169.372 229.392,-158.184\"/>\n",
       "<polygon fill=\"black\" stroke=\"black\" points=\"232.435,-159.914 234.488,-149.52 226.401,-156.365 232.435,-159.914\"/>\n",
       "</g>\n",
       "<!-- 11 -->\n",
       "<g id=\"node12\" class=\"node\"><title>11</title>\n",
       "<path fill=\"#e58139\" stroke=\"black\" d=\"M351.5,-357.5C351.5,-357.5 265.5,-357.5 265.5,-357.5 259.5,-357.5 253.5,-351.5 253.5,-345.5 253.5,-345.5 253.5,-316.5 253.5,-316.5 253.5,-310.5 259.5,-304.5 265.5,-304.5 265.5,-304.5 351.5,-304.5 351.5,-304.5 357.5,-304.5 363.5,-310.5 363.5,-316.5 363.5,-316.5 363.5,-345.5 363.5,-345.5 363.5,-351.5 357.5,-357.5 351.5,-357.5\"/>\n",
       "<text text-anchor=\"start\" x=\"272.5\" y=\"-342.3\" font-family=\"Helvetica,sans-Serif\" font-size=\"14.00\">mse = 0.0</text>\n",
       "<text text-anchor=\"start\" x=\"261.5\" y=\"-327.3\" font-family=\"Helvetica,sans-Serif\" font-size=\"14.00\">samples = 54</text>\n",
       "<text text-anchor=\"start\" x=\"267.5\" y=\"-312.3\" font-family=\"Helvetica,sans-Serif\" font-size=\"14.00\">value = 1.0</text>\n",
       "</g>\n",
       "<!-- 10&#45;&gt;11 -->\n",
       "<g id=\"edge11\" class=\"edge\"><title>10&#45;&gt;11</title>\n",
       "<path fill=\"none\" stroke=\"black\" d=\"M357.124,-400.884C349.205,-389.666 340.354,-377.126 332.395,-365.852\"/>\n",
       "<polygon fill=\"black\" stroke=\"black\" points=\"335.14,-363.671 326.514,-357.52 329.422,-367.708 335.14,-363.671\"/>\n",
       "</g>\n",
       "<!-- 12 -->\n",
       "<g id=\"node13\" class=\"node\"><title>12</title>\n",
       "<path fill=\"#f2c09c\" stroke=\"black\" d=\"M503.5,-365C503.5,-365 393.5,-365 393.5,-365 387.5,-365 381.5,-359 381.5,-353 381.5,-353 381.5,-309 381.5,-309 381.5,-303 387.5,-297 393.5,-297 393.5,-297 503.5,-297 503.5,-297 509.5,-297 515.5,-303 515.5,-309 515.5,-309 515.5,-353 515.5,-353 515.5,-359 509.5,-365 503.5,-365\"/>\n",
       "<text text-anchor=\"start\" x=\"389.5\" y=\"-349.8\" font-family=\"Helvetica,sans-Serif\" font-size=\"14.00\">trestbps ≤ 1.335</text>\n",
       "<text text-anchor=\"start\" x=\"408\" y=\"-334.8\" font-family=\"Helvetica,sans-Serif\" font-size=\"14.00\">mse = 0.25</text>\n",
       "<text text-anchor=\"start\" x=\"406\" y=\"-319.8\" font-family=\"Helvetica,sans-Serif\" font-size=\"14.00\">samples = 2</text>\n",
       "<text text-anchor=\"start\" x=\"407.5\" y=\"-304.8\" font-family=\"Helvetica,sans-Serif\" font-size=\"14.00\">value = 0.5</text>\n",
       "</g>\n",
       "<!-- 10&#45;&gt;12 -->\n",
       "<g id=\"edge12\" class=\"edge\"><title>10&#45;&gt;12</title>\n",
       "<path fill=\"none\" stroke=\"black\" d=\"M402.578,-400.884C408.338,-392.243 414.621,-382.819 420.638,-373.793\"/>\n",
       "<polygon fill=\"black\" stroke=\"black\" points=\"423.666,-375.561 426.3,-365.299 417.841,-371.678 423.666,-375.561\"/>\n",
       "</g>\n",
       "<!-- 13 -->\n",
       "<g id=\"node14\" class=\"node\"><title>13</title>\n",
       "<path fill=\"#ffffff\" stroke=\"black\" d=\"M368,-253.5C368,-253.5 291,-253.5 291,-253.5 285,-253.5 279,-247.5 279,-241.5 279,-241.5 279,-212.5 279,-212.5 279,-206.5 285,-200.5 291,-200.5 291,-200.5 368,-200.5 368,-200.5 374,-200.5 380,-206.5 380,-212.5 380,-212.5 380,-241.5 380,-241.5 380,-247.5 374,-253.5 368,-253.5\"/>\n",
       "<text text-anchor=\"start\" x=\"293.5\" y=\"-238.3\" font-family=\"Helvetica,sans-Serif\" font-size=\"14.00\">mse = 0.0</text>\n",
       "<text text-anchor=\"start\" x=\"287\" y=\"-223.3\" font-family=\"Helvetica,sans-Serif\" font-size=\"14.00\">samples = 1</text>\n",
       "<text text-anchor=\"start\" x=\"288.5\" y=\"-208.3\" font-family=\"Helvetica,sans-Serif\" font-size=\"14.00\">value = 0.0</text>\n",
       "</g>\n",
       "<!-- 12&#45;&gt;13 -->\n",
       "<g id=\"edge13\" class=\"edge\"><title>12&#45;&gt;13</title>\n",
       "<path fill=\"none\" stroke=\"black\" d=\"M409.864,-296.884C396.135,-285.116 380.709,-271.894 367.071,-260.203\"/>\n",
       "<polygon fill=\"black\" stroke=\"black\" points=\"369.144,-257.37 359.273,-253.52 364.588,-262.685 369.144,-257.37\"/>\n",
       "</g>\n",
       "<!-- 14 -->\n",
       "<g id=\"node15\" class=\"node\"><title>14</title>\n",
       "<path fill=\"#e58139\" stroke=\"black\" d=\"M487,-253.5C487,-253.5 410,-253.5 410,-253.5 404,-253.5 398,-247.5 398,-241.5 398,-241.5 398,-212.5 398,-212.5 398,-206.5 404,-200.5 410,-200.5 410,-200.5 487,-200.5 487,-200.5 493,-200.5 499,-206.5 499,-212.5 499,-212.5 499,-241.5 499,-241.5 499,-247.5 493,-253.5 487,-253.5\"/>\n",
       "<text text-anchor=\"start\" x=\"412.5\" y=\"-238.3\" font-family=\"Helvetica,sans-Serif\" font-size=\"14.00\">mse = 0.0</text>\n",
       "<text text-anchor=\"start\" x=\"406\" y=\"-223.3\" font-family=\"Helvetica,sans-Serif\" font-size=\"14.00\">samples = 1</text>\n",
       "<text text-anchor=\"start\" x=\"407.5\" y=\"-208.3\" font-family=\"Helvetica,sans-Serif\" font-size=\"14.00\">value = 1.0</text>\n",
       "</g>\n",
       "<!-- 12&#45;&gt;14 -->\n",
       "<g id=\"edge14\" class=\"edge\"><title>12&#45;&gt;14</title>\n",
       "<path fill=\"none\" stroke=\"black\" d=\"M448.5,-296.884C448.5,-286.326 448.5,-274.597 448.5,-263.854\"/>\n",
       "<polygon fill=\"black\" stroke=\"black\" points=\"452,-263.52 448.5,-253.52 445,-263.52 452,-263.52\"/>\n",
       "</g>\n",
       "<!-- 16 -->\n",
       "<g id=\"node17\" class=\"node\"><title>16</title>\n",
       "<path fill=\"#fcefe6\" stroke=\"black\" d=\"M801.5,-469C801.5,-469 685.5,-469 685.5,-469 679.5,-469 673.5,-463 673.5,-457 673.5,-457 673.5,-413 673.5,-413 673.5,-407 679.5,-401 685.5,-401 685.5,-401 801.5,-401 801.5,-401 807.5,-401 813.5,-407 813.5,-413 813.5,-413 813.5,-457 813.5,-457 813.5,-463 807.5,-469 801.5,-469\"/>\n",
       "<text text-anchor=\"start\" x=\"681.5\" y=\"-453.8\" font-family=\"Helvetica,sans-Serif\" font-size=\"14.00\">trestbps ≤ &#45;1.292</text>\n",
       "<text text-anchor=\"start\" x=\"698.5\" y=\"-438.8\" font-family=\"Helvetica,sans-Serif\" font-size=\"14.00\">mse = 0.109</text>\n",
       "<text text-anchor=\"start\" x=\"696.5\" y=\"-423.8\" font-family=\"Helvetica,sans-Serif\" font-size=\"14.00\">samples = 16</text>\n",
       "<text text-anchor=\"start\" x=\"693.5\" y=\"-408.8\" font-family=\"Helvetica,sans-Serif\" font-size=\"14.00\">value = 0.125</text>\n",
       "</g>\n",
       "<!-- 15&#45;&gt;16 -->\n",
       "<g id=\"edge16\" class=\"edge\"><title>15&#45;&gt;16</title>\n",
       "<path fill=\"none\" stroke=\"black\" d=\"M744.851,-504.884C744.692,-496.778 744.519,-487.982 744.352,-479.472\"/>\n",
       "<polygon fill=\"black\" stroke=\"black\" points=\"747.848,-479.229 744.153,-469.299 740.85,-479.366 747.848,-479.229\"/>\n",
       "</g>\n",
       "<!-- 21 -->\n",
       "<g id=\"node22\" class=\"node\"><title>21</title>\n",
       "<path fill=\"#eead7f\" stroke=\"black\" d=\"M949,-469C949,-469 844,-469 844,-469 838,-469 832,-463 832,-457 832,-457 832,-413 832,-413 832,-407 838,-401 844,-401 844,-401 949,-401 949,-401 955,-401 961,-407 961,-413 961,-413 961,-457 961,-457 961,-463 955,-469 949,-469\"/>\n",
       "<text text-anchor=\"start\" x=\"840\" y=\"-453.8\" font-family=\"Helvetica,sans-Serif\" font-size=\"14.00\">thalach ≤ 0.037</text>\n",
       "<text text-anchor=\"start\" x=\"851.5\" y=\"-438.8\" font-family=\"Helvetica,sans-Serif\" font-size=\"14.00\">mse = 0.228</text>\n",
       "<text text-anchor=\"start\" x=\"849.5\" y=\"-423.8\" font-family=\"Helvetica,sans-Serif\" font-size=\"14.00\">samples = 17</text>\n",
       "<text text-anchor=\"start\" x=\"846.5\" y=\"-408.8\" font-family=\"Helvetica,sans-Serif\" font-size=\"14.00\">value = 0.647</text>\n",
       "</g>\n",
       "<!-- 15&#45;&gt;21 -->\n",
       "<g id=\"edge21\" class=\"edge\"><title>15&#45;&gt;21</title>\n",
       "<path fill=\"none\" stroke=\"black\" d=\"M794.525,-504.884C808.707,-495.304 824.315,-484.761 838.965,-474.864\"/>\n",
       "<polygon fill=\"black\" stroke=\"black\" points=\"841.135,-477.623 847.462,-469.125 837.217,-471.822 841.135,-477.623\"/>\n",
       "</g>\n",
       "<!-- 17 -->\n",
       "<g id=\"node18\" class=\"node\"><title>17</title>\n",
       "<path fill=\"#eeab7b\" stroke=\"black\" d=\"M669.5,-365C669.5,-365 577.5,-365 577.5,-365 571.5,-365 565.5,-359 565.5,-353 565.5,-353 565.5,-309 565.5,-309 565.5,-303 571.5,-297 577.5,-297 577.5,-297 669.5,-297 669.5,-297 675.5,-297 681.5,-303 681.5,-309 681.5,-309 681.5,-353 681.5,-353 681.5,-359 675.5,-365 669.5,-365\"/>\n",
       "<text text-anchor=\"start\" x=\"585\" y=\"-349.8\" font-family=\"Helvetica,sans-Serif\" font-size=\"14.00\">ca ≤ 0.755</text>\n",
       "<text text-anchor=\"start\" x=\"578.5\" y=\"-334.8\" font-family=\"Helvetica,sans-Serif\" font-size=\"14.00\">mse = 0.222</text>\n",
       "<text text-anchor=\"start\" x=\"581\" y=\"-319.8\" font-family=\"Helvetica,sans-Serif\" font-size=\"14.00\">samples = 3</text>\n",
       "<text text-anchor=\"start\" x=\"573.5\" y=\"-304.8\" font-family=\"Helvetica,sans-Serif\" font-size=\"14.00\">value = 0.667</text>\n",
       "</g>\n",
       "<!-- 16&#45;&gt;17 -->\n",
       "<g id=\"edge17\" class=\"edge\"><title>16&#45;&gt;17</title>\n",
       "<path fill=\"none\" stroke=\"black\" d=\"M704.539,-400.884C693.641,-391.62 681.682,-381.455 670.377,-371.845\"/>\n",
       "<polygon fill=\"black\" stroke=\"black\" points=\"672.562,-369.109 662.676,-365.299 668.028,-374.443 672.562,-369.109\"/>\n",
       "</g>\n",
       "<!-- 20 -->\n",
       "<g id=\"node21\" class=\"node\"><title>20</title>\n",
       "<path fill=\"#ffffff\" stroke=\"black\" d=\"M797.5,-357.5C797.5,-357.5 711.5,-357.5 711.5,-357.5 705.5,-357.5 699.5,-351.5 699.5,-345.5 699.5,-345.5 699.5,-316.5 699.5,-316.5 699.5,-310.5 705.5,-304.5 711.5,-304.5 711.5,-304.5 797.5,-304.5 797.5,-304.5 803.5,-304.5 809.5,-310.5 809.5,-316.5 809.5,-316.5 809.5,-345.5 809.5,-345.5 809.5,-351.5 803.5,-357.5 797.5,-357.5\"/>\n",
       "<text text-anchor=\"start\" x=\"718.5\" y=\"-342.3\" font-family=\"Helvetica,sans-Serif\" font-size=\"14.00\">mse = 0.0</text>\n",
       "<text text-anchor=\"start\" x=\"707.5\" y=\"-327.3\" font-family=\"Helvetica,sans-Serif\" font-size=\"14.00\">samples = 13</text>\n",
       "<text text-anchor=\"start\" x=\"713.5\" y=\"-312.3\" font-family=\"Helvetica,sans-Serif\" font-size=\"14.00\">value = 0.0</text>\n",
       "</g>\n",
       "<!-- 16&#45;&gt;20 -->\n",
       "<g id=\"edge20\" class=\"edge\"><title>16&#45;&gt;20</title>\n",
       "<path fill=\"none\" stroke=\"black\" d=\"M747.071,-400.884C748.222,-390.216 749.501,-378.352 750.67,-367.519\"/>\n",
       "<polygon fill=\"black\" stroke=\"black\" points=\"754.155,-367.838 751.748,-357.52 747.196,-367.087 754.155,-367.838\"/>\n",
       "</g>\n",
       "<!-- 18 -->\n",
       "<g id=\"node19\" class=\"node\"><title>18</title>\n",
       "<path fill=\"#ffffff\" stroke=\"black\" d=\"M606,-253.5C606,-253.5 529,-253.5 529,-253.5 523,-253.5 517,-247.5 517,-241.5 517,-241.5 517,-212.5 517,-212.5 517,-206.5 523,-200.5 529,-200.5 529,-200.5 606,-200.5 606,-200.5 612,-200.5 618,-206.5 618,-212.5 618,-212.5 618,-241.5 618,-241.5 618,-247.5 612,-253.5 606,-253.5\"/>\n",
       "<text text-anchor=\"start\" x=\"531.5\" y=\"-238.3\" font-family=\"Helvetica,sans-Serif\" font-size=\"14.00\">mse = 0.0</text>\n",
       "<text text-anchor=\"start\" x=\"525\" y=\"-223.3\" font-family=\"Helvetica,sans-Serif\" font-size=\"14.00\">samples = 1</text>\n",
       "<text text-anchor=\"start\" x=\"526.5\" y=\"-208.3\" font-family=\"Helvetica,sans-Serif\" font-size=\"14.00\">value = 0.0</text>\n",
       "</g>\n",
       "<!-- 17&#45;&gt;18 -->\n",
       "<g id=\"edge18\" class=\"edge\"><title>17&#45;&gt;18</title>\n",
       "<path fill=\"none\" stroke=\"black\" d=\"M605.318,-296.884C599.28,-285.886 592.545,-273.617 586.45,-262.517\"/>\n",
       "<polygon fill=\"black\" stroke=\"black\" points=\"589.392,-260.601 581.511,-253.52 583.256,-263.97 589.392,-260.601\"/>\n",
       "</g>\n",
       "<!-- 19 -->\n",
       "<g id=\"node20\" class=\"node\"><title>19</title>\n",
       "<path fill=\"#e58139\" stroke=\"black\" d=\"M725,-253.5C725,-253.5 648,-253.5 648,-253.5 642,-253.5 636,-247.5 636,-241.5 636,-241.5 636,-212.5 636,-212.5 636,-206.5 642,-200.5 648,-200.5 648,-200.5 725,-200.5 725,-200.5 731,-200.5 737,-206.5 737,-212.5 737,-212.5 737,-241.5 737,-241.5 737,-247.5 731,-253.5 725,-253.5\"/>\n",
       "<text text-anchor=\"start\" x=\"650.5\" y=\"-238.3\" font-family=\"Helvetica,sans-Serif\" font-size=\"14.00\">mse = 0.0</text>\n",
       "<text text-anchor=\"start\" x=\"644\" y=\"-223.3\" font-family=\"Helvetica,sans-Serif\" font-size=\"14.00\">samples = 2</text>\n",
       "<text text-anchor=\"start\" x=\"645.5\" y=\"-208.3\" font-family=\"Helvetica,sans-Serif\" font-size=\"14.00\">value = 1.0</text>\n",
       "</g>\n",
       "<!-- 17&#45;&gt;19 -->\n",
       "<g id=\"edge19\" class=\"edge\"><title>17&#45;&gt;19</title>\n",
       "<path fill=\"none\" stroke=\"black\" d=\"M643.954,-296.884C650.815,-285.776 658.476,-273.372 665.386,-262.184\"/>\n",
       "<polygon fill=\"black\" stroke=\"black\" points=\"668.461,-263.867 670.738,-253.52 662.505,-260.189 668.461,-263.867\"/>\n",
       "</g>\n",
       "<!-- 22 -->\n",
       "<g id=\"node23\" class=\"node\"><title>22</title>\n",
       "<path fill=\"#f8dbc6\" stroke=\"black\" d=\"M942.5,-365C942.5,-365 850.5,-365 850.5,-365 844.5,-365 838.5,-359 838.5,-353 838.5,-353 838.5,-309 838.5,-309 838.5,-303 844.5,-297 850.5,-297 850.5,-297 942.5,-297 942.5,-297 948.5,-297 954.5,-303 954.5,-309 954.5,-309 954.5,-353 954.5,-353 954.5,-359 948.5,-365 942.5,-365\"/>\n",
       "<text text-anchor=\"start\" x=\"855.5\" y=\"-349.8\" font-family=\"Helvetica,sans-Serif\" font-size=\"14.00\">fbs ≤ 0.988</text>\n",
       "<text text-anchor=\"start\" x=\"851.5\" y=\"-334.8\" font-family=\"Helvetica,sans-Serif\" font-size=\"14.00\">mse = 0.204</text>\n",
       "<text text-anchor=\"start\" x=\"854\" y=\"-319.8\" font-family=\"Helvetica,sans-Serif\" font-size=\"14.00\">samples = 7</text>\n",
       "<text text-anchor=\"start\" x=\"846.5\" y=\"-304.8\" font-family=\"Helvetica,sans-Serif\" font-size=\"14.00\">value = 0.286</text>\n",
       "</g>\n",
       "<!-- 21&#45;&gt;22 -->\n",
       "<g id=\"edge22\" class=\"edge\"><title>21&#45;&gt;22</title>\n",
       "<path fill=\"none\" stroke=\"black\" d=\"M896.5,-400.884C896.5,-392.778 896.5,-383.982 896.5,-375.472\"/>\n",
       "<polygon fill=\"black\" stroke=\"black\" points=\"900,-375.299 896.5,-365.299 893,-375.299 900,-375.299\"/>\n",
       "</g>\n",
       "<!-- 29 -->\n",
       "<g id=\"node30\" class=\"node\"><title>29</title>\n",
       "<path fill=\"#e88e4d\" stroke=\"black\" d=\"M1113,-365C1113,-365 1006,-365 1006,-365 1000,-365 994,-359 994,-353 994,-353 994,-309 994,-309 994,-303 1000,-297 1006,-297 1006,-297 1113,-297 1113,-297 1119,-297 1125,-303 1125,-309 1125,-309 1125,-353 1125,-353 1125,-359 1119,-365 1113,-365\"/>\n",
       "<text text-anchor=\"start\" x=\"1002\" y=\"-349.8\" font-family=\"Helvetica,sans-Serif\" font-size=\"14.00\">oldpeak ≤ 1.001</text>\n",
       "<text text-anchor=\"start\" x=\"1019\" y=\"-334.8\" font-family=\"Helvetica,sans-Serif\" font-size=\"14.00\">mse = 0.09</text>\n",
       "<text text-anchor=\"start\" x=\"1012.5\" y=\"-319.8\" font-family=\"Helvetica,sans-Serif\" font-size=\"14.00\">samples = 10</text>\n",
       "<text text-anchor=\"start\" x=\"1018.5\" y=\"-304.8\" font-family=\"Helvetica,sans-Serif\" font-size=\"14.00\">value = 0.9</text>\n",
       "</g>\n",
       "<!-- 21&#45;&gt;29 -->\n",
       "<g id=\"edge29\" class=\"edge\"><title>21&#45;&gt;29</title>\n",
       "<path fill=\"none\" stroke=\"black\" d=\"M949.421,-400.884C964.873,-391.214 981.894,-380.563 997.836,-370.587\"/>\n",
       "<polygon fill=\"black\" stroke=\"black\" points=\"999.945,-373.396 1006.57,-365.125 996.232,-367.462 999.945,-373.396\"/>\n",
       "</g>\n",
       "<!-- 23 -->\n",
       "<g id=\"node24\" class=\"node\"><title>23</title>\n",
       "<path fill=\"#fbeade\" stroke=\"black\" d=\"M859.5,-261C859.5,-261 767.5,-261 767.5,-261 761.5,-261 755.5,-255 755.5,-249 755.5,-249 755.5,-205 755.5,-205 755.5,-199 761.5,-193 767.5,-193 767.5,-193 859.5,-193 859.5,-193 865.5,-193 871.5,-199 871.5,-205 871.5,-205 871.5,-249 871.5,-249 871.5,-255 865.5,-261 859.5,-261\"/>\n",
       "<text text-anchor=\"start\" x=\"775\" y=\"-245.8\" font-family=\"Helvetica,sans-Serif\" font-size=\"14.00\">ca ≤ 1.734</text>\n",
       "<text text-anchor=\"start\" x=\"768.5\" y=\"-230.8\" font-family=\"Helvetica,sans-Serif\" font-size=\"14.00\">mse = 0.139</text>\n",
       "<text text-anchor=\"start\" x=\"771\" y=\"-215.8\" font-family=\"Helvetica,sans-Serif\" font-size=\"14.00\">samples = 6</text>\n",
       "<text text-anchor=\"start\" x=\"763.5\" y=\"-200.8\" font-family=\"Helvetica,sans-Serif\" font-size=\"14.00\">value = 0.167</text>\n",
       "</g>\n",
       "<!-- 22&#45;&gt;23 -->\n",
       "<g id=\"edge23\" class=\"edge\"><title>22&#45;&gt;23</title>\n",
       "<path fill=\"none\" stroke=\"black\" d=\"M869.552,-296.884C862.377,-288.065 854.536,-278.43 847.054,-269.235\"/>\n",
       "<polygon fill=\"black\" stroke=\"black\" points=\"849.623,-266.847 840.597,-261.299 844.193,-271.265 849.623,-266.847\"/>\n",
       "</g>\n",
       "<!-- 28 -->\n",
       "<g id=\"node29\" class=\"node\"><title>28</title>\n",
       "<path fill=\"#e58139\" stroke=\"black\" d=\"M979,-253.5C979,-253.5 902,-253.5 902,-253.5 896,-253.5 890,-247.5 890,-241.5 890,-241.5 890,-212.5 890,-212.5 890,-206.5 896,-200.5 902,-200.5 902,-200.5 979,-200.5 979,-200.5 985,-200.5 991,-206.5 991,-212.5 991,-212.5 991,-241.5 991,-241.5 991,-247.5 985,-253.5 979,-253.5\"/>\n",
       "<text text-anchor=\"start\" x=\"904.5\" y=\"-238.3\" font-family=\"Helvetica,sans-Serif\" font-size=\"14.00\">mse = 0.0</text>\n",
       "<text text-anchor=\"start\" x=\"898\" y=\"-223.3\" font-family=\"Helvetica,sans-Serif\" font-size=\"14.00\">samples = 1</text>\n",
       "<text text-anchor=\"start\" x=\"899.5\" y=\"-208.3\" font-family=\"Helvetica,sans-Serif\" font-size=\"14.00\">value = 1.0</text>\n",
       "</g>\n",
       "<!-- 22&#45;&gt;28 -->\n",
       "<g id=\"edge28\" class=\"edge\"><title>22&#45;&gt;28</title>\n",
       "<path fill=\"none\" stroke=\"black\" d=\"M910.786,-296.884C915.482,-285.996 920.716,-273.863 925.467,-262.85\"/>\n",
       "<polygon fill=\"black\" stroke=\"black\" points=\"928.744,-264.088 929.491,-253.52 922.317,-261.316 928.744,-264.088\"/>\n",
       "</g>\n",
       "<!-- 24 -->\n",
       "<g id=\"node25\" class=\"node\"><title>24</title>\n",
       "<path fill=\"#ffffff\" stroke=\"black\" d=\"M791,-149.5C791,-149.5 714,-149.5 714,-149.5 708,-149.5 702,-143.5 702,-137.5 702,-137.5 702,-108.5 702,-108.5 702,-102.5 708,-96.5 714,-96.5 714,-96.5 791,-96.5 791,-96.5 797,-96.5 803,-102.5 803,-108.5 803,-108.5 803,-137.5 803,-137.5 803,-143.5 797,-149.5 791,-149.5\"/>\n",
       "<text text-anchor=\"start\" x=\"716.5\" y=\"-134.3\" font-family=\"Helvetica,sans-Serif\" font-size=\"14.00\">mse = 0.0</text>\n",
       "<text text-anchor=\"start\" x=\"710\" y=\"-119.3\" font-family=\"Helvetica,sans-Serif\" font-size=\"14.00\">samples = 4</text>\n",
       "<text text-anchor=\"start\" x=\"711.5\" y=\"-104.3\" font-family=\"Helvetica,sans-Serif\" font-size=\"14.00\">value = 0.0</text>\n",
       "</g>\n",
       "<!-- 23&#45;&gt;24 -->\n",
       "<g id=\"edge24\" class=\"edge\"><title>23&#45;&gt;24</title>\n",
       "<path fill=\"none\" stroke=\"black\" d=\"M793.695,-192.884C787.052,-181.776 779.634,-169.372 772.943,-158.184\"/>\n",
       "<polygon fill=\"black\" stroke=\"black\" points=\"775.898,-156.306 767.762,-149.52 769.891,-159.899 775.898,-156.306\"/>\n",
       "</g>\n",
       "<!-- 25 -->\n",
       "<g id=\"node26\" class=\"node\"><title>25</title>\n",
       "<path fill=\"#f2c09c\" stroke=\"black\" d=\"M914,-157C914,-157 833,-157 833,-157 827,-157 821,-151 821,-145 821,-145 821,-101 821,-101 821,-95 827,-89 833,-89 833,-89 914,-89 914,-89 920,-89 926,-95 926,-101 926,-101 926,-145 926,-145 926,-151 920,-157 914,-157\"/>\n",
       "<text text-anchor=\"start\" x=\"829\" y=\"-141.8\" font-family=\"Helvetica,sans-Serif\" font-size=\"14.00\">thal ≤ 0.305</text>\n",
       "<text text-anchor=\"start\" x=\"833\" y=\"-126.8\" font-family=\"Helvetica,sans-Serif\" font-size=\"14.00\">mse = 0.25</text>\n",
       "<text text-anchor=\"start\" x=\"831\" y=\"-111.8\" font-family=\"Helvetica,sans-Serif\" font-size=\"14.00\">samples = 2</text>\n",
       "<text text-anchor=\"start\" x=\"832.5\" y=\"-96.8\" font-family=\"Helvetica,sans-Serif\" font-size=\"14.00\">value = 0.5</text>\n",
       "</g>\n",
       "<!-- 23&#45;&gt;25 -->\n",
       "<g id=\"edge25\" class=\"edge\"><title>23&#45;&gt;25</title>\n",
       "<path fill=\"none\" stroke=\"black\" d=\"M832.98,-192.884C838.01,-184.332 843.492,-175.013 848.752,-166.072\"/>\n",
       "<polygon fill=\"black\" stroke=\"black\" points=\"851.859,-167.693 853.912,-157.299 845.825,-164.144 851.859,-167.693\"/>\n",
       "</g>\n",
       "<!-- 26 -->\n",
       "<g id=\"node27\" class=\"node\"><title>26</title>\n",
       "<path fill=\"#ffffff\" stroke=\"black\" d=\"M852,-53C852,-53 775,-53 775,-53 769,-53 763,-47 763,-41 763,-41 763,-12 763,-12 763,-6 769,-0 775,-0 775,-0 852,-0 852,-0 858,-0 864,-6 864,-12 864,-12 864,-41 864,-41 864,-47 858,-53 852,-53\"/>\n",
       "<text text-anchor=\"start\" x=\"777.5\" y=\"-37.8\" font-family=\"Helvetica,sans-Serif\" font-size=\"14.00\">mse = 0.0</text>\n",
       "<text text-anchor=\"start\" x=\"771\" y=\"-22.8\" font-family=\"Helvetica,sans-Serif\" font-size=\"14.00\">samples = 1</text>\n",
       "<text text-anchor=\"start\" x=\"772.5\" y=\"-7.8\" font-family=\"Helvetica,sans-Serif\" font-size=\"14.00\">value = 0.0</text>\n",
       "</g>\n",
       "<!-- 25&#45;&gt;26 -->\n",
       "<g id=\"edge26\" class=\"edge\"><title>25&#45;&gt;26</title>\n",
       "<path fill=\"none\" stroke=\"black\" d=\"M852.515,-88.9485C846.939,-80.1664 840.905,-70.6629 835.287,-61.815\"/>\n",
       "<polygon fill=\"black\" stroke=\"black\" points=\"838.156,-59.8028 829.841,-53.2367 832.246,-63.5549 838.156,-59.8028\"/>\n",
       "</g>\n",
       "<!-- 27 -->\n",
       "<g id=\"node28\" class=\"node\"><title>27</title>\n",
       "<path fill=\"#e58139\" stroke=\"black\" d=\"M971,-53C971,-53 894,-53 894,-53 888,-53 882,-47 882,-41 882,-41 882,-12 882,-12 882,-6 888,-0 894,-0 894,-0 971,-0 971,-0 977,-0 983,-6 983,-12 983,-12 983,-41 983,-41 983,-47 977,-53 971,-53\"/>\n",
       "<text text-anchor=\"start\" x=\"896.5\" y=\"-37.8\" font-family=\"Helvetica,sans-Serif\" font-size=\"14.00\">mse = 0.0</text>\n",
       "<text text-anchor=\"start\" x=\"890\" y=\"-22.8\" font-family=\"Helvetica,sans-Serif\" font-size=\"14.00\">samples = 1</text>\n",
       "<text text-anchor=\"start\" x=\"891.5\" y=\"-7.8\" font-family=\"Helvetica,sans-Serif\" font-size=\"14.00\">value = 1.0</text>\n",
       "</g>\n",
       "<!-- 25&#45;&gt;27 -->\n",
       "<g id=\"edge27\" class=\"edge\"><title>25&#45;&gt;27</title>\n",
       "<path fill=\"none\" stroke=\"black\" d=\"M894.135,-88.9485C899.618,-80.1664 905.552,-70.6629 911.076,-61.815\"/>\n",
       "<polygon fill=\"black\" stroke=\"black\" points=\"914.104,-63.5728 916.432,-53.2367 908.167,-59.8656 914.104,-63.5728\"/>\n",
       "</g>\n",
       "<!-- 30 -->\n",
       "<g id=\"node31\" class=\"node\"><title>30</title>\n",
       "<path fill=\"#e58139\" stroke=\"black\" d=\"M1098,-253.5C1098,-253.5 1021,-253.5 1021,-253.5 1015,-253.5 1009,-247.5 1009,-241.5 1009,-241.5 1009,-212.5 1009,-212.5 1009,-206.5 1015,-200.5 1021,-200.5 1021,-200.5 1098,-200.5 1098,-200.5 1104,-200.5 1110,-206.5 1110,-212.5 1110,-212.5 1110,-241.5 1110,-241.5 1110,-247.5 1104,-253.5 1098,-253.5\"/>\n",
       "<text text-anchor=\"start\" x=\"1023.5\" y=\"-238.3\" font-family=\"Helvetica,sans-Serif\" font-size=\"14.00\">mse = 0.0</text>\n",
       "<text text-anchor=\"start\" x=\"1017\" y=\"-223.3\" font-family=\"Helvetica,sans-Serif\" font-size=\"14.00\">samples = 9</text>\n",
       "<text text-anchor=\"start\" x=\"1018.5\" y=\"-208.3\" font-family=\"Helvetica,sans-Serif\" font-size=\"14.00\">value = 1.0</text>\n",
       "</g>\n",
       "<!-- 29&#45;&gt;30 -->\n",
       "<g id=\"edge30\" class=\"edge\"><title>29&#45;&gt;30</title>\n",
       "<path fill=\"none\" stroke=\"black\" d=\"M1059.5,-296.884C1059.5,-286.326 1059.5,-274.597 1059.5,-263.854\"/>\n",
       "<polygon fill=\"black\" stroke=\"black\" points=\"1063,-263.52 1059.5,-253.52 1056,-263.52 1063,-263.52\"/>\n",
       "</g>\n",
       "<!-- 31 -->\n",
       "<g id=\"node32\" class=\"node\"><title>31</title>\n",
       "<path fill=\"#ffffff\" stroke=\"black\" d=\"M1217,-253.5C1217,-253.5 1140,-253.5 1140,-253.5 1134,-253.5 1128,-247.5 1128,-241.5 1128,-241.5 1128,-212.5 1128,-212.5 1128,-206.5 1134,-200.5 1140,-200.5 1140,-200.5 1217,-200.5 1217,-200.5 1223,-200.5 1229,-206.5 1229,-212.5 1229,-212.5 1229,-241.5 1229,-241.5 1229,-247.5 1223,-253.5 1217,-253.5\"/>\n",
       "<text text-anchor=\"start\" x=\"1142.5\" y=\"-238.3\" font-family=\"Helvetica,sans-Serif\" font-size=\"14.00\">mse = 0.0</text>\n",
       "<text text-anchor=\"start\" x=\"1136\" y=\"-223.3\" font-family=\"Helvetica,sans-Serif\" font-size=\"14.00\">samples = 1</text>\n",
       "<text text-anchor=\"start\" x=\"1137.5\" y=\"-208.3\" font-family=\"Helvetica,sans-Serif\" font-size=\"14.00\">value = 0.0</text>\n",
       "</g>\n",
       "<!-- 29&#45;&gt;31 -->\n",
       "<g id=\"edge31\" class=\"edge\"><title>29&#45;&gt;31</title>\n",
       "<path fill=\"none\" stroke=\"black\" d=\"M1098.14,-296.884C1111.86,-285.116 1127.29,-271.894 1140.93,-260.203\"/>\n",
       "<polygon fill=\"black\" stroke=\"black\" points=\"1143.41,-262.685 1148.73,-253.52 1138.86,-257.37 1143.41,-262.685\"/>\n",
       "</g>\n",
       "<!-- 33 -->\n",
       "<g id=\"node34\" class=\"node\"><title>33</title>\n",
       "<path fill=\"#ffffff\" stroke=\"black\" d=\"M929.5,-565.5C929.5,-565.5 843.5,-565.5 843.5,-565.5 837.5,-565.5 831.5,-559.5 831.5,-553.5 831.5,-553.5 831.5,-524.5 831.5,-524.5 831.5,-518.5 837.5,-512.5 843.5,-512.5 843.5,-512.5 929.5,-512.5 929.5,-512.5 935.5,-512.5 941.5,-518.5 941.5,-524.5 941.5,-524.5 941.5,-553.5 941.5,-553.5 941.5,-559.5 935.5,-565.5 929.5,-565.5\"/>\n",
       "<text text-anchor=\"start\" x=\"850.5\" y=\"-550.3\" font-family=\"Helvetica,sans-Serif\" font-size=\"14.00\">mse = 0.0</text>\n",
       "<text text-anchor=\"start\" x=\"839.5\" y=\"-535.3\" font-family=\"Helvetica,sans-Serif\" font-size=\"14.00\">samples = 38</text>\n",
       "<text text-anchor=\"start\" x=\"845.5\" y=\"-520.3\" font-family=\"Helvetica,sans-Serif\" font-size=\"14.00\">value = 0.0</text>\n",
       "</g>\n",
       "<!-- 32&#45;&gt;33 -->\n",
       "<g id=\"edge33\" class=\"edge\"><title>32&#45;&gt;33</title>\n",
       "<path fill=\"none\" stroke=\"black\" d=\"M886.5,-608.884C886.5,-598.326 886.5,-586.597 886.5,-575.854\"/>\n",
       "<polygon fill=\"black\" stroke=\"black\" points=\"890,-575.52 886.5,-565.52 883,-575.52 890,-575.52\"/>\n",
       "</g>\n",
       "<!-- 34 -->\n",
       "<g id=\"node35\" class=\"node\"><title>34</title>\n",
       "<path fill=\"#eca572\" stroke=\"black\" d=\"M1084.5,-573C1084.5,-573 974.5,-573 974.5,-573 968.5,-573 962.5,-567 962.5,-561 962.5,-561 962.5,-517 962.5,-517 962.5,-511 968.5,-505 974.5,-505 974.5,-505 1084.5,-505 1084.5,-505 1090.5,-505 1096.5,-511 1096.5,-517 1096.5,-517 1096.5,-561 1096.5,-561 1096.5,-567 1090.5,-573 1084.5,-573\"/>\n",
       "<text text-anchor=\"start\" x=\"970.5\" y=\"-557.8\" font-family=\"Helvetica,sans-Serif\" font-size=\"14.00\">trestbps ≤ 1.335</text>\n",
       "<text text-anchor=\"start\" x=\"984.5\" y=\"-542.8\" font-family=\"Helvetica,sans-Serif\" font-size=\"14.00\">mse = 0.204</text>\n",
       "<text text-anchor=\"start\" x=\"987\" y=\"-527.8\" font-family=\"Helvetica,sans-Serif\" font-size=\"14.00\">samples = 7</text>\n",
       "<text text-anchor=\"start\" x=\"979.5\" y=\"-512.8\" font-family=\"Helvetica,sans-Serif\" font-size=\"14.00\">value = 0.714</text>\n",
       "</g>\n",
       "<!-- 32&#45;&gt;34 -->\n",
       "<g id=\"edge34\" class=\"edge\"><title>32&#45;&gt;34</title>\n",
       "<path fill=\"none\" stroke=\"black\" d=\"M932.928,-608.884C946.165,-599.442 960.715,-589.064 974.415,-579.292\"/>\n",
       "<polygon fill=\"black\" stroke=\"black\" points=\"976.707,-581.956 982.816,-573.299 972.642,-576.257 976.707,-581.956\"/>\n",
       "</g>\n",
       "<!-- 35 -->\n",
       "<g id=\"node36\" class=\"node\"><title>35</title>\n",
       "<path fill=\"#e58139\" stroke=\"black\" d=\"M1068,-461.5C1068,-461.5 991,-461.5 991,-461.5 985,-461.5 979,-455.5 979,-449.5 979,-449.5 979,-420.5 979,-420.5 979,-414.5 985,-408.5 991,-408.5 991,-408.5 1068,-408.5 1068,-408.5 1074,-408.5 1080,-414.5 1080,-420.5 1080,-420.5 1080,-449.5 1080,-449.5 1080,-455.5 1074,-461.5 1068,-461.5\"/>\n",
       "<text text-anchor=\"start\" x=\"993.5\" y=\"-446.3\" font-family=\"Helvetica,sans-Serif\" font-size=\"14.00\">mse = 0.0</text>\n",
       "<text text-anchor=\"start\" x=\"987\" y=\"-431.3\" font-family=\"Helvetica,sans-Serif\" font-size=\"14.00\">samples = 5</text>\n",
       "<text text-anchor=\"start\" x=\"988.5\" y=\"-416.3\" font-family=\"Helvetica,sans-Serif\" font-size=\"14.00\">value = 1.0</text>\n",
       "</g>\n",
       "<!-- 34&#45;&gt;35 -->\n",
       "<g id=\"edge35\" class=\"edge\"><title>34&#45;&gt;35</title>\n",
       "<path fill=\"none\" stroke=\"black\" d=\"M1029.5,-504.884C1029.5,-494.326 1029.5,-482.597 1029.5,-471.854\"/>\n",
       "<polygon fill=\"black\" stroke=\"black\" points=\"1033,-471.52 1029.5,-461.52 1026,-471.52 1033,-471.52\"/>\n",
       "</g>\n",
       "<!-- 36 -->\n",
       "<g id=\"node37\" class=\"node\"><title>36</title>\n",
       "<path fill=\"#ffffff\" stroke=\"black\" d=\"M1187,-461.5C1187,-461.5 1110,-461.5 1110,-461.5 1104,-461.5 1098,-455.5 1098,-449.5 1098,-449.5 1098,-420.5 1098,-420.5 1098,-414.5 1104,-408.5 1110,-408.5 1110,-408.5 1187,-408.5 1187,-408.5 1193,-408.5 1199,-414.5 1199,-420.5 1199,-420.5 1199,-449.5 1199,-449.5 1199,-455.5 1193,-461.5 1187,-461.5\"/>\n",
       "<text text-anchor=\"start\" x=\"1112.5\" y=\"-446.3\" font-family=\"Helvetica,sans-Serif\" font-size=\"14.00\">mse = 0.0</text>\n",
       "<text text-anchor=\"start\" x=\"1106\" y=\"-431.3\" font-family=\"Helvetica,sans-Serif\" font-size=\"14.00\">samples = 2</text>\n",
       "<text text-anchor=\"start\" x=\"1107.5\" y=\"-416.3\" font-family=\"Helvetica,sans-Serif\" font-size=\"14.00\">value = 0.0</text>\n",
       "</g>\n",
       "<!-- 34&#45;&gt;36 -->\n",
       "<g id=\"edge36\" class=\"edge\"><title>34&#45;&gt;36</title>\n",
       "<path fill=\"none\" stroke=\"black\" d=\"M1068.14,-504.884C1081.86,-493.116 1097.29,-479.894 1110.93,-468.203\"/>\n",
       "<polygon fill=\"black\" stroke=\"black\" points=\"1113.41,-470.685 1118.73,-461.52 1108.86,-465.37 1113.41,-470.685\"/>\n",
       "</g>\n",
       "</g>\n",
       "</svg>\n"
      ],
      "text/plain": [
       "<graphviz.files.Source at 0x7f1faecb9cf8>"
      ]
     },
     "execution_count": 101,
     "metadata": {},
     "output_type": "execute_result"
    }
   ],
   "source": [
    "dot_data = export_graphviz(reg, out_file=None, feature_names=columns,\n",
    "                           filled=True, rounded=True,\n",
    "                           special_characters=True)\n",
    "graph = graphviz.Source(dot_data)\n",
    "graph"
   ]
  },
  {
   "cell_type": "markdown",
   "metadata": {},
   "source": [
    "Такое дерево уже можно анализировать. Видно, что сгенерировалось огромное множество различных условий, и, фактически, модель переобучена, но с другой стороны дерево решений и не могло быть построено иначе для задачи регрессии. К тому же на тестовой выборке данное дерево работает также довольно хорошо, так что оно имеет право на существование. Особенно при том, что у нас стоит задача классификации."
   ]
  },
  {
   "cell_type": "code",
   "execution_count": null,
   "metadata": {},
   "outputs": [],
   "source": []
  }
 ],
 "metadata": {
  "authors": [
   {
    "name": "Лясковский Максим Альбертович"
   }
  ],
  "group": "ИУ5-24М",
  "kernelspec": {
   "display_name": "Python 3",
   "language": "python",
   "name": "python3"
  },
  "lab_number": 5,
  "language_info": {
   "codemirror_mode": {
    "name": "ipython",
    "version": 3
   },
   "file_extension": ".py",
   "mimetype": "text/x-python",
   "name": "python",
   "nbconvert_exporter": "python",
   "pygments_lexer": "ipython3",
   "version": "3.6.8"
  },
  "title": "Линейные модели, SVM и деревья решений"
 },
 "nbformat": 4,
 "nbformat_minor": 2
}
